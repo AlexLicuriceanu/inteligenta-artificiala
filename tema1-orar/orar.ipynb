{
 "cells": [
  {
   "cell_type": "markdown",
   "metadata": {},
   "source": [
    "# Tema 1 IA - Class Scheduler\n",
    "### Alexandru LICURICEANU - 332CD"
   ]
  },
  {
   "cell_type": "code",
   "execution_count": 424,
   "metadata": {},
   "outputs": [],
   "source": [
    "# Prerequisites\n",
    "import utils\n",
    "import itertools\n",
    "import numpy as np\n",
    "from copy import copy, deepcopy\n",
    "from heapq import heappop, heappush\n",
    "\n",
    "from utils import ZILE as DAYS\n",
    "from utils import INTERVALE as INTERVALS\n",
    "from utils import SALI as CLASSROOMS\n",
    "from utils import MATERII as SUBJECTS\n",
    "from utils import PROFESORI as TEACHERS\n",
    "\n",
    "CONSTRAINTS = 'Constrangeri'\n",
    "PREFERRED = 'Preferred'\n",
    "NOT_PREFERRED = 'Not_preferred'"
   ]
  },
  {
   "cell_type": "markdown",
   "metadata": {},
   "source": [
    "A* approach"
   ]
  },
  {
   "cell_type": "code",
   "execution_count": 425,
   "metadata": {},
   "outputs": [
    {
     "name": "stdout",
     "output_type": "stream",
     "text": [
      "[{'Luni': {'(8, 10)': {'EG324': ('Andreea Dinu', 'IA'), 'EG390': None}, '(10, 12)': {'EG324': None, 'EG390': None}, '(12, 14)': {'EG324': None, 'EG390': None}}, 'Marti': {'(8, 10)': {'EG324': None, 'EG390': None}, '(10, 12)': {'EG324': None, 'EG390': None}, '(12, 14)': {'EG324': None, 'EG390': None}}, 'Miercuri': {'(8, 10)': {'EG324': None, 'EG390': None}, '(10, 12)': {'EG324': None, 'EG390': None}, '(12, 14)': {'EG324': None, 'EG390': None}}}, {'Luni': {'(8, 10)': {'EG324': ('Pavel Filipescu', 'IA'), 'EG390': None}, '(10, 12)': {'EG324': None, 'EG390': None}, '(12, 14)': {'EG324': None, 'EG390': None}}, 'Marti': {'(8, 10)': {'EG324': None, 'EG390': None}, '(10, 12)': {'EG324': None, 'EG390': None}, '(12, 14)': {'EG324': None, 'EG390': None}}, 'Miercuri': {'(8, 10)': {'EG324': None, 'EG390': None}, '(10, 12)': {'EG324': None, 'EG390': None}, '(12, 14)': {'EG324': None, 'EG390': None}}}, {'Luni': {'(8, 10)': {'EG324': None, 'EG390': None}, '(10, 12)': {'EG324': ('Andreea Dinu', 'IA'), 'EG390': None}, '(12, 14)': {'EG324': None, 'EG390': None}}, 'Marti': {'(8, 10)': {'EG324': None, 'EG390': None}, '(10, 12)': {'EG324': None, 'EG390': None}, '(12, 14)': {'EG324': None, 'EG390': None}}, 'Miercuri': {'(8, 10)': {'EG324': None, 'EG390': None}, '(10, 12)': {'EG324': None, 'EG390': None}, '(12, 14)': {'EG324': None, 'EG390': None}}}, {'Luni': {'(8, 10)': {'EG324': None, 'EG390': None}, '(10, 12)': {'EG324': ('Pavel Filipescu', 'IA'), 'EG390': None}, '(12, 14)': {'EG324': None, 'EG390': None}}, 'Marti': {'(8, 10)': {'EG324': None, 'EG390': None}, '(10, 12)': {'EG324': None, 'EG390': None}, '(12, 14)': {'EG324': None, 'EG390': None}}, 'Miercuri': {'(8, 10)': {'EG324': None, 'EG390': None}, '(10, 12)': {'EG324': None, 'EG390': None}, '(12, 14)': {'EG324': None, 'EG390': None}}}, {'Luni': {'(8, 10)': {'EG324': None, 'EG390': None}, '(10, 12)': {'EG324': None, 'EG390': None}, '(12, 14)': {'EG324': ('Andreea Dinu', 'IA'), 'EG390': None}}, 'Marti': {'(8, 10)': {'EG324': None, 'EG390': None}, '(10, 12)': {'EG324': None, 'EG390': None}, '(12, 14)': {'EG324': None, 'EG390': None}}, 'Miercuri': {'(8, 10)': {'EG324': None, 'EG390': None}, '(10, 12)': {'EG324': None, 'EG390': None}, '(12, 14)': {'EG324': None, 'EG390': None}}}, {'Luni': {'(8, 10)': {'EG324': None, 'EG390': None}, '(10, 12)': {'EG324': None, 'EG390': None}, '(12, 14)': {'EG324': ('Pavel Filipescu', 'IA'), 'EG390': None}}, 'Marti': {'(8, 10)': {'EG324': None, 'EG390': None}, '(10, 12)': {'EG324': None, 'EG390': None}, '(12, 14)': {'EG324': None, 'EG390': None}}, 'Miercuri': {'(8, 10)': {'EG324': None, 'EG390': None}, '(10, 12)': {'EG324': None, 'EG390': None}, '(12, 14)': {'EG324': None, 'EG390': None}}}, {'Luni': {'(8, 10)': {'EG324': None, 'EG390': None}, '(10, 12)': {'EG324': None, 'EG390': None}, '(12, 14)': {'EG324': None, 'EG390': None}}, 'Marti': {'(8, 10)': {'EG324': ('Andreea Dinu', 'IA'), 'EG390': None}, '(10, 12)': {'EG324': None, 'EG390': None}, '(12, 14)': {'EG324': None, 'EG390': None}}, 'Miercuri': {'(8, 10)': {'EG324': None, 'EG390': None}, '(10, 12)': {'EG324': None, 'EG390': None}, '(12, 14)': {'EG324': None, 'EG390': None}}}, {'Luni': {'(8, 10)': {'EG324': None, 'EG390': None}, '(10, 12)': {'EG324': None, 'EG390': None}, '(12, 14)': {'EG324': None, 'EG390': None}}, 'Marti': {'(8, 10)': {'EG324': None, 'EG390': None}, '(10, 12)': {'EG324': ('Andreea Dinu', 'IA'), 'EG390': None}, '(12, 14)': {'EG324': None, 'EG390': None}}, 'Miercuri': {'(8, 10)': {'EG324': None, 'EG390': None}, '(10, 12)': {'EG324': None, 'EG390': None}, '(12, 14)': {'EG324': None, 'EG390': None}}}, {'Luni': {'(8, 10)': {'EG324': None, 'EG390': None}, '(10, 12)': {'EG324': None, 'EG390': None}, '(12, 14)': {'EG324': None, 'EG390': None}}, 'Marti': {'(8, 10)': {'EG324': None, 'EG390': None}, '(10, 12)': {'EG324': None, 'EG390': None}, '(12, 14)': {'EG324': ('Andreea Dinu', 'IA'), 'EG390': None}}, 'Miercuri': {'(8, 10)': {'EG324': None, 'EG390': None}, '(10, 12)': {'EG324': None, 'EG390': None}, '(12, 14)': {'EG324': None, 'EG390': None}}}, {'Luni': {'(8, 10)': {'EG324': None, 'EG390': None}, '(10, 12)': {'EG324': None, 'EG390': None}, '(12, 14)': {'EG324': None, 'EG390': None}}, 'Marti': {'(8, 10)': {'EG324': None, 'EG390': None}, '(10, 12)': {'EG324': None, 'EG390': None}, '(12, 14)': {'EG324': None, 'EG390': None}}, 'Miercuri': {'(8, 10)': {'EG324': ('Pavel Filipescu', 'IA'), 'EG390': None}, '(10, 12)': {'EG324': None, 'EG390': None}, '(12, 14)': {'EG324': None, 'EG390': None}}}, {'Luni': {'(8, 10)': {'EG324': None, 'EG390': None}, '(10, 12)': {'EG324': None, 'EG390': None}, '(12, 14)': {'EG324': None, 'EG390': None}}, 'Marti': {'(8, 10)': {'EG324': None, 'EG390': None}, '(10, 12)': {'EG324': None, 'EG390': None}, '(12, 14)': {'EG324': None, 'EG390': None}}, 'Miercuri': {'(8, 10)': {'EG324': None, 'EG390': None}, '(10, 12)': {'EG324': ('Pavel Filipescu', 'IA'), 'EG390': None}, '(12, 14)': {'EG324': None, 'EG390': None}}}, {'Luni': {'(8, 10)': {'EG324': None, 'EG390': None}, '(10, 12)': {'EG324': None, 'EG390': None}, '(12, 14)': {'EG324': None, 'EG390': None}}, 'Marti': {'(8, 10)': {'EG324': None, 'EG390': None}, '(10, 12)': {'EG324': None, 'EG390': None}, '(12, 14)': {'EG324': None, 'EG390': None}}, 'Miercuri': {'(8, 10)': {'EG324': None, 'EG390': None}, '(10, 12)': {'EG324': None, 'EG390': None}, '(12, 14)': {'EG324': ('Pavel Filipescu', 'IA'), 'EG390': None}}}]\n",
      "\n",
      "\n"
     ]
    }
   ],
   "source": [
    "def init_empty_timetable(data):\n",
    "    '''Returns an empty timetable.'''\n",
    "    timetable = {day: {interval: {classroom: None for classroom in data[CLASSROOMS]} for interval in data[INTERVALS]} for day in data[DAYS]}\n",
    "    return timetable\n",
    "\n",
    "def generate_next_states(state, subject, data):\n",
    "    '''Generate the neighbors of the current state.'''\n",
    "    \n",
    "    '''Identify all empty slots in the timetable where a subject can be assigned.\n",
    "        For each empty slot, try assigning all possible combinations of teachers and subjects that satisfy the hard constraints.\n",
    "        Check each assignment to ensure that it doesn't violate any of the hard constraints.\n",
    "        If a valid assignment is found, create a new state representing the timetable with the assignment made.\n",
    "        Repeat this process for all empty slots, generating a list of all possible neighbor states.'''\n",
    "    \n",
    "    next_states = []\n",
    "\n",
    "    for day in data[DAYS]:\n",
    "        for interval in data[INTERVALS]:\n",
    "            for classroom in data[CLASSROOMS]:\n",
    "                if state[day][interval][classroom] is None:\n",
    "                    for teacher in data[TEACHERS]:\n",
    "                        if subject in data[CLASSROOMS][classroom][SUBJECTS] and subject in data[TEACHERS][teacher][SUBJECTS]: \n",
    "                            new_state = deepcopy(state)\n",
    "                            new_state[day][interval][classroom] = (teacher, subject)\n",
    "\n",
    "                            if check_harder_constraints(new_state, data, day, interval, classroom, teacher, subject) == 0:\n",
    "                                next_states.append(new_state)\n",
    "                            \n",
    "\n",
    "    return next_states\n",
    "\n",
    "def check_harder_constraints(state, data, day, interval, classroom, teacher, subject):\n",
    "    # Check if two classrooms overlap.\n",
    "  \n",
    "    # Check if a teacher is assigned to two different classrooms at the same time.\n",
    "\n",
    "                    \n",
    "    # Check if a teacher is assigned to maximum 7 classes per week.\n",
    "        \n",
    "    # Check if the teacher was assigned to a preferred interval and day.\n",
    "    if day in data[PREFERRED][teacher] and interval in data[PREFERRED][teacher]:\n",
    "        return 0\n",
    "    return 1\n",
    "        \n",
    "    \n",
    "\n",
    "def astar(initial_state, h, is_final, data):\n",
    "    state = generate_next_states(initial_state, 'IA', data)\n",
    "    print(state)\n",
    "    print('\\n')\n",
    "    \n",
    "\n",
    "    return initial_state\n",
    "\n",
    "test_astar()\n"
   ]
  },
  {
   "cell_type": "code",
   "execution_count": 426,
   "metadata": {},
   "outputs": [],
   "source": [
    "def run_astar(input_file):\n",
    "    # Read input data.\n",
    "    data = utils.read_yaml_file(input_file)\n",
    "\n",
    "    # Sort subjects by number of students.\n",
    "    data[SUBJECTS] = dict(sorted(data[SUBJECTS].items(), key=lambda item: item[1]))\n",
    "\n",
    "    preferred = {}\n",
    "    not_preferred = {}\n",
    "\n",
    "    for teacher in data[TEACHERS]:\n",
    "        preferred[teacher] = [constraint for constraint in data[TEACHERS][teacher][CONSTRAINTS] if not constraint.startswith('!')]\n",
    "        not_preferred[teacher] = [constraint for constraint in data[TEACHERS][teacher][CONSTRAINTS] if constraint.startswith('!')]\n",
    "\n",
    "    data[PREFERRED] = preferred\n",
    "    data[NOT_PREFERRED] = not_preferred\n",
    "    \n",
    "    # Initialize the empty timetable.\n",
    "    initial_state = init_empty_timetable(data)\n",
    "\n",
    "    # Run the A* algorithm.    \n",
    "    return astar(initial_state, None, None, data)"
   ]
  },
  {
   "cell_type": "code",
   "execution_count": 427,
   "metadata": {},
   "outputs": [],
   "source": [
    "input_files = ['dummy.yaml']\n",
    "\n",
    "def transform_intervals(timetable):\n",
    "    '''Function that transforms the intervals of the timetable from strings to tuples,\n",
    "    in order to work with the utils.pretty_print function.'''\n",
    "\n",
    "    new_timetable = {}\n",
    "\n",
    "    for day in timetable:\n",
    "        new_timetable[day] = {}\n",
    "\n",
    "        for interval in timetable[day]:\n",
    "            temp = interval.strip('()').split(',')\n",
    "            new_interval = (int(temp[0]), int(temp[1]))\n",
    "            new_timetable[day][new_interval] = timetable[day][interval]\n",
    "\n",
    "    return new_timetable\n",
    "\n",
    "def test_astar():\n",
    "    for input_file in input_files:\n",
    "        result = run_astar('inputs/' + input_file)\n",
    "\n",
    "        with open('outputs/' + input_file.replace('.yaml', '.txt'), 'w') as f:\n",
    "           f.write(utils.pretty_print_timetable(transform_intervals(result), 'inputs/' + input_file))\n",
    "\n"
   ]
  }
 ],
 "metadata": {
  "kernelspec": {
   "display_name": "Python 3",
   "language": "python",
   "name": "python3"
  },
  "language_info": {
   "codemirror_mode": {
    "name": "ipython",
    "version": 3
   },
   "file_extension": ".py",
   "mimetype": "text/x-python",
   "name": "python",
   "nbconvert_exporter": "python",
   "pygments_lexer": "ipython3",
   "version": "3.10.4"
  }
 },
 "nbformat": 4,
 "nbformat_minor": 2
}
