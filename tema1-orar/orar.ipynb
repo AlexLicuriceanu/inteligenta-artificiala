{
 "cells": [
  {
   "cell_type": "markdown",
   "metadata": {},
   "source": [
    "# Tema 1 IA - Class Scheduler\n",
    "### Alexandru LICURICEANU - 332CD"
   ]
  },
  {
   "cell_type": "code",
   "execution_count": 253,
   "metadata": {},
   "outputs": [],
   "source": [
    "# Prerequisites\n",
    "import utils\n",
    "import itertools\n",
    "import math\n",
    "import time\n",
    "from copy import copy, deepcopy\n",
    "from heapq import heappop, heappush\n",
    "\n",
    "from utils import ZILE as DAYS\n",
    "from utils import INTERVALE as INTERVALS\n",
    "from utils import SALI as CLASSROOMS\n",
    "from utils import MATERII as SUBJECTS\n",
    "from utils import PROFESORI as TEACHERS\n",
    "\n",
    "CONSTRAINTS = 'Constrangeri'\n",
    "PREFERRED = 'Preferred'\n",
    "NOT_PREFERRED = 'Not_preferred'\n",
    "CAPACITY = 'Capacitate'\n",
    "MAX_INTERVALS = 7\n",
    "\n",
    "PREFERRED_DAYS = 'Preferred_days'\n",
    "NOT_PREFERRED_DAYS = 'Not_preferred_days'\n",
    "PREFERRED_INTERVALS = 'Preferred_intervals'\n",
    "NOT_PREFERRED_INTERVALS = 'Not_preferred_intervals'"
   ]
  },
  {
   "cell_type": "markdown",
   "metadata": {},
   "source": [
    "# A* Algorithm"
   ]
  },
  {
   "cell_type": "markdown",
   "metadata": {},
   "source": [
    "`State` data structure used by the A* implementation."
   ]
  },
  {
   "cell_type": "code",
   "execution_count": 254,
   "metadata": {},
   "outputs": [],
   "source": [
    "class State:\n",
    "    def __init__(self, cost, state):\n",
    "        self.state = state\n",
    "        self.cost = cost\n",
    "\n",
    "    def __lt__(self, other):\n",
    "        return self.cost < other.cost"
   ]
  },
  {
   "cell_type": "markdown",
   "metadata": {},
   "source": [
    "`init_empty_timetable()` Returns an empty timetable.\n",
    "\n"
   ]
  },
  {
   "cell_type": "code",
   "execution_count": 255,
   "metadata": {},
   "outputs": [],
   "source": [
    "def init_empty_timetable(data):\n",
    "    timetable = {day: {interval: {classroom: None for classroom in data[CLASSROOMS]} for interval in data[INTERVALS]} for day in data[DAYS]}\n",
    "    return timetable"
   ]
  },
  {
   "cell_type": "markdown",
   "metadata": {},
   "source": [
    "`is_covered()` Checks the timetable to see if the subject is fully covered."
   ]
  },
  {
   "cell_type": "code",
   "execution_count": 256,
   "metadata": {},
   "outputs": [],
   "source": [
    "def is_covered(state, subject, data):\n",
    "    student_count = 0\n",
    "\n",
    "    # Sum the capacity of all assigned classrooms where the subject is taught. \n",
    "    for day in state:\n",
    "        for interval in state[day]:\n",
    "            for classroom in state[day][interval]:\n",
    "                if state[day][interval][classroom] is not None and state[day][interval][classroom][1] == subject:\n",
    "                    student_count += data[CLASSROOMS][classroom][CAPACITY]\n",
    "\n",
    "    return student_count >= data[SUBJECTS][subject]"
   ]
  },
  {
   "cell_type": "markdown",
   "metadata": {},
   "source": [
    "`count_teacher_slots()` Counts the number of slots assigned to a given teacher in the timetable."
   ]
  },
  {
   "cell_type": "code",
   "execution_count": 257,
   "metadata": {},
   "outputs": [],
   "source": [
    "def count_teacher_slots(state, teacher):\n",
    "    teacher_count = 0\n",
    "\n",
    "    for day in state:\n",
    "        for interval in state[day]:\n",
    "            for classroom in state[day][interval]:\n",
    "                if state[day][interval][classroom] is not None and state[day][interval][classroom][0] == teacher:\n",
    "                    teacher_count += 1\n",
    "\n",
    "    return teacher_count"
   ]
  },
  {
   "cell_type": "markdown",
   "metadata": {},
   "source": [
    "`choose_teacher()` Chooses the teacher that has the least amount of classed for this subject assigned to him."
   ]
  },
  {
   "cell_type": "code",
   "execution_count": 258,
   "metadata": {},
   "outputs": [],
   "source": [
    "def choose_teacher(state, subject, data):\n",
    "    teacher_counts = {teacher: 0 for teacher in data[TEACHERS] if subject in data[TEACHERS][teacher][SUBJECTS]}\n",
    "\n",
    "    for day in state:\n",
    "        for interval in state[day]:\n",
    "            for classroom in state[day][interval]:\n",
    "                if state[day][interval][classroom] is not None and state[day][interval][classroom][1] == subject:\n",
    "                    teacher_counts[state[day][interval][classroom][0]] += 1\n",
    "\n",
    "    # Filter out teachers that have already reached the maximum number of classes.\n",
    "    teacher_counts = {teacher: count for teacher, count in teacher_counts.items() if count_teacher_slots(state, teacher) < MAX_INTERVALS}\n",
    "\n",
    "    return min(teacher_counts, key=teacher_counts.get)\n"
   ]
  },
  {
   "cell_type": "markdown",
   "metadata": {},
   "source": [
    "`check_hard_constraints()` Calculates the hard cost based on how many hard constraints have been violated in the state."
   ]
  },
  {
   "cell_type": "code",
   "execution_count": 259,
   "metadata": {},
   "outputs": [],
   "source": [
    "def check_hard_constraints(state, data):\n",
    "    hard_cost = 0\n",
    "    \n",
    "    # Check if a teacher is assigned to more than one class at the same time.\n",
    "    for day in state:\n",
    "        for interval in state[day]:\n",
    "            for classroom in state[day][interval]:\n",
    "\n",
    "                if state[day][interval][classroom] is None:\n",
    "                    continue\n",
    "\n",
    "                teacher = state[day][interval][classroom][0]\n",
    "\n",
    "                for other_classroom in state[day][interval]:\n",
    "                    if other_classroom == classroom:\n",
    "                        continue\n",
    "\n",
    "                    if state[day][interval][other_classroom] is not None and state[day][interval][other_classroom][0] == teacher:\n",
    "                        hard_cost += 1\n",
    "\n",
    "    # Check if a subject cannot be taught in the assigned classroom.\n",
    "    for day in state:\n",
    "        for interval in state[day]:\n",
    "            for classroom in state[day][interval]:\n",
    "                if state[day][interval][classroom] is None:\n",
    "                    continue\n",
    "                \n",
    "                subject = state[day][interval][classroom][1]\n",
    "\n",
    "                if subject not in data[CLASSROOMS][classroom][SUBJECTS]:\n",
    "                    hard_cost += 1\n",
    "            \n",
    "    return hard_cost"
   ]
  },
  {
   "cell_type": "markdown",
   "metadata": {},
   "source": [
    "`check_soft_constraints_slot()` Calculates how many soft constraints have been violated in a specific time slot. "
   ]
  },
  {
   "cell_type": "code",
   "execution_count": 260,
   "metadata": {},
   "outputs": [],
   "source": [
    "def check_soft_constraints_slot(state, day, interval, classroom, data):\n",
    "    soft_cost = 0\n",
    "\n",
    "    if state[day][interval][classroom] is None:\n",
    "        return soft_cost\n",
    "\n",
    "    teacher = state[day][interval][classroom][0]\n",
    "\n",
    "    # Check if the teacher prefers the assigned interval.\n",
    "    if interval in data[TEACHERS][teacher][NOT_PREFERRED]:\n",
    "        soft_cost += 1\n",
    "\n",
    "    # Check if the teacher prefers the assigned day.\n",
    "    if day in data[TEACHERS][teacher][NOT_PREFERRED]:\n",
    "        soft_cost += 1\n",
    "\n",
    "    return soft_cost"
   ]
  },
  {
   "cell_type": "markdown",
   "metadata": {},
   "source": [
    "`check_soft_constraints()` Calculates how many soft constraints have been violated for the timetable."
   ]
  },
  {
   "cell_type": "code",
   "execution_count": 261,
   "metadata": {},
   "outputs": [],
   "source": [
    "def check_soft_constraints(state, data):\n",
    "    soft_cost = 0\n",
    "    \n",
    "    for day in state:\n",
    "        for interval in state[day]:\n",
    "            for classroom in state[day][interval]:\n",
    "                if state[day][interval][classroom] is None:\n",
    "                    continue\n",
    "\n",
    "                soft_cost += check_soft_constraints_slot(state, day, interval, classroom, data)\n",
    "\n",
    "    return soft_cost"
   ]
  },
  {
   "cell_type": "markdown",
   "metadata": {},
   "source": [
    "`is_final()` Checks if a state is final (if the state covers all subjects)."
   ]
  },
  {
   "cell_type": "code",
   "execution_count": 262,
   "metadata": {},
   "outputs": [],
   "source": [
    "def is_final(state, data):\n",
    "    return all(is_covered(state, subject, data) for subject in data[SUBJECTS])"
   ]
  },
  {
   "cell_type": "markdown",
   "metadata": {},
   "source": [
    "`generate_next_states()` Generates the neighbors of the current state.\n",
    "    \n",
    "Identify all empty slots in the timetable where a subject can be assigned.\n",
    "For each empty slot, try assigning all possible combinations of teachers and subjects that satisfy the hard constraints.\n",
    "Check each assignment to ensure that it doesn't violate any of the hard constraints.\n",
    "If a valid assignment is found, create a new state representing the timetable with the assignment made.\n",
    "Repeat this process for all empty slots, generating a list of all possible neighbor states."
   ]
  },
  {
   "cell_type": "code",
   "execution_count": 263,
   "metadata": {},
   "outputs": [],
   "source": [
    "def generate_next_states(state, data):    \n",
    "    next_states = []\n",
    "\n",
    "    for subject in data[SUBJECTS]:\n",
    "\n",
    "        # Check if this subject is covered.\n",
    "        if is_covered(state, subject, data):\n",
    "            continue\n",
    "\n",
    "        for day in state:\n",
    "            for interval in state[day]:\n",
    "                for classroom in state[day][interval]:\n",
    "\n",
    "                    # Empty slot is found.\n",
    "                    if state[day][interval][classroom] is None:\n",
    "                        new_state = deepcopy(state)\n",
    "\n",
    "                        # Choose a teacher for this subject.\n",
    "                        teacher = choose_teacher(state, subject, data)\n",
    "                        \n",
    "                        new_state[day][interval][classroom] = (teacher, subject)\n",
    "\n",
    "                        # Verify hard constraints.\n",
    "                        if check_hard_constraints(new_state, data) == 0:\n",
    "                            next_states.append(new_state)\n",
    "\n",
    "    return next_states"
   ]
  },
  {
   "cell_type": "markdown",
   "metadata": {},
   "source": [
    "`count_unassigned_slots()` Counts how many time slots in the timetable have nothing assigned. \\\n",
    "`heuristic()` Heuristic function to evaluate a state. "
   ]
  },
  {
   "cell_type": "code",
   "execution_count": 264,
   "metadata": {},
   "outputs": [],
   "source": [
    "def count_unassigned_slots(state):\n",
    "    slots_count = 0\n",
    "    for day in state:\n",
    "        for interval in state[day]:\n",
    "            for classroom in state[day][interval]:\n",
    "                if state[day][interval][classroom] is None:\n",
    "                    slots_count += 1\n",
    "    \n",
    "    return slots_count\n",
    "\n",
    "def heuristic(state, data):\n",
    "    return count_unassigned_slots(state) + check_soft_constraints(state, data)"
   ]
  },
  {
   "cell_type": "markdown",
   "metadata": {},
   "source": [
    "`astar()` A* algorithm."
   ]
  },
  {
   "cell_type": "code",
   "execution_count": 265,
   "metadata": {},
   "outputs": [],
   "source": [
    "def astar(initial_state, heuristic, generate_next_states, is_final, data):\n",
    "    '''A* algorithm.'''\n",
    "\n",
    "    #initial_state = generate_initial_state(initial_state, data)\n",
    "\n",
    "    frontier = []\n",
    "    heappush(frontier, State(heuristic(initial_state, data), initial_state))\n",
    "\n",
    "    while frontier:\n",
    "        current = heappop(frontier)\n",
    "\n",
    "        current_state = current.state\n",
    "        current_cost = current.cost\n",
    "\n",
    "        if is_final(current_state, data):\n",
    "            return current_state\n",
    "\n",
    "        for next_state in generate_next_states(current_state, data):\n",
    "            next_cost = heuristic(next_state, data)\n",
    "            heappush(frontier, State(next_cost, next_state))\n",
    "    \n",
    "\n",
    "    return initial_state"
   ]
  },
  {
   "cell_type": "markdown",
   "metadata": {},
   "source": [
    "`parse_input_file` Parses constraints from the input files. \\\n",
    "`run_astar()` Runs the A* algorithm for the given input file. \\\n",
    "`run_csp()` Runs the CSP algorithm for the given input file.\n"
   ]
  },
  {
   "cell_type": "code",
   "execution_count": 266,
   "metadata": {},
   "outputs": [],
   "source": [
    "def parse_input_file(input_file):\n",
    "    data = utils.read_yaml_file(input_file)\n",
    "\n",
    "    # Sort subjects by number of students.\n",
    "    #data[SUBJECTS] = dict(sorted(data[SUBJECTS].items(), key=lambda item: item[1]))\n",
    "\n",
    "    preferred = {}\n",
    "    not_preferred = {}\n",
    "\n",
    "    # Process the soft constraints for each teacher.\n",
    "    for teacher in data[TEACHERS]:\n",
    "        preferred = [constraint for constraint in data[TEACHERS][teacher][CONSTRAINTS] if not constraint.startswith('!')]\n",
    "        not_preferred = [constraint.strip('!') for constraint in data[TEACHERS][teacher][CONSTRAINTS] if constraint.startswith('!')]\n",
    "\n",
    "\n",
    "        # Convert intervals from '8-12' to (8, 10) and (10, 12).\n",
    "        preferred_intervals = [tuple(map(int, interval.split('-'))) for interval in preferred if interval[0].isdigit()]\n",
    "        not_preferred_intervals = [tuple(map(int, interval.split('-'))) for interval in not_preferred if interval[0].isdigit()]\n",
    "\n",
    "        # Convert intervals from (8, 14) to [(8, 10), (10, 12), (12, 14)]. \n",
    "        preferred_intervals_expanded = []\n",
    "        not_preferred_intervals_expanded = []\n",
    "\n",
    "        for interval in preferred_intervals:\n",
    "            start = interval[0]\n",
    "            end = interval[1]\n",
    "\n",
    "            if start != end - 2:\n",
    "                intervals = [str((i, i + 2)) for i in range(start, end, 2)]\n",
    "                preferred_intervals_expanded.extend(intervals)\n",
    "            else:\n",
    "                preferred_intervals_expanded.append(str(interval))\n",
    "\n",
    "        for interval in not_preferred_intervals:\n",
    "            start = interval[0]\n",
    "            end = interval[1]\n",
    "\n",
    "            if start != end - 2:\n",
    "                intervals = [str((i, i + 2)) for i in range(start, end, 2)]\n",
    "                not_preferred_intervals_expanded.extend(intervals)\n",
    "            else:\n",
    "                not_preferred_intervals_expanded.append(str(interval))\n",
    "            \n",
    "\n",
    "        # Create the preferred and not preferred days.\n",
    "        preferred_days = [day for day in preferred if not day[0].isdigit()]\n",
    "        not_preferred_days = [day.strip('!') for day in not_preferred if not day[0].isdigit()]\n",
    "        \n",
    "        data[TEACHERS][teacher][PREFERRED] = preferred_days + preferred_intervals_expanded\n",
    "        data[TEACHERS][teacher][NOT_PREFERRED] = not_preferred_days + not_preferred_intervals_expanded\n",
    "\n",
    "        data[TEACHERS][teacher][PREFERRED_DAYS] = preferred_days\n",
    "        data[TEACHERS][teacher][NOT_PREFERRED_DAYS] = not_preferred_days\n",
    "        data[TEACHERS][teacher][PREFERRED_INTERVALS] = preferred_intervals_expanded\n",
    "        data[TEACHERS][teacher][NOT_PREFERRED_INTERVALS] = not_preferred_intervals_expanded\n",
    "\n",
    "    return data\n",
    "\n",
    "def run_astar(input_file):\n",
    "    # Read input data.\n",
    "    data = parse_input_file(input_file)\n",
    "\n",
    "    # Initialize the empty timetable.\n",
    "    initial_state = init_empty_timetable(data)\n",
    "\n",
    "    # Run the A* algorithm.\n",
    "    start = time.time()\n",
    "    result = astar(initial_state, heuristic, generate_next_states, is_final, data)\n",
    "    end = time.time()\n",
    "\n",
    "    print(f'[A*] {input_file} Execution time: {round(end - start, 2)} seconds. Soft constraints violated: {check_soft_constraints(result, data)}')\n",
    "    \n",
    "    return result"
   ]
  },
  {
   "cell_type": "markdown",
   "metadata": {},
   "source": [
    "`transform_intervals()` Function that transforms the intervals of the timetable from strings to tuples,\n",
    "in order to work with the utils.pretty_print function."
   ]
  },
  {
   "cell_type": "code",
   "execution_count": 267,
   "metadata": {},
   "outputs": [],
   "source": [
    "def transform_intervals(timetable):\n",
    "    new_timetable = {}\n",
    "\n",
    "    for day in timetable:\n",
    "        new_timetable[day] = {}\n",
    "\n",
    "        for interval in timetable[day]:\n",
    "            temp = interval.strip('()').split(',')\n",
    "            new_interval = (int(temp[0]), int(temp[1]))\n",
    "            new_timetable[day][new_interval] = timetable[day][interval]\n",
    "\n",
    "    return new_timetable                      "
   ]
  },
  {
   "cell_type": "markdown",
   "metadata": {},
   "source": [
    "`test_astar()` Runs and times the A* algorithm for the input files. \\\n",
    "`test_csp()` Runs and times the CSP algorithm for the input files."
   ]
  },
  {
   "cell_type": "code",
   "execution_count": 268,
   "metadata": {},
   "outputs": [],
   "source": [
    "input_files = ['dummy']#, 'orar_mic_exact', 'orar_mediu_relaxat', 'orar_mare_relaxat', 'orar_constrans_incalcat', 'orar_bonus_exact']"
   ]
  },
  {
   "cell_type": "code",
   "execution_count": 269,
   "metadata": {},
   "outputs": [],
   "source": [
    "def test_astar():\n",
    "    for input_file in input_files:\n",
    "        result = run_astar('inputs/' + input_file + '.yaml')\n",
    "        transformed = transform_intervals(result)\n",
    "        \n",
    "        with open('outputs/' + input_file + '.txt', 'w') as f:\n",
    "           f.write(utils.pretty_print_timetable(transformed, 'inputs/' + input_file + '.yaml'))\n",
    "\n",
    "        print(utils.pretty_print_timetable(transformed, 'inputs/' + input_file + '.yaml'), end='\\n')\n",
    "\n",
    "\n",
    "        #print(utils.pretty_print_timetable(transformed, 'inputs/' + input_file + '.yaml'), end='\\n')\n",
    "\n",
    "#test_astar()"
   ]
  },
  {
   "cell_type": "code",
   "execution_count": 270,
   "metadata": {},
   "outputs": [
    {
     "name": "stdout",
     "output_type": "stream",
     "text": [
      "[([('Luni', '(8, 10)', 'EG324')], <function run_pcsp.<locals>.<listcomp>.<lambda> at 0x0000020332032D40>), ([('Luni', '(8, 10)', 'EG390')], <function run_pcsp.<locals>.<listcomp>.<lambda> at 0x0000020332033400>), ([('Luni', '(10, 12)', 'EG324')], <function run_pcsp.<locals>.<listcomp>.<lambda> at 0x00000203320332E0>), ([('Luni', '(10, 12)', 'EG390')], <function run_pcsp.<locals>.<listcomp>.<lambda> at 0x0000020332032E60>), ([('Luni', '(12, 14)', 'EG324')], <function run_pcsp.<locals>.<listcomp>.<lambda> at 0x00000203320331C0>), ([('Luni', '(12, 14)', 'EG390')], <function run_pcsp.<locals>.<listcomp>.<lambda> at 0x0000020332032EF0>), ([('Marti', '(8, 10)', 'EG324')], <function run_pcsp.<locals>.<listcomp>.<lambda> at 0x0000020332033490>), ([('Marti', '(8, 10)', 'EG390')], <function run_pcsp.<locals>.<listcomp>.<lambda> at 0x00000203320335B0>), ([('Marti', '(10, 12)', 'EG324')], <function run_pcsp.<locals>.<listcomp>.<lambda> at 0x0000020332033640>), ([('Marti', '(10, 12)', 'EG390')], <function run_pcsp.<locals>.<listcomp>.<lambda> at 0x0000020332033370>), ([('Marti', '(12, 14)', 'EG324')], <function run_pcsp.<locals>.<listcomp>.<lambda> at 0x0000020332033760>), ([('Marti', '(12, 14)', 'EG390')], <function run_pcsp.<locals>.<listcomp>.<lambda> at 0x0000020332033910>), ([('Miercuri', '(8, 10)', 'EG324')], <function run_pcsp.<locals>.<listcomp>.<lambda> at 0x00000203320337F0>), ([('Miercuri', '(8, 10)', 'EG390')], <function run_pcsp.<locals>.<listcomp>.<lambda> at 0x0000020332033E20>), ([('Miercuri', '(10, 12)', 'EG324')], <function run_pcsp.<locals>.<listcomp>.<lambda> at 0x0000020332031C60>), ([('Miercuri', '(10, 12)', 'EG390')], <function run_pcsp.<locals>.<listcomp>.<lambda> at 0x0000020332031D80>), ([('Miercuri', '(12, 14)', 'EG324')], <function run_pcsp.<locals>.<listcomp>.<lambda> at 0x0000020332031BD0>), ([('Miercuri', '(12, 14)', 'EG390')], <function run_pcsp.<locals>.<listcomp>.<lambda> at 0x0000020332031CF0>), ([('Luni', '(8, 10)', 'EG324')], <function run_pcsp.<locals>.<listcomp>.<lambda> at 0x0000020331D84790>), ([('Luni', '(8, 10)', 'EG390')], <function run_pcsp.<locals>.<listcomp>.<lambda> at 0x0000020331D84EE0>), ([('Luni', '(10, 12)', 'EG324')], <function run_pcsp.<locals>.<listcomp>.<lambda> at 0x0000020331F260E0>), ([('Luni', '(10, 12)', 'EG390')], <function run_pcsp.<locals>.<listcomp>.<lambda> at 0x0000020331F27EB0>), ([('Luni', '(12, 14)', 'EG324')], <function run_pcsp.<locals>.<listcomp>.<lambda> at 0x0000020332075E10>), ([('Luni', '(12, 14)', 'EG390')], <function run_pcsp.<locals>.<listcomp>.<lambda> at 0x0000020332075A20>), ([('Marti', '(8, 10)', 'EG324')], <function run_pcsp.<locals>.<listcomp>.<lambda> at 0x00000203320745E0>), ([('Marti', '(8, 10)', 'EG390')], <function run_pcsp.<locals>.<listcomp>.<lambda> at 0x0000020332074670>), ([('Marti', '(10, 12)', 'EG324')], <function run_pcsp.<locals>.<listcomp>.<lambda> at 0x0000020332076560>), ([('Marti', '(10, 12)', 'EG390')], <function run_pcsp.<locals>.<listcomp>.<lambda> at 0x00000203320768C0>), ([('Marti', '(12, 14)', 'EG324')], <function run_pcsp.<locals>.<listcomp>.<lambda> at 0x00000203320741F0>), ([('Marti', '(12, 14)', 'EG390')], <function run_pcsp.<locals>.<listcomp>.<lambda> at 0x0000020332076830>), ([('Miercuri', '(8, 10)', 'EG324')], <function run_pcsp.<locals>.<listcomp>.<lambda> at 0x0000020332075090>), ([('Miercuri', '(8, 10)', 'EG390')], <function run_pcsp.<locals>.<listcomp>.<lambda> at 0x0000020332076DD0>), ([('Miercuri', '(10, 12)', 'EG324')], <function run_pcsp.<locals>.<listcomp>.<lambda> at 0x00000203320743A0>), ([('Miercuri', '(10, 12)', 'EG390')], <function run_pcsp.<locals>.<listcomp>.<lambda> at 0x0000020332075990>), ([('Miercuri', '(12, 14)', 'EG324')], <function run_pcsp.<locals>.<listcomp>.<lambda> at 0x00000203320756C0>), ([('Miercuri', '(12, 14)', 'EG390')], <function run_pcsp.<locals>.<listcomp>.<lambda> at 0x0000020332075900>), ([('Luni', '(8, 10)', 'EG324')], <function run_pcsp.<locals>.<listcomp>.<lambda> at 0x00000203320744C0>), ([('Luni', '(8, 10)', 'EG390')], <function run_pcsp.<locals>.<listcomp>.<lambda> at 0x0000020332074940>), ([('Luni', '(10, 12)', 'EG324')], <function run_pcsp.<locals>.<listcomp>.<lambda> at 0x0000020332074AF0>), ([('Luni', '(10, 12)', 'EG390')], <function run_pcsp.<locals>.<listcomp>.<lambda> at 0x0000020332074160>), ([('Luni', '(12, 14)', 'EG324')], <function run_pcsp.<locals>.<listcomp>.<lambda> at 0x0000020332074430>), ([('Luni', '(12, 14)', 'EG390')], <function run_pcsp.<locals>.<listcomp>.<lambda> at 0x00000203320740D0>), ([('Marti', '(8, 10)', 'EG324')], <function run_pcsp.<locals>.<listcomp>.<lambda> at 0x00000203320775B0>), ([('Marti', '(8, 10)', 'EG390')], <function run_pcsp.<locals>.<listcomp>.<lambda> at 0x00000203320772E0>), ([('Marti', '(10, 12)', 'EG324')], <function run_pcsp.<locals>.<listcomp>.<lambda> at 0x0000020332076710>), ([('Marti', '(10, 12)', 'EG390')], <function run_pcsp.<locals>.<listcomp>.<lambda> at 0x0000020332077520>), ([('Marti', '(12, 14)', 'EG324')], <function run_pcsp.<locals>.<listcomp>.<lambda> at 0x0000020332077640>), ([('Marti', '(12, 14)', 'EG390')], <function run_pcsp.<locals>.<listcomp>.<lambda> at 0x0000020332076A70>), ([('Miercuri', '(8, 10)', 'EG324')], <function run_pcsp.<locals>.<listcomp>.<lambda> at 0x0000020332077B50>), ([('Miercuri', '(8, 10)', 'EG390')], <function run_pcsp.<locals>.<listcomp>.<lambda> at 0x0000020332077BE0>), ([('Miercuri', '(10, 12)', 'EG324')], <function run_pcsp.<locals>.<listcomp>.<lambda> at 0x0000020332077C70>), ([('Miercuri', '(10, 12)', 'EG390')], <function run_pcsp.<locals>.<listcomp>.<lambda> at 0x0000020332077D00>), ([('Miercuri', '(12, 14)', 'EG324')], <function run_pcsp.<locals>.<listcomp>.<lambda> at 0x0000020332077D90>), ([('Miercuri', '(12, 14)', 'EG390')], <function run_pcsp.<locals>.<listcomp>.<lambda> at 0x0000020332077E20>)]\n"
     ]
    },
    {
     "ename": "TypeError",
     "evalue": "string indices must be integers",
     "output_type": "error",
     "traceback": [
      "\u001b[1;31m---------------------------------------------------------------------------\u001b[0m",
      "\u001b[1;31mTypeError\u001b[0m                                 Traceback (most recent call last)",
      "Cell \u001b[1;32mIn[270], line 110\u001b[0m\n\u001b[0;32m    103\u001b[0m         result \u001b[38;5;241m=\u001b[39m run_pcsp(\u001b[38;5;124m'\u001b[39m\u001b[38;5;124minputs/\u001b[39m\u001b[38;5;124m'\u001b[39m \u001b[38;5;241m+\u001b[39m input_file \u001b[38;5;241m+\u001b[39m \u001b[38;5;124m'\u001b[39m\u001b[38;5;124m.yaml\u001b[39m\u001b[38;5;124m'\u001b[39m)\n\u001b[0;32m    104\u001b[0m         \u001b[38;5;66;03m#transformed = transform_intervals(result)\u001b[39;00m\n\u001b[0;32m    105\u001b[0m         \n\u001b[0;32m    106\u001b[0m         \u001b[38;5;66;03m#with open('outputs/' + input_file + '.txt', 'w') as f:\u001b[39;00m\n\u001b[0;32m    107\u001b[0m         \u001b[38;5;66;03m#    f.write(utils.pretty_print_timetable(transformed, 'inputs/' + input_file + '.yaml'))\u001b[39;00m\n\u001b[1;32m--> 110\u001b[0m \u001b[43mtest_pcsp\u001b[49m\u001b[43m(\u001b[49m\u001b[43m)\u001b[49m\n",
      "Cell \u001b[1;32mIn[270], line 103\u001b[0m, in \u001b[0;36mtest_pcsp\u001b[1;34m()\u001b[0m\n\u001b[0;32m    101\u001b[0m \u001b[38;5;28;01mdef\u001b[39;00m \u001b[38;5;21mtest_pcsp\u001b[39m():\n\u001b[0;32m    102\u001b[0m     \u001b[38;5;28;01mfor\u001b[39;00m input_file \u001b[38;5;129;01min\u001b[39;00m input_files:\n\u001b[1;32m--> 103\u001b[0m         result \u001b[38;5;241m=\u001b[39m \u001b[43mrun_pcsp\u001b[49m\u001b[43m(\u001b[49m\u001b[38;5;124;43m'\u001b[39;49m\u001b[38;5;124;43minputs/\u001b[39;49m\u001b[38;5;124;43m'\u001b[39;49m\u001b[43m \u001b[49m\u001b[38;5;241;43m+\u001b[39;49m\u001b[43m \u001b[49m\u001b[43minput_file\u001b[49m\u001b[43m \u001b[49m\u001b[38;5;241;43m+\u001b[39;49m\u001b[43m \u001b[49m\u001b[38;5;124;43m'\u001b[39;49m\u001b[38;5;124;43m.yaml\u001b[39;49m\u001b[38;5;124;43m'\u001b[39;49m\u001b[43m)\u001b[49m\n",
      "Cell \u001b[1;32mIn[270], line 41\u001b[0m, in \u001b[0;36mrun_pcsp\u001b[1;34m(input_file)\u001b[0m\n\u001b[0;32m     37\u001b[0m constraints \u001b[38;5;241m=\u001b[39m hard_constraints \u001b[38;5;241m+\u001b[39m soft_constraints\n\u001b[0;32m     39\u001b[0m \u001b[38;5;28mprint\u001b[39m(constraints)\n\u001b[1;32m---> 41\u001b[0m \u001b[38;5;28mprint\u001b[39m(\u001b[43mpcsp\u001b[49m\u001b[43m(\u001b[49m\u001b[38;5;28;43mvars\u001b[39;49m\u001b[43m,\u001b[49m\u001b[43m \u001b[49m\u001b[43mdomains\u001b[49m\u001b[43m,\u001b[49m\u001b[43m \u001b[49m\u001b[43mconstraints\u001b[49m\u001b[43m,\u001b[49m\u001b[43m \u001b[49m\u001b[38;5;241;43m0\u001b[39;49m\u001b[43m,\u001b[49m\u001b[43m \u001b[49m\u001b[43m{\u001b[49m\u001b[43m}\u001b[49m\u001b[43m,\u001b[49m\u001b[43m \u001b[49m\u001b[38;5;241;43m0\u001b[39;49m\u001b[43m)\u001b[49m)\n",
      "Cell \u001b[1;32mIn[270], line 92\u001b[0m, in \u001b[0;36mpcsp\u001b[1;34m(vars, domains, constraints, acceptable_cost, solution, cost)\u001b[0m\n\u001b[0;32m     89\u001b[0m new_cost \u001b[38;5;241m=\u001b[39m \u001b[38;5;241m0\u001b[39m\n\u001b[0;32m     91\u001b[0m \u001b[38;5;28;01mfor\u001b[39;00m constraint \u001b[38;5;129;01min\u001b[39;00m eval_constraints:\n\u001b[1;32m---> 92\u001b[0m     \u001b[38;5;28;01mif\u001b[39;00m \u001b[38;5;129;01mnot\u001b[39;00m \u001b[43mcheck_constraint\u001b[49m\u001b[43m(\u001b[49m\u001b[43mnew_solution\u001b[49m\u001b[43m,\u001b[49m\u001b[43m \u001b[49m\u001b[43mconstraint\u001b[49m\u001b[43m)\u001b[49m:\u001b[38;5;66;03m# and not check_hard_constraints(new_solution, constraint):\u001b[39;00m\n\u001b[0;32m     93\u001b[0m         new_cost \u001b[38;5;241m+\u001b[39m\u001b[38;5;241m=\u001b[39m \u001b[38;5;241m1\u001b[39m\n\u001b[0;32m     95\u001b[0m \u001b[38;5;28;01mif\u001b[39;00m new_cost \u001b[38;5;241m<\u001b[39m best_cost:\n",
      "Cell \u001b[1;32mIn[270], line 52\u001b[0m, in \u001b[0;36mcheck_constraint\u001b[1;34m(solution, constraint)\u001b[0m\n\u001b[0;32m     51\u001b[0m \u001b[38;5;28;01mdef\u001b[39;00m \u001b[38;5;21mcheck_constraint\u001b[39m(solution, constraint):\n\u001b[1;32m---> 52\u001b[0m     \u001b[38;5;28;01mreturn\u001b[39;00m \u001b[43mconstraint\u001b[49m\u001b[43m[\u001b[49m\u001b[38;5;241;43m1\u001b[39;49m\u001b[43m]\u001b[49m\u001b[43m(\u001b[49m\u001b[38;5;241;43m*\u001b[39;49m\u001b[43m(\u001b[49m\u001b[43msolution\u001b[49m\u001b[43m[\u001b[49m\u001b[43mvar\u001b[49m\u001b[43m]\u001b[49m\u001b[43m[\u001b[49m\u001b[38;5;241;43m0\u001b[39;49m\u001b[43m]\u001b[49m\u001b[43m \u001b[49m\u001b[38;5;28;43;01mfor\u001b[39;49;00m\u001b[43m \u001b[49m\u001b[43mvar\u001b[49m\u001b[43m \u001b[49m\u001b[38;5;129;43;01min\u001b[39;49;00m\u001b[43m \u001b[49m\u001b[43mconstraint\u001b[49m\u001b[43m[\u001b[49m\u001b[38;5;241;43m0\u001b[39;49m\u001b[43m]\u001b[49m\u001b[43m)\u001b[49m\u001b[43m)\u001b[49m\n",
      "Cell \u001b[1;32mIn[270], line 20\u001b[0m, in \u001b[0;36mrun_pcsp.<locals>.<lambda>\u001b[1;34m(solution, var)\u001b[0m\n\u001b[0;32m     11\u001b[0m domains \u001b[38;5;241m=\u001b[39m {var: [(teacher, subject)\n\u001b[0;32m     12\u001b[0m                 \u001b[38;5;28;01mfor\u001b[39;00m teacher \u001b[38;5;129;01min\u001b[39;00m data[TEACHERS]\n\u001b[0;32m     13\u001b[0m                 \u001b[38;5;28;01mfor\u001b[39;00m subject \u001b[38;5;129;01min\u001b[39;00m data[TEACHERS][teacher][SUBJECTS] \u001b[38;5;28;01mif\u001b[39;00m subject \u001b[38;5;129;01min\u001b[39;00m data[CLASSROOMS][var[\u001b[38;5;241m2\u001b[39m]][SUBJECTS]]\n\u001b[0;32m     14\u001b[0m                 \u001b[38;5;28;01mfor\u001b[39;00m var \u001b[38;5;129;01min\u001b[39;00m \u001b[38;5;28mvars\u001b[39m}\n\u001b[0;32m     16\u001b[0m \u001b[38;5;66;03m# Add hard constraints.\u001b[39;00m\n\u001b[0;32m     17\u001b[0m \n\u001b[0;32m     18\u001b[0m \u001b[38;5;66;03m# A teacher cannot be assigned to more than one class at the same time.\u001b[39;00m\n\u001b[0;32m     19\u001b[0m \u001b[38;5;66;03m# Check if all teachers in solution[var] are different.\u001b[39;00m\n\u001b[1;32m---> 20\u001b[0m hard_constraints \u001b[38;5;241m=\u001b[39m [([var], \u001b[38;5;28;01mlambda\u001b[39;00m solution, var\u001b[38;5;241m=\u001b[39mvar: \u001b[43msolution\u001b[49m\u001b[43m[\u001b[49m\u001b[43mvar\u001b[49m\u001b[43m]\u001b[49m \u001b[38;5;129;01mis\u001b[39;00m \u001b[38;5;28;01mNone\u001b[39;00m \u001b[38;5;129;01mor\u001b[39;00m \u001b[38;5;28mlen\u001b[39m([teacher \u001b[38;5;28;01mfor\u001b[39;00m teacher \u001b[38;5;129;01min\u001b[39;00m solution[var][\u001b[38;5;241m0\u001b[39m]]) \\\n\u001b[0;32m     21\u001b[0m                     \u001b[38;5;241m==\u001b[39m \u001b[38;5;28mlen\u001b[39m(\u001b[38;5;28mset\u001b[39m([teacher \u001b[38;5;28;01mfor\u001b[39;00m teacher \u001b[38;5;129;01min\u001b[39;00m solution[var][\u001b[38;5;241m0\u001b[39m]]))) \u001b[38;5;28;01mfor\u001b[39;00m var \u001b[38;5;129;01min\u001b[39;00m \u001b[38;5;28mvars\u001b[39m]\n\u001b[0;32m     23\u001b[0m \u001b[38;5;66;03m#print(hard_constraints)\u001b[39;00m\n\u001b[0;32m     24\u001b[0m \u001b[38;5;66;03m#dummy_state = {var: None for var in vars}\u001b[39;00m\n\u001b[0;32m     25\u001b[0m \u001b[38;5;66;03m#dummy_state[('Luni', '(8, 10)', 'EG324')] = ('Andreea Dinu', 'IA')\u001b[39;00m\n\u001b[0;32m     26\u001b[0m \u001b[38;5;66;03m#dummy_state[('Luni', '(8, 10)', 'EG390')] = ('Andreea Dinu', 'DS')\u001b[39;00m\n\u001b[0;32m     27\u001b[0m \n\u001b[0;32m     28\u001b[0m \u001b[38;5;66;03m#print([check_hard_constraints(dummy_state, hard_constraint) for hard_constraint in hard_constraints])\u001b[39;00m\n\u001b[0;32m     30\u001b[0m soft_constraints \u001b[38;5;241m=\u001b[39m [([var], \u001b[38;5;28;01mlambda\u001b[39;00m teacher, var\u001b[38;5;241m=\u001b[39mvar: var[\u001b[38;5;241m0\u001b[39m] \u001b[38;5;129;01min\u001b[39;00m data[TEACHERS][teacher][PREFERRED_DAYS]) \u001b[38;5;28;01mfor\u001b[39;00m var \u001b[38;5;129;01min\u001b[39;00m \u001b[38;5;28mvars\u001b[39m]\n",
      "\u001b[1;31mTypeError\u001b[0m: string indices must be integers"
     ]
    }
   ],
   "source": [
    "def run_pcsp(input_file):\n",
    "    global best_solution\n",
    "    global best_cost\n",
    "    global iterations\n",
    "\n",
    "    \n",
    "    data = parse_input_file(input_file)\n",
    "    #print(data)\n",
    "\n",
    "    vars = [(day, interval, classroom) for day in data[DAYS] for interval in data[INTERVALS] for classroom in data[CLASSROOMS]]\n",
    "    domains = {var: [(teacher, subject)\n",
    "                    for teacher in data[TEACHERS]\n",
    "                    for subject in data[TEACHERS][teacher][SUBJECTS] if subject in data[CLASSROOMS][var[2]][SUBJECTS]]\n",
    "                    for var in vars}\n",
    "\n",
    "    # Add hard constraints.\n",
    "\n",
    "    # A teacher cannot be assigned to more than one class at the same time.\n",
    "    # Check if all teachers in solution[var] are different.\n",
    "    hard_constraints = [([var], lambda solution, var=var: solution[var] is None or len([teacher for teacher in solution[var][0]]) \\\n",
    "                        == len(set([teacher for teacher in solution[var][0]]))) for var in vars]\n",
    "\n",
    "    #print(hard_constraints)\n",
    "    #dummy_state = {var: None for var in vars}\n",
    "    #dummy_state[('Luni', '(8, 10)', 'EG324')] = ('Andreea Dinu', 'IA')\n",
    "    #dummy_state[('Luni', '(8, 10)', 'EG390')] = ('Andreea Dinu', 'DS')\n",
    "\n",
    "    #print([check_hard_constraints(dummy_state, hard_constraint) for hard_constraint in hard_constraints])\n",
    "\n",
    "    soft_constraints = [([var], lambda teacher, var=var: var[0] in data[TEACHERS][teacher][PREFERRED_DAYS]) for var in vars]\n",
    "    soft_constraints += [([var], lambda teacher, var=var: var[1] in data[TEACHERS][teacher][PREFERRED_INTERVALS]) for var in vars]\n",
    "\n",
    "    best_solution = {}\n",
    "    best_cost = len(soft_constraints) + len(hard_constraints)\n",
    "    iterations = 0\n",
    "\n",
    "    constraints = hard_constraints + soft_constraints\n",
    "\n",
    "    print(constraints)\n",
    "\n",
    "    print(pcsp(vars, domains, constraints, 0, {}, 0))\n",
    "    #print(\"best: \", best_cost, best_solution)\n",
    "\n",
    "def check_hard_constraint(solution, constraint):\n",
    "    return constraint[1](*(solution for var in constraint[0]))\n",
    "\n",
    "def get_constraints(var, constraints):\n",
    "    return [constraint for constraint in constraints if var in constraint[0]]\n",
    "\n",
    "\n",
    "def check_constraint(solution, constraint):\n",
    "    return constraint[1](*(solution[var][0] for var in constraint[0]))\n",
    "    \n",
    "\n",
    "    #test = get_constraints(('Luni', '(8, 10)', 'EG324'), soft_constraints)\n",
    "    #test2 = [check_constraint({('Luni', '(8, 10)', 'EG324'): ('Andreea Dinu', 'IA')}, test1) for test1 in test]\n",
    "    #print(test2)\n",
    "\n",
    "def fixed_constraints(solution, constraints):\n",
    "    return [constraint for constraint in constraints if all(var in solution for var in constraint[0])]\n",
    "\n",
    "\n",
    "\n",
    "def pcsp(vars, domains, constraints, acceptable_cost, solution, cost):\n",
    "    global best_solution\n",
    "    global best_cost\n",
    "    global iterations\n",
    "\n",
    "    if not vars:\n",
    "        best_solution = deepcopy(solution)\n",
    "        best_cost = cost\n",
    "\n",
    "        if best_cost <= acceptable_cost:\n",
    "            return True\n",
    "    elif not domains[vars[0]]:\n",
    "        return False\n",
    "    elif cost == best_cost:\n",
    "        return False\n",
    "    else:\n",
    "\n",
    "        var = vars[0]\n",
    "        val = domains[var].pop(0)\n",
    "        iterations += 1\n",
    "\n",
    "        new_solution = deepcopy(solution)\n",
    "        new_solution[var] = val\n",
    "\n",
    "        eval_constraints = fixed_constraints(new_solution, constraints)\n",
    "        new_cost = 0\n",
    "\n",
    "        for constraint in eval_constraints:\n",
    "            if not check_constraint(new_solution, constraint):# and not check_hard_constraints(new_solution, constraint):\n",
    "                new_cost += 1\n",
    "        \n",
    "        if new_cost < best_cost:\n",
    "            if pcsp(vars[1:], deepcopy(domains), constraints, acceptable_cost, new_solution, new_cost):\n",
    "                return True\n",
    "            \n",
    "        return pcsp(vars, deepcopy(domains), constraints, acceptable_cost, solution, cost)\n",
    "\n",
    "def test_pcsp():\n",
    "    for input_file in input_files:\n",
    "        result = run_pcsp('inputs/' + input_file + '.yaml')\n",
    "        #transformed = transform_intervals(result)\n",
    "        \n",
    "        #with open('outputs/' + input_file + '.txt', 'w') as f:\n",
    "        #    f.write(utils.pretty_print_timetable(transformed, 'inputs/' + input_file + '.yaml'))\n",
    "\n",
    "\n",
    "test_pcsp()"
   ]
  },
  {
   "cell_type": "code",
   "execution_count": null,
   "metadata": {},
   "outputs": [],
   "source": []
  },
  {
   "cell_type": "code",
   "execution_count": null,
   "metadata": {},
   "outputs": [],
   "source": []
  }
 ],
 "metadata": {
  "kernelspec": {
   "display_name": "Python 3",
   "language": "python",
   "name": "python3"
  },
  "language_info": {
   "codemirror_mode": {
    "name": "ipython",
    "version": 3
   },
   "file_extension": ".py",
   "mimetype": "text/x-python",
   "name": "python",
   "nbconvert_exporter": "python",
   "pygments_lexer": "ipython3",
   "version": "3.10.4"
  }
 },
 "nbformat": 4,
 "nbformat_minor": 2
}
