{
 "cells": [
  {
   "cell_type": "markdown",
   "metadata": {},
   "source": [
    "# Tema 1 IA - Class Scheduler\n",
    "### Alexandru LICURICEANU - 332CD"
   ]
  },
  {
   "cell_type": "code",
   "execution_count": null,
   "metadata": {},
   "outputs": [],
   "source": [
    "# Prerequisites\n",
    "import utils\n",
    "import itertools\n",
    "import math\n",
    "import time\n",
    "from copy import copy, deepcopy\n",
    "from heapq import heappop, heappush\n",
    "\n",
    "from utils import ZILE as DAYS\n",
    "from utils import INTERVALE as INTERVALS\n",
    "from utils import SALI as CLASSROOMS\n",
    "from utils import MATERII as SUBJECTS\n",
    "from utils import PROFESORI as TEACHERS\n",
    "\n",
    "CONSTRAINTS = 'Constrangeri'\n",
    "PREFERRED = 'Preferred'\n",
    "NOT_PREFERRED = 'Not_preferred'\n",
    "CAPACITY = 'Capacitate'\n",
    "MAX_INTERVALS = 7"
   ]
  },
  {
   "cell_type": "markdown",
   "metadata": {},
   "source": [
    "# A* Algorithm"
   ]
  },
  {
   "cell_type": "markdown",
   "metadata": {},
   "source": [
    "`State` data structure used by the A* implementation."
   ]
  },
  {
   "cell_type": "code",
   "execution_count": null,
   "metadata": {},
   "outputs": [],
   "source": [
    "class State:\n",
    "    def __init__(self, cost, state):\n",
    "        self.state = state\n",
    "        self.cost = cost\n",
    "\n",
    "    def __lt__(self, other):\n",
    "        return self.cost < other.cost"
   ]
  },
  {
   "cell_type": "markdown",
   "metadata": {},
   "source": [
    "`init_empty_timetable()` Returns an empty timetable.\n",
    "\n"
   ]
  },
  {
   "cell_type": "code",
   "execution_count": null,
   "metadata": {},
   "outputs": [],
   "source": [
    "def init_empty_timetable(data):\n",
    "    timetable = {day: {interval: {classroom: None for classroom in data[CLASSROOMS]} for interval in data[INTERVALS]} for day in data[DAYS]}\n",
    "    return timetable"
   ]
  },
  {
   "cell_type": "markdown",
   "metadata": {},
   "source": [
    "`is_covered()` Checks the timetable to see if the subject is fully covered."
   ]
  },
  {
   "cell_type": "code",
   "execution_count": null,
   "metadata": {},
   "outputs": [],
   "source": [
    "def is_covered(state, subject, data):\n",
    "    student_count = 0\n",
    "\n",
    "    # Sum the capacity of all assigned classrooms where the subject is taught. \n",
    "    for day in state:\n",
    "        for interval in state[day]:\n",
    "            for classroom in state[day][interval]:\n",
    "                if state[day][interval][classroom] is not None and state[day][interval][classroom][1] == subject:\n",
    "                    student_count += data[CLASSROOMS][classroom][CAPACITY]\n",
    "\n",
    "    return student_count >= data[SUBJECTS][subject]"
   ]
  },
  {
   "cell_type": "markdown",
   "metadata": {},
   "source": [
    "`count_teacher_slots()` Counts the number of slots assigned to a given teacher in the timetable."
   ]
  },
  {
   "cell_type": "code",
   "execution_count": null,
   "metadata": {},
   "outputs": [],
   "source": [
    "def count_teacher_slots(state, teacher):\n",
    "    teacher_count = 0\n",
    "\n",
    "    for day in state:\n",
    "        for interval in state[day]:\n",
    "            for classroom in state[day][interval]:\n",
    "                if state[day][interval][classroom] is not None and state[day][interval][classroom][0] == teacher:\n",
    "                    teacher_count += 1\n",
    "\n",
    "    return teacher_count"
   ]
  },
  {
   "cell_type": "markdown",
   "metadata": {},
   "source": [
    "`choose_teacher()` Chooses the teacher that has the least amount of classed for this subject assigned to him."
   ]
  },
  {
   "cell_type": "code",
   "execution_count": null,
   "metadata": {},
   "outputs": [],
   "source": [
    "def choose_teacher(state, subject, data):\n",
    "    teacher_counts = {teacher: 0 for teacher in data[TEACHERS] if subject in data[TEACHERS][teacher][SUBJECTS]}\n",
    "\n",
    "    for day in state:\n",
    "        for interval in state[day]:\n",
    "            for classroom in state[day][interval]:\n",
    "                if state[day][interval][classroom] is not None and state[day][interval][classroom][1] == subject:\n",
    "                    teacher_counts[state[day][interval][classroom][0]] += 1\n",
    "\n",
    "    # Filter out teachers that have already reached the maximum number of classes.\n",
    "    teacher_counts = {teacher: count for teacher, count in teacher_counts.items() if count_teacher_slots(state, teacher) < MAX_INTERVALS}\n",
    "\n",
    "    return min(teacher_counts, key=teacher_counts.get)\n"
   ]
  },
  {
   "cell_type": "markdown",
   "metadata": {},
   "source": [
    "`check_hard_constraints()` Calculates the hard cost based on how many hard constraints have been violated in the state."
   ]
  },
  {
   "cell_type": "code",
   "execution_count": null,
   "metadata": {},
   "outputs": [],
   "source": [
    "def check_hard_constraints(state, data):\n",
    "    hard_cost = 0\n",
    "    \n",
    "    # Check if a teacher is assigned to more than one class at the same time.\n",
    "    for day in state:\n",
    "        for interval in state[day]:\n",
    "            for classroom in state[day][interval]:\n",
    "\n",
    "                if state[day][interval][classroom] is None:\n",
    "                    continue\n",
    "\n",
    "                teacher = state[day][interval][classroom][0]\n",
    "\n",
    "                for other_classroom in state[day][interval]:\n",
    "                    if other_classroom == classroom:\n",
    "                        continue\n",
    "\n",
    "                    if state[day][interval][other_classroom] is not None and state[day][interval][other_classroom][0] == teacher:\n",
    "                        hard_cost += 1\n",
    "\n",
    "    # Check if a subject cannot be taught in the assigned classroom.\n",
    "    for day in state:\n",
    "        for interval in state[day]:\n",
    "            for classroom in state[day][interval]:\n",
    "                if state[day][interval][classroom] is None:\n",
    "                    continue\n",
    "                \n",
    "                subject = state[day][interval][classroom][1]\n",
    "\n",
    "                if subject not in data[CLASSROOMS][classroom][SUBJECTS]:\n",
    "                    hard_cost += 1\n",
    "            \n",
    "    return hard_cost"
   ]
  },
  {
   "cell_type": "markdown",
   "metadata": {},
   "source": [
    "`check_soft_constraints_slot()` Calculates how many soft constraints have been violated in a specific time slot. "
   ]
  },
  {
   "cell_type": "code",
   "execution_count": null,
   "metadata": {},
   "outputs": [],
   "source": [
    "def check_soft_constraints_slot(state, day, interval, classroom, data):\n",
    "    soft_cost = 0\n",
    "\n",
    "    if state[day][interval][classroom] is None:\n",
    "        return soft_cost\n",
    "\n",
    "    teacher = state[day][interval][classroom][0]\n",
    "\n",
    "    # Check if the teacher prefers the assigned interval.\n",
    "    if interval in data[TEACHERS][teacher][NOT_PREFERRED]:\n",
    "        soft_cost += 1\n",
    "\n",
    "    # Check if the teacher prefers the assigned day.\n",
    "    if day in data[TEACHERS][teacher][NOT_PREFERRED]:\n",
    "        soft_cost += 1\n",
    "\n",
    "    return soft_cost"
   ]
  },
  {
   "cell_type": "markdown",
   "metadata": {},
   "source": [
    "`check_soft_constraints()` Calculates how many soft constraints have been violated for the timetable."
   ]
  },
  {
   "cell_type": "code",
   "execution_count": null,
   "metadata": {},
   "outputs": [],
   "source": [
    "def check_soft_constraints(state, data):\n",
    "    soft_cost = 0\n",
    "    \n",
    "    for day in state:\n",
    "        for interval in state[day]:\n",
    "            for classroom in state[day][interval]:\n",
    "                if state[day][interval][classroom] is None:\n",
    "                    continue\n",
    "\n",
    "                soft_cost += check_soft_constraints_slot(state, day, interval, classroom, data)\n",
    "\n",
    "    return soft_cost"
   ]
  },
  {
   "cell_type": "markdown",
   "metadata": {},
   "source": [
    "`is_final()` Checks if a state is final (if the state covers all subjects)."
   ]
  },
  {
   "cell_type": "code",
   "execution_count": null,
   "metadata": {},
   "outputs": [],
   "source": [
    "def is_final(state, data):\n",
    "    return all(is_covered(state, subject, data) for subject in data[SUBJECTS])"
   ]
  },
  {
   "cell_type": "markdown",
   "metadata": {},
   "source": [
    "`generate_next_states()` Generates the neighbors of the current state.\n",
    "    \n",
    "Identify all empty slots in the timetable where a subject can be assigned.\n",
    "For each empty slot, try assigning all possible combinations of teachers and subjects that satisfy the hard constraints.\n",
    "Check each assignment to ensure that it doesn't violate any of the hard constraints.\n",
    "If a valid assignment is found, create a new state representing the timetable with the assignment made.\n",
    "Repeat this process for all empty slots, generating a list of all possible neighbor states."
   ]
  },
  {
   "cell_type": "code",
   "execution_count": null,
   "metadata": {},
   "outputs": [],
   "source": [
    "def generate_next_states(state, data):    \n",
    "    next_states = []\n",
    "\n",
    "    for subject in data[SUBJECTS]:\n",
    "\n",
    "        # Check if this subject is covered.\n",
    "        if is_covered(state, subject, data):\n",
    "            continue\n",
    "\n",
    "        for day in state:\n",
    "            for interval in state[day]:\n",
    "                for classroom in state[day][interval]:\n",
    "\n",
    "                    # Empty slot is found.\n",
    "                    if state[day][interval][classroom] is None:\n",
    "                        new_state = deepcopy(state)\n",
    "\n",
    "                        # Choose a teacher for this subject.\n",
    "                        teacher = choose_teacher(state, subject, data)\n",
    "                        \n",
    "                        new_state[day][interval][classroom] = (teacher, subject)\n",
    "\n",
    "                        # Verify hard constraints.\n",
    "                        if check_hard_constraints(new_state, data) == 0:\n",
    "                            next_states.append(new_state)\n",
    "\n",
    "    return next_states"
   ]
  },
  {
   "cell_type": "markdown",
   "metadata": {},
   "source": [
    "`count_unassigned_slots()` Counts how many time slots in the timetable have nothing assigned. \\\n",
    "`heuristic()` Heuristic function to evaluate a state. "
   ]
  },
  {
   "cell_type": "code",
   "execution_count": null,
   "metadata": {},
   "outputs": [],
   "source": [
    "def count_unassigned_slots(state):\n",
    "    slots_count = 0\n",
    "    for day in state:\n",
    "        for interval in state[day]:\n",
    "            for classroom in state[day][interval]:\n",
    "                if state[day][interval][classroom] is None:\n",
    "                    slots_count += 1\n",
    "    \n",
    "    return slots_count\n",
    "\n",
    "def heuristic(state, data):\n",
    "    return count_unassigned_slots(state) + check_soft_constraints(state, data)"
   ]
  },
  {
   "cell_type": "markdown",
   "metadata": {},
   "source": [
    "`astar()` A* algorithm."
   ]
  },
  {
   "cell_type": "code",
   "execution_count": null,
   "metadata": {},
   "outputs": [],
   "source": [
    "def astar(initial_state, heuristic, generate_next_states, is_final, data):\n",
    "    '''A* algorithm.'''\n",
    "\n",
    "    #initial_state = generate_initial_state(initial_state, data)\n",
    "\n",
    "    frontier = []\n",
    "    heappush(frontier, State(heuristic(initial_state, data), initial_state))\n",
    "\n",
    "    while frontier:\n",
    "        current = heappop(frontier)\n",
    "\n",
    "        current_state = current.state\n",
    "        current_cost = current.cost\n",
    "\n",
    "        if is_final(current_state, data):\n",
    "            return current_state\n",
    "\n",
    "        for next_state in generate_next_states(current_state, data):\n",
    "            next_cost = heuristic(next_state, data)\n",
    "            heappush(frontier, State(next_cost, next_state))\n",
    "    \n",
    "\n",
    "    return initial_state"
   ]
  },
  {
   "cell_type": "markdown",
   "metadata": {},
   "source": [
    "`parse_input_file` Parses constraints from the input files. \\\n",
    "`run_astar()` Runs the A* algorithm for the given input file. \\\n",
    "`run_csp()` Runs the CSP algorithm for the given input file.\n"
   ]
  },
  {
   "cell_type": "code",
   "execution_count": null,
   "metadata": {},
   "outputs": [],
   "source": [
    "def parse_input_file(input_file):\n",
    "    data = utils.read_yaml_file(input_file)\n",
    "\n",
    "    # Sort subjects by number of students.\n",
    "    #data[SUBJECTS] = dict(sorted(data[SUBJECTS].items(), key=lambda item: item[1]))\n",
    "\n",
    "    preferred = {}\n",
    "    not_preferred = {}\n",
    "\n",
    "    # Process the soft constraints for each teacher.\n",
    "    for teacher in data[TEACHERS]:\n",
    "        preferred = [constraint for constraint in data[TEACHERS][teacher][CONSTRAINTS] if not constraint.startswith('!')]\n",
    "        not_preferred = [constraint.strip('!') for constraint in data[TEACHERS][teacher][CONSTRAINTS] if constraint.startswith('!')]\n",
    "\n",
    "\n",
    "        # Convert intervals from '8-12' to (8, 10) and (10, 12).\n",
    "        preferred_intervals = [tuple(map(int, interval.split('-'))) for interval in preferred if interval[0].isdigit()]\n",
    "        not_preferred_intervals = [tuple(map(int, interval.split('-'))) for interval in not_preferred if interval[0].isdigit()]\n",
    "\n",
    "        # Convert intervals from (8, 14) to [(8, 10), (10, 12), (12, 14)]. \n",
    "        preferred_intervals_expanded = []\n",
    "        not_preferred_intervals_expanded = []\n",
    "\n",
    "        for interval in preferred_intervals:\n",
    "            start = interval[0]\n",
    "            end = interval[1]\n",
    "\n",
    "            if start != end - 2:\n",
    "                intervals = [str((i, i + 2)) for i in range(start, end, 2)]\n",
    "                preferred_intervals_expanded.extend(intervals)\n",
    "            else:\n",
    "                preferred_intervals_expanded.append(str(interval))\n",
    "\n",
    "        for interval in not_preferred_intervals:\n",
    "            start = interval[0]\n",
    "            end = interval[1]\n",
    "\n",
    "            if start != end - 2:\n",
    "                intervals = [str((i, i + 2)) for i in range(start, end, 2)]\n",
    "                not_preferred_intervals_expanded.extend(intervals)\n",
    "            else:\n",
    "                not_preferred_intervals_expanded.append(str(interval))\n",
    "            \n",
    "\n",
    "        # Create the preferred and not preferred days.\n",
    "        preferred_days = [day for day in preferred if not day[0].isdigit()]\n",
    "        not_preferred_days = [day.strip('!') for day in not_preferred if not day[0].isdigit()]\n",
    "        \n",
    "        data[TEACHERS][teacher][PREFERRED] = preferred_days + preferred_intervals_expanded\n",
    "        data[TEACHERS][teacher][NOT_PREFERRED] = not_preferred_days + not_preferred_intervals_expanded\n",
    "\n",
    "    return data\n",
    "\n",
    "def run_astar(input_file):\n",
    "    # Read input data.\n",
    "    data = parse_input_file(input_file)\n",
    "\n",
    "    # Initialize the empty timetable.\n",
    "    initial_state = init_empty_timetable(data)\n",
    "\n",
    "    # Run the A* algorithm.\n",
    "    start = time.time()\n",
    "    result = astar(initial_state, heuristic, generate_next_states, is_final, data)\n",
    "    end = time.time()\n",
    "\n",
    "    print(f'[A*] {input_file} Execution time: {round(end - start, 2)} seconds. Soft constraints violated: {check_soft_constraints(result, data)}')\n",
    "    \n",
    "    return result\n",
    "\n",
    "def run_csp(input_file):\n",
    "    data = parse_input_file(input_file)\n",
    "\n",
    "    # Initialize the empty timetable.\n",
    "    initial_state = init_empty_timetable(data)"
   ]
  },
  {
   "cell_type": "markdown",
   "metadata": {},
   "source": [
    "`transform_intervals()` Function that transforms the intervals of the timetable from strings to tuples,\n",
    "in order to work with the utils.pretty_print function."
   ]
  },
  {
   "cell_type": "code",
   "execution_count": null,
   "metadata": {},
   "outputs": [],
   "source": [
    "def transform_intervals(timetable):\n",
    "    new_timetable = {}\n",
    "\n",
    "    for day in timetable:\n",
    "        new_timetable[day] = {}\n",
    "\n",
    "        for interval in timetable[day]:\n",
    "            temp = interval.strip('()').split(',')\n",
    "            new_interval = (int(temp[0]), int(temp[1]))\n",
    "            new_timetable[day][new_interval] = timetable[day][interval]\n",
    "\n",
    "    return new_timetable                      "
   ]
  },
  {
   "cell_type": "markdown",
   "metadata": {},
   "source": [
    "`test_astar()` Runs and times the A* algorithm for the input files. \\\n",
    "`test_csp()` Runs and times the CSP algorithm for the input files."
   ]
  },
  {
   "cell_type": "code",
   "execution_count": null,
   "metadata": {},
   "outputs": [],
   "source": [
    "input_files = ['dummy', 'orar_mic_exact', 'orar_mediu_relaxat', 'orar_mare_relaxat', 'orar_constrans_incalcat', 'orar_bonus_exact']"
   ]
  },
  {
   "cell_type": "code",
   "execution_count": null,
   "metadata": {},
   "outputs": [],
   "source": [
    "def test_astar():\n",
    "    for input_file in input_files:\n",
    "        result = run_astar('inputs/' + input_file + '.yaml')\n",
    "        transformed = transform_intervals(result)\n",
    "        \n",
    "        with open('outputs/' + input_file + '.txt', 'w') as f:\n",
    "           f.write(utils.pretty_print_timetable(transformed, 'inputs/' + input_file + '.yaml'))\n",
    "\n",
    "        print(utils.pretty_print_timetable(transformed, 'inputs/' + input_file + '.yaml'), end='\\n')\n",
    "\n",
    "def test_csp():\n",
    "    for input_file in input_files:\n",
    "        result = run_csp('inputs/' + input_file + '.yaml')\n",
    "        transformed = transform_intervals(result)\n",
    "        \n",
    "        with open('outputs/' + input_file + '.txt', 'w') as f:\n",
    "            f.write(utils.pretty_print_timetable(transformed, 'inputs/' + input_file + '.yaml'))\n",
    "\n",
    "        print(utils.pretty_print_timetable(transformed, 'inputs/' + input_file + '.yaml'), end='\\n')\n",
    "\n",
    "test_astar()\n",
    "test_csp()"
   ]
  }
 ],
 "metadata": {
  "kernelspec": {
   "display_name": "Python 3",
   "language": "python",
   "name": "python3"
  },
  "language_info": {
   "codemirror_mode": {
    "name": "ipython",
    "version": 3
   },
   "file_extension": ".py",
   "mimetype": "text/x-python",
   "name": "python",
   "nbconvert_exporter": "python",
   "pygments_lexer": "ipython3",
   "version": "3.10.4"
  }
 },
 "nbformat": 4,
 "nbformat_minor": 2
}
