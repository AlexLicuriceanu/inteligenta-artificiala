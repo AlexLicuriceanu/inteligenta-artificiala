{
 "cells": [
  {
   "cell_type": "markdown",
   "metadata": {},
   "source": [
    "# Tema 1 IA - Class Scheduler\n",
    "### Alexandru LICURICEANU - 332CD"
   ]
  },
  {
   "cell_type": "code",
   "execution_count": 60,
   "metadata": {},
   "outputs": [],
   "source": [
    "# Prerequisites\n",
    "import utils\n",
    "import numpy as np\n",
    "from copy import copy, deepcopy\n",
    "from heapq import heappop, heappush\n",
    "\n",
    "from utils import ZILE as DAYS\n",
    "from utils import INTERVALE as INTERVALS\n",
    "from utils import SALI as CLASSROOMS\n",
    "from utils import MATERII as SUBJECTS\n",
    "from utils import PROFESORI as TEACHERS"
   ]
  },
  {
   "cell_type": "code",
   "execution_count": 61,
   "metadata": {},
   "outputs": [],
   "source": [
    "# Assign courses to timeslots and classrooms randomly.\n",
    "# Create a dictionary of days containing dictionaries of intervals\n",
    "# containing dictionaries of classrooms with tuples (teacher, subject).\n",
    "\n",
    "def init_empty_timetable(data):\n",
    "    solution = {}\n",
    "\n",
    "    for day in data[DAYS]:\n",
    "        solution[day] = {}\n",
    "\n",
    "        for interval in data[INTERVALS]:\n",
    "\n",
    "            temp = interval.strip('()').split(',')\n",
    "            interval = (int(temp[0]), int(temp[1]))\n",
    "\n",
    "            solution[day][interval] = {}\n",
    "\n",
    "            for classroom in data[CLASSROOMS]:\n",
    "                solution[day][interval][classroom] = None\n",
    "\n",
    "    return solution\n",
    "\n"
   ]
  },
  {
   "cell_type": "code",
   "execution_count": 62,
   "metadata": {},
   "outputs": [
    {
     "name": "stdout",
     "output_type": "stream",
     "text": [
      "|           Interval           |             Luni             |             Marti            |           Miercuri           |              Joi             |            Vineri            |\n",
      "-------------------------------------------------------------------------------------------------------------------------------------------------------------------------------------------\n",
      "|            8 - 10            |      EG324 - goala           |      EG324 - goala           |      EG324 - goala           |\n",
      "|                              |      EG390 - goala           |      EG390 - goala           |      EG390 - goala           |\n",
      "-------------------------------------------------------------------------------------------------------------------------------------------------------------------------------------------\n",
      "|            10 - 12           |      EG324 - goala           |      EG324 - goala           |      EG324 - goala           |\n",
      "|                              |      EG390 - goala           |      EG390 - goala           |      EG390 - goala           |\n",
      "-------------------------------------------------------------------------------------------------------------------------------------------------------------------------------------------\n",
      "|            12 - 14           |      EG324 - goala           |      EG324 - goala           |      EG324 - goala           |\n",
      "|                              |      EG390 - goala           |      EG390 - goala           |      EG390 - goala           |\n",
      "-------------------------------------------------------------------------------------------------------------------------------------------------------------------------------------------\n",
      "\n"
     ]
    }
   ],
   "source": [
    "input_files = ['inputs/dummy.yaml']\n",
    "\n",
    "def test_astar():\n",
    "    for input_file in input_files:\n",
    "        data = utils.read_yaml_file(input_file)\n",
    "\n",
    "        solution = init_empty_timetable(data)\n",
    "\n",
    "        print(utils.pretty_print_timetable(solution))\n",
    "\n",
    "test_astar()"
   ]
  }
 ],
 "metadata": {
  "kernelspec": {
   "display_name": "Python 3",
   "language": "python",
   "name": "python3"
  },
  "language_info": {
   "codemirror_mode": {
    "name": "ipython",
    "version": 3
   },
   "file_extension": ".py",
   "mimetype": "text/x-python",
   "name": "python",
   "nbconvert_exporter": "python",
   "pygments_lexer": "ipython3",
   "version": "3.10.4"
  }
 },
 "nbformat": 4,
 "nbformat_minor": 2
}
