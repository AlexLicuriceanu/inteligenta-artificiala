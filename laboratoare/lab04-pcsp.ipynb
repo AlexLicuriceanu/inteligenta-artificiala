{
 "cells": [
  {
   "cell_type": "markdown",
   "metadata": {},
   "source": [
    "# Laboratorul 3: Satisfacerea parțială a restricțiilor\n",
    " - Tudor Berariu\n",
    " - Andrei Olaru\n",
    " - Ana-Maria Simion"
   ]
  },
  {
   "cell_type": "code",
   "execution_count": 1,
   "metadata": {},
   "outputs": [],
   "source": [
    "from copy import copy, deepcopy\n",
    "from itertools import combinations\n",
    "from __future__ import annotations"
   ]
  },
  {
   "cell_type": "markdown",
   "metadata": {},
   "source": [
    "## O problemă de satisfacere a restricțiilor\n",
    "\n",
    "O **problemă de satisfacere a restricțiilor** este definită de:\n",
    " - o mulțime discretă de **variabile**\n",
    " - câte un **domeniu de valori** pentru fiecare variabilă\n",
    " - un set de **constrângeri** impuse asupra unor grupuri de variabile\n",
    " \n",
    "Vom reprezenta în Python cele de mai sus astfel:\n",
    " - fiecare variabilă va fi reprezentată printr-un șir de caractere\n",
    "\n",
    "```\n",
    "Vars = [\"A\", \"B\", \"C\"]\n",
    "```\n",
    " - mulțimea domeniilor va fi un dicționar având câte o intrare pentru fiecare variabilă:\n",
    "    + cheie va fi numele variabilei\n",
    "    + valoare va fi domeniul de valori al acelei variabile\n",
    "\n",
    "```\n",
    "Domains = {\"A\": [1, 2, 3], \"B\": [1, 5, 9], \"C\": [-2, -1]}\n",
    "```\n",
    " - o constrângere va fi reprezentată printr-un tuplu format din:\n",
    "    + lista de variabile implicată în constrângere\n",
    "    + o funcție anonimă care întoarce `True` sau `False`\n",
    "\n",
    "```\n",
    "Constraints = [([\"A\", \"B\", \"C\"], lambda a, b, c: a + b + c == 0)]\n",
    "```\n",
    "\n",
    "Vom reprezenta o **soluție** printr-un dicționar ce indică o valoare pentru fiecare variabilă (e.g. `{\"A\": 1, \"B\": 1, \"C\" -2}`) și vom defini **costul** ca fiind egal cu numărul de constrângeri încălcate de acea soluție."
   ]
  },
  {
   "cell_type": "code",
   "execution_count": 2,
   "metadata": {},
   "outputs": [],
   "source": [
    "VarsA = [\"A\", \"B\", \"C\", \"D\", \"E\"]\n",
    "DomainsA = {v: [i for i in range(10)] for v in VarsA}\n",
    "ConstraintsA = [(list(p), lambda x,y: x != y) for p in combinations(VarsA, 2)] # toate valorile diferite\n",
    "ConstraintsA.append(([\"A\",\"B\"], lambda a, b: a + b == 10))\n",
    "ConstraintsA.append(([\"B\",\"D\"], lambda b, d: b + d == 6))\n",
    "ConstraintsA.append(([\"C\"], lambda c: c < 5))\n",
    "ConstraintsA.append(([\"A\"], lambda a: a > 5))\n",
    "ConstraintsA.append(([\"A\",\"B\",\"C\",\"D\",\"E\"], lambda a, b, c, d, e: a + b + c + d + e == 30))\n",
    "MathProblem = {\"Vars\": VarsA, \"Domains\": DomainsA, \"Constraints\": ConstraintsA}"
   ]
  },
  {
   "cell_type": "code",
   "execution_count": 3,
   "metadata": {},
   "outputs": [],
   "source": [
    "VarsC = [\"France\", \"Germany\", \"Loux\", \"Belgium\", \"Netherlands\"]\n",
    "DomainsC = {v: [\"blue\", \"red\", \"yellow\", \"green\"] for v in VarsC}\n",
    "ConstraintsC = []\n",
    "for (a, b) in [(\"France\", \"Germany\"), (\"France\", \"Belgium\"), (\"France\", \"Loux\"),\n",
    "               (\"Belgium\", \"Netherlands\"), (\"Belgium\", \"Loux\"), (\"Belgium\", \"Germany\"),\n",
    "               (\"Loux\", \"Germany\"), (\"Netherlands\", \"Germany\")]:\n",
    "    ConstraintsC.append(([a, b], lambda a, b: a != b))\n",
    "ColoringProblem = {\"Vars\": VarsC, \"Domains\": DomainsC, \"Constraints\": ConstraintsC}"
   ]
  },
  {
   "cell_type": "code",
   "execution_count": 4,
   "metadata": {},
   "outputs": [],
   "source": [
    "class State:\n",
    "    # variantă redusă a clasei din laboratorul de căutare locală\n",
    "    def __init__(\n",
    "        self,\n",
    "        size: int,\n",
    "        board: list[int] | None = None,\n",
    "        conflicts: int | None = None,\n",
    "        seed: int = 42\n",
    "        \n",
    "    ) -> None:\n",
    "\n",
    "        self.size = size\n",
    "        self.board = board if board is not None else State.generate_board(size, seed)\n",
    "        self.nconflicts = conflicts if conflicts is not None \\\n",
    "            else State.__compute_conflicts(self.size, self.board)\n",
    "\n",
    "    @staticmethod\n",
    "    def __compute_conflicts(size: int, board: list[int]) -> int:\n",
    "        '''\n",
    "        Calculează numărul de conflicte parcurgând toate perechile de dame\n",
    "        '''\n",
    "        _conflicts = 0\n",
    "        for i in range(size):\n",
    "            for j in range(i + 1, size):\n",
    "                if board[i] == board[j]: _conflicts += 1\n",
    "                if abs(board[i] - board[j]) == (j - i): _conflicts += 1\n",
    "\n",
    "        return _conflicts\n",
    "\n",
    "    def conflicts(self) -> int:\n",
    "        '''\n",
    "        Întoarce numărul de conflicte din această stare.\n",
    "        '''\n",
    "        return self.nconflicts\n",
    "\n",
    "    def is_final(self) -> bool:\n",
    "        '''\n",
    "        Întoarce True dacă este stare finală.\n",
    "        '''\n",
    "        return self.nconflicts == 0\n",
    "\n",
    "    def __str__(self) -> str:\n",
    "        board = \" \" + \"_ \" * self.size + \"\\n\"\n",
    "        board += \"|\\n\".join(\"|\" + \"|\".join((\"Q\" if col == self.board[row] else\"_\")\n",
    "                                            for row in range(self.size))\n",
    "                                            for col in range(self.size))\n",
    "        board += \"|\\n\"\n",
    "        return board\n",
    "\n",
    "    def display(self) -> None:\n",
    "        '''\n",
    "        Afișează tablei de joc\n",
    "        '''\n",
    "        print(self)\n"
   ]
  },
  {
   "cell_type": "code",
   "execution_count": 5,
   "metadata": {},
   "outputs": [],
   "source": [
    "VarsQ = [\"Q\" + str(i) for i in range(8)]\n",
    "DomainsQ = {v: list(range(8)) for v in VarsQ}\n",
    "ConstraintsQ = []\n",
    "for q1 in range(7):\n",
    "    for q2 in range(q1 + 1, 8):\n",
    "        ConstraintsQ.append(([\"Q\" + str(q1), \"Q\" + str(q2)], lambda q1_row, q2_row: q1_row != q2_row))\n",
    "        ConstraintsQ.append(([\"Q\" + str(q1), \"Q\" + str(q2)],\n",
    "                                  lambda q1_row, q2_row, q1_col=q1, q2_col=q2:\n",
    "                                  abs(q1_col - q2_col) != abs(q1_row - q2_row)))\n",
    "EightQueensProblem = {\"Vars\": VarsQ, \"Domains\": DomainsQ, \"Constraints\": ConstraintsQ}"
   ]
  },
  {
   "cell_type": "markdown",
   "metadata": {},
   "source": [
    "## Cerința 1\n",
    "\n",
    "Implementați funcția `get_constraints` care primește o variabilă `var` și o listă de constrângeri `constraints` și întoarce doar acele constrângeri care implică variabila dată.\n",
    "```\n",
    "Constraints = [([\"A\", \"B\"], lambda a,b: a<b), ([\"A\"], lambda a: a<5)]\n",
    "get_constraints(\"B\", Constraints)\n",
    "==> [([\"A\", \"B\"], lambda a,b: a<b)]\n",
    "get_constraints(\"A\", Constraints)\n",
    "==> [([\"A\", \"B\"], lambda a,b: a<b), ([\"A\"], lambda a: a<5)]\n",
    "```"
   ]
  },
  {
   "cell_type": "code",
   "execution_count": 6,
   "metadata": {},
   "outputs": [
    {
     "data": {
      "text/plain": [
       "[(['France', 'Germany'], <function __main__.<lambda>(a, b)>),\n",
       " (['France', 'Belgium'], <function __main__.<lambda>(a, b)>),\n",
       " (['France', 'Loux'], <function __main__.<lambda>(a, b)>)]"
      ]
     },
     "execution_count": 6,
     "metadata": {},
     "output_type": "execute_result"
    }
   ],
   "source": [
    "def get_constraints(var, constraints):\n",
    "    return [constraint for constraint in constraints if var in constraint[0]]\n",
    "\n",
    "get_constraints(\"France\", ConstraintsC) # => [(['France', 'Germany'], ...), (['France', 'Belgium'], ...), (['France', 'Loux'], ...)]"
   ]
  },
  {
   "cell_type": "markdown",
   "metadata": {},
   "source": [
    "## Cerința 2\n",
    "\n",
    "Implementați funcția `fixed_constraints` care primește o soluție parțială `solution` și un set de constrângeri `constraints` și întoarce doar acele constrângeri care pot fi evaluate (i.e. variabilele implicate se regăsesc în soluția parțială)."
   ]
  },
  {
   "cell_type": "code",
   "execution_count": 7,
   "metadata": {},
   "outputs": [
    {
     "name": "stdout",
     "output_type": "stream",
     "text": [
      "[(['France', 'Belgium'], <function <lambda> at 0x000002C40C2162A0>)]\n",
      "[(['A', 'C'], <function <lambda> at 0x000002C40C216660>), (['C'], <function <lambda> at 0x000002C40C216C00>), (['A'], <function <lambda> at 0x000002C40C216CA0>)]\n"
     ]
    }
   ],
   "source": [
    "def fixed_constraints(solution, constraints):\n",
    "    return [constraint for constraint in constraints if all(var in solution for var in constraint[0])]\n",
    "\n",
    "print(fixed_constraints({\"France\": \"blue\", \"Belgium\": \"green\"}, ConstraintsC)) # => [(['France', 'Belgium'], ...)]\n",
    "print(fixed_constraints({\"A\": \"1\", \"C\": \"2\"}, ConstraintsA)) # => [(['A', 'C'], ...), (['C'], ...), (['A'], ...)]"
   ]
  },
  {
   "cell_type": "markdown",
   "metadata": {},
   "source": [
    "## Cerința 3\n",
    "\n",
    "Implementați funcția `check_constraint` care primește o constrângere `constraint` și o soluție parțială `solution` și întoarce `True` dacă soluția respectă constrângerea și `False` altfel.\n",
    "\n",
    "**Hint:** pentru a apela o funcție știind lista parametrilor săi folosiți `f(*args)`, unde `args` este lista de argumente."
   ]
  },
  {
   "cell_type": "code",
   "execution_count": 8,
   "metadata": {},
   "outputs": [
    {
     "name": "stdout",
     "output_type": "stream",
     "text": [
      "True\n",
      "False\n",
      "True\n",
      "False\n"
     ]
    }
   ],
   "source": [
    "def check_constraint(solution, constraint):\n",
    "    return constraint[1](*[solution[var] for var in constraint[0]])\n",
    "\n",
    "print(check_constraint({\"France\": \"blue\", \"Belgium\": \"green\"}, ConstraintsC[1])) # => True\n",
    "print(check_constraint({\"France\": \"blue\", \"Belgium\": \"blue\"}, ConstraintsC[1])) # => False\n",
    "print(check_constraint({\"C\": 10, \"A\": 10}, ConstraintsA[-2])) # => True\n",
    "print(check_constraint({\"C\": 10, \"A\": 3}, ConstraintsA[-2])) # => False"
   ]
  },
  {
   "cell_type": "markdown",
   "metadata": {},
   "source": [
    "## Cerința 4: PCSP\n",
    "\n",
    "Completați ceea ce lipsește în algoritmul PCSP.\n",
    "\n",
    "* `vars` -- variabilele care mai rămân de verificat\n",
    "* `domains` -- domeniile pentru variabilele care mai rămân de verificat, cu valorile care mai rămân de verificat pentru fiecare variabilă\n",
    "* `constrains` -- lista de constrângeri\n",
    "* `acceptable_cost` -- costul pentru care se consideră ca soluția este satisfăcătoare\n",
    "* `solution` -- soluția parțială, conținând valori pentru variabilele verificate până acum\n",
    "* `cost` -- costul soluției parțiale (`solution`) -- numărul de constrângeri nesatisfăcute\n",
    "\n",
    "Valoare întoarsă de funcție este `True` dacă a fost găsită o soluție completă satisfăcătoare (vezi costul acceptabil), și `False` altfel.\n",
    "\n",
    "Se folosesc două variabile globale:\n",
    "* `best_cost` -- cel mai bun (mic) cost întâlnit până acum în explorare, pentru o soluție completă\n",
    "* `best_solution` -- soluția corespunzătoare celui mai bun cost"
   ]
  },
  {
   "cell_type": "code",
   "execution_count": 9,
   "metadata": {
    "scrolled": false
   },
   "outputs": [
    {
     "name": "stdout",
     "output_type": "stream",
     "text": [
      "New best: 1 - {'A': 6, 'B': 4, 'C': 0, 'D': 2, 'E': 1}\n",
      "Best found in 588 iterations: 1 - {'A': 6, 'B': 4, 'C': 0, 'D': 2, 'E': 1}\n",
      "New best: 1 - {'France': 'blue', 'Germany': 'blue', 'Loux': 'red', 'Belgium': 'yellow', 'Netherlands': 'red'}\n",
      "Best found in 9 iterations: 1 - {'France': 'blue', 'Germany': 'blue', 'Loux': 'red', 'Belgium': 'yellow', 'Netherlands': 'red'}\n",
      "New best: 1 - {'Q0': 0, 'Q1': 0, 'Q2': 3, 'Q3': 5, 'Q4': 7, 'Q5': 1, 'Q6': 4, 'Q7': 2}\n",
      "Best found in 78 iterations: 1 - {'Q0': 0, 'Q1': 0, 'Q2': 3, 'Q3': 5, 'Q4': 7, 'Q5': 1, 'Q6': 4, 'Q7': 2}\n"
     ]
    }
   ],
   "source": [
    "def PCSP(vars, domains, constraints, acceptable_cost, solution, cost):\n",
    "    global best_solution\n",
    "    global best_cost\n",
    "    global iterations\n",
    "    if not vars:\n",
    "        # Dacă nu mai sunt variabile, am ajuns la o soluție mai bună\n",
    "        print(\"New best: \" + str(cost) + \" - \" + str(solution))\n",
    "\n",
    "        # Salvați soluția nou-descoperită\n",
    "        best_solution = copy(solution)\n",
    "        best_cost = cost\n",
    "\n",
    "        # Dacă este suficient de bună, funcția întoarce True\n",
    "        if best_cost <= acceptable_cost:\n",
    "            return True\n",
    "        \n",
    "    elif not domains[vars[0]]:\n",
    "        # Dacă nu mai sunt valori în domeniu, am terminat căutarea\n",
    "        return False\n",
    "    elif cost == best_cost:\n",
    "        # Dacă am ajuns deja la un cost identic cu cel al celei mai bune soluții, nu mergem mai departe\n",
    "        return False\n",
    "    else:\n",
    "        # Luăm prima variabilă și prima valoare din domeniu\n",
    "        var = vars[0]\n",
    "        val = domains[var].pop(0)\n",
    "        iterations += 1\n",
    "\n",
    "        # Construim noua soluție\n",
    "        new_solution = copy(solution)\n",
    "        new_solution[var] = val\n",
    "\n",
    "        # Obținem lista constrângerilor ce pot fi evaluate acum\n",
    "        eval_constraints = fixed_constraints(new_solution, constraints)\n",
    "\n",
    "        # Calculăm costul noii soluții parțiale (fiecare constrângere încălcată = 1)\n",
    "        new_cost = 0\n",
    "\n",
    "        for constraint in eval_constraints:\n",
    "            if not check_constraint(new_solution, constraint):\n",
    "                new_cost += 1\n",
    "\n",
    "        # Verificăm dacă noul cost este mai mic decât cel mai bun cost\n",
    "        # După rezolvarea completă, introduceți și a doua condiție\n",
    "        if new_cost < best_cost and new_cost <= acceptable_cost:\n",
    "\n",
    "            # Dacă noul cost este mai mic decât cel mai bun cunoscut, rezolvăm pentru restul variabilelor\n",
    "            # Dacă apelul recursiv întoarce True, a fost găsită o soluție suficient de bună, deci întoarcem True\n",
    "\n",
    "            if PCSP(vars[1:], deepcopy(domains), constraints, acceptable_cost, new_solution, new_cost):\n",
    "                return True\n",
    "            \n",
    "        # Verificăm pentru restul valorilor\n",
    "        return PCSP(vars, deepcopy(domains), constraints, acceptable_cost, solution, cost)\n",
    "\n",
    "# Un wrapper care să instanțieze variabilele globale\n",
    "def run_pcsp(problem, acceptable_cost):\n",
    "    global best_solution\n",
    "    global best_cost\n",
    "    global iterations\n",
    "\n",
    "    [vars, domains, constraints] = [problem[e] for e in [\"Vars\", \"Domains\", \"Constraints\"]]\n",
    "\n",
    "    best_solution = {}\n",
    "    best_cost = len(constraints)\n",
    "    iterations = 0\n",
    "\n",
    "    if PCSP(vars, deepcopy(domains), constraints, acceptable_cost, {}, 0):\n",
    "        print(f\"Best found in {iterations} iterations: {str(best_cost)} - {str(best_solution)}\")\n",
    "    else:\n",
    "        print(f\"Acceptable solution not found in {iterations}; Best found: {str(best_cost)} - {str(best_solution)}\")\n",
    "\n",
    "# Rulăm testele\n",
    "run_pcsp(MathProblem, 1)\n",
    "run_pcsp(ColoringProblem, 1)\n",
    "run_pcsp(EightQueensProblem, 1)\n",
    "EightQueensSolution = list(best_solution.values())"
   ]
  },
  {
   "cell_type": "markdown",
   "metadata": {
    "collapsed": true
   },
   "source": [
    "Expected for numbers:\n",
    "\n",
    "```\n",
    "New best: 14 - {'A': 0, 'B': 0, 'C': 0, 'D': 0, 'E': 0}\n",
    "New best: 10 - {'A': 0, 'B': 0, 'C': 0, 'D': 0, 'E': 1}\n",
    "New best: 8 - {'A': 0, 'B': 0, 'C': 0, 'D': 1, 'E': 1}\n",
    "New best: 7 - {'A': 0, 'B': 0, 'C': 0, 'D': 1, 'E': 2}\n",
    "New best: 6 - {'A': 0, 'B': 0, 'C': 0, 'D': 6, 'E': 1}\n",
    "New best: 5 - {'A': 0, 'B': 0, 'C': 1, 'D': 2, 'E': 3}\n",
    "New best: 4 - {'A': 0, 'B': 0, 'C': 1, 'D': 6, 'E': 2}\n",
    "New best: 3 - {'A': 0, 'B': 1, 'C': 2, 'D': 5, 'E': 3}\n",
    "New best: 2 - {'A': 2, 'B': 8, 'C': 4, 'D': 7, 'E': 9}\n",
    "New best: 1 - {'A': 6, 'B': 4, 'C': 0, 'D': 2, 'E': 1}\n",
    "Best found: 1 - {'A': 6, 'B': 4, 'C': 0, 'D': 2, 'E': 1}\n",
    "```\n",
    "\n",
    "Expected for country colors:\n",
    "\n",
    "```\n",
    "New best:  8  -  {'Loux': 'blue', 'Belgium': 'blue', 'Netherlands': 'blue', 'Germany': 'blue', 'France': 'blue'}\n",
    "New best:  6  -  {'Loux': 'blue', 'Belgium': 'blue', 'Netherlands': 'red', 'Germany': 'blue', 'France': 'blue'}\n",
    "New best:  4  -  {'Loux': 'blue', 'Belgium': 'red', 'Netherlands': 'blue', 'Germany': 'blue', 'France': 'blue'}\n",
    "New best:  3  -  {'Loux': 'blue', 'Belgium': 'red', 'Netherlands': 'yellow', 'Germany': 'blue', 'France': 'blue'}\n",
    "New best:  2  -  {'Loux': 'red', 'Belgium': 'red', 'Netherlands': 'yellow', 'Germany': 'blue', 'France': 'blue'}\n",
    "New best:  1  -  {'Loux': 'red', 'Belgium': 'yellow', 'Netherlands': 'red', 'Germany': 'blue', 'France': 'blue'}\n",
    "Best found: 1  -  {'Loux': 'red', 'Belgium': 'yellow', 'Netherlands': 'red', 'Germany': 'blue', 'France': 'blue'}\n",
    "```\n",
    "\n",
    "Expected for 8-Queens:\n",
    "\n",
    "```\n",
    "New best: 28 - {'Q0': 0, 'Q1': 0, 'Q2': 0, 'Q3': 0, 'Q4': 0, 'Q5': 0, 'Q6': 0, 'Q7': 0}\n",
    "New best: 22 - {'Q0': 0, 'Q1': 0, 'Q2': 0, 'Q3': 0, 'Q4': 0, 'Q5': 0, 'Q6': 0, 'Q7': 1}\n",
    "New best: 17 - {'Q0': 0, 'Q1': 0, 'Q2': 0, 'Q3': 0, 'Q4': 0, 'Q5': 0, 'Q6': 1, 'Q7': 1}\n",
    "New best: 16 - {'Q0': 0, 'Q1': 0, 'Q2': 0, 'Q3': 0, 'Q4': 0, 'Q5': 0, 'Q6': 3, 'Q7': 1}\n",
    "New best: 15 - {'Q0': 0, 'Q1': 0, 'Q2': 0, 'Q3': 0, 'Q4': 0, 'Q5': 0, 'Q6': 7, 'Q7': 1}\n",
    "New best: 14 - {'Q0': 0, 'Q1': 0, 'Q2': 0, 'Q3': 0, 'Q4': 0, 'Q5': 1, 'Q6': 1, 'Q7': 1}\n",
    "New best: 13 - {'Q0': 0, 'Q1': 0, 'Q2': 0, 'Q3': 0, 'Q4': 0, 'Q5': 1, 'Q6': 1, 'Q7': 2}\n",
    "New best: 12 - {'Q0': 0, 'Q1': 0, 'Q2': 0, 'Q3': 0, 'Q4': 0, 'Q5': 1, 'Q6': 4, 'Q7': 2}\n",
    "New best: 11 - {'Q0': 0, 'Q1': 0, 'Q2': 0, 'Q3': 0, 'Q4': 0, 'Q5': 1, 'Q6': 7, 'Q7': 2}\n",
    "New best: 10 - {'Q0': 0, 'Q1': 0, 'Q2': 0, 'Q3': 0, 'Q4': 1, 'Q5': 1, 'Q6': 2, 'Q7': 2}\n",
    "New best: 9 - {'Q0': 0, 'Q1': 0, 'Q2': 0, 'Q3': 0, 'Q4': 1, 'Q5': 1, 'Q6': 4, 'Q7': 2}\n",
    "New best: 8 - {'Q0': 0, 'Q1': 0, 'Q2': 0, 'Q3': 0, 'Q4': 1, 'Q5': 1, 'Q6': 7, 'Q7': 2}\n",
    "New best: 7 - {'Q0': 0, 'Q1': 0, 'Q2': 0, 'Q3': 0, 'Q4': 2, 'Q5': 6, 'Q6': 1, 'Q7': 3}\n",
    "New best: 6 - {'Q0': 0, 'Q1': 0, 'Q2': 0, 'Q3': 0, 'Q4': 5, 'Q5': 7, 'Q6': 1, 'Q7': 3}\n",
    "New best: 5 - {'Q0': 0, 'Q1': 0, 'Q2': 0, 'Q3': 1, 'Q4': 3, 'Q5': 7, 'Q6': 2, 'Q7': 4}\n",
    "New best: 4 - {'Q0': 0, 'Q1': 0, 'Q2': 0, 'Q3': 1, 'Q4': 5, 'Q5': 7, 'Q6': 2, 'Q7': 4}\n",
    "New best: 3 - {'Q0': 0, 'Q1': 0, 'Q2': 1, 'Q3': 1, 'Q4': 5, 'Q5': 7, 'Q6': 2, 'Q7': 4}\n",
    "New best: 2 - {'Q0': 0, 'Q1': 0, 'Q2': 2, 'Q3': 4, 'Q4': 6, 'Q5': 1, 'Q6': 3, 'Q7': 5}\n",
    "New best: 1 - {'Q0': 0, 'Q1': 0, 'Q2': 3, 'Q3': 5, 'Q4': 7, 'Q5': 1, 'Q6': 4, 'Q7': 2}\n",
    "Best found: 1 - {'Q0': 0, 'Q1': 0, 'Q2': 3, 'Q3': 5, 'Q4': 7, 'Q5': 1, 'Q6': 4, 'Q7': 2}\n",
    "```"
   ]
  },
  {
   "cell_type": "code",
   "execution_count": 10,
   "metadata": {
    "scrolled": true
   },
   "outputs": [
    {
     "name": "stdout",
     "output_type": "stream",
     "text": [
      " _ _ _ _ _ _ _ _ \n",
      "|Q|Q|_|_|_|_|_|_|\n",
      "|_|_|_|_|_|Q|_|_|\n",
      "|_|_|_|_|_|_|_|Q|\n",
      "|_|_|Q|_|_|_|_|_|\n",
      "|_|_|_|_|_|_|Q|_|\n",
      "|_|_|_|Q|_|_|_|_|\n",
      "|_|_|_|_|_|_|_|_|\n",
      "|_|_|_|_|Q|_|_|_|\n",
      "\n",
      "Number of conflicts: 1\n",
      "Is not solution.\n",
      "\n"
     ]
    }
   ],
   "source": [
    "if EightQueensSolution:\n",
    "    state = State(8, EightQueensSolution)\n",
    "    state.display()\n",
    "    print(f\"Number of conflicts: {state.conflicts()}\")\n",
    "    print(f\"Is{'' if state.is_final() else ' not'} solution.\\n\")"
   ]
  }
 ],
 "metadata": {
  "kernelspec": {
   "display_name": "Python 3 (ipykernel)",
   "language": "python",
   "name": "python3"
  },
  "language_info": {
   "codemirror_mode": {
    "name": "ipython",
    "version": 3
   },
   "file_extension": ".py",
   "mimetype": "text/x-python",
   "name": "python",
   "nbconvert_exporter": "python",
   "pygments_lexer": "ipython3",
   "version": "3.12.2"
  }
 },
 "nbformat": 4,
 "nbformat_minor": 1
}
