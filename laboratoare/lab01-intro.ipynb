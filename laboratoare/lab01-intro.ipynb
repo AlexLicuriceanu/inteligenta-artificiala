{
 "cells": [
  {
   "cell_type": "markdown",
   "metadata": {
    "id": "pAbOYrCmn1IX"
   },
   "source": [
    "## Inteligență Artificială  Laboratorul 1 : Introducere în Python\n",
    "\n",
    "\n",
    "- Cătălin Chiru: <cata.chiru99@gmail.com>\n",
    "- Mihai Nan: <mihai.nan@upb.ro>\n"
   ]
  },
  {
   "cell_type": "markdown",
   "metadata": {
    "id": "jAFHhLGun1IZ"
   },
   "source": [
    "Conținuturi:\n",
    "* liste \n",
    "* dicționare \n",
    "* numpy \n",
    "* funcții \n",
    "* tupluri "
   ]
  },
  {
   "cell_type": "markdown",
   "metadata": {},
   "source": [
    "# <u> Tutorial [20p] </u>"
   ]
  },
  {
   "cell_type": "markdown",
   "metadata": {
    "id": "qLESCIYvn1IZ"
   },
   "source": [
    "# <u> Importuri </u>"
   ]
  },
  {
   "cell_type": "markdown",
   "metadata": {
    "id": "16PgA8l1n1Ia"
   },
   "source": [
    "Importurile sunt descarcate utilizand pip, un sistem de management al pachetelor pentru Python."
   ]
  },
  {
   "cell_type": "markdown",
   "metadata": {
    "id": "YqlBxP1on1Ia"
   },
   "source": [
    "---\n",
    "**Observație**:\n",
    "\n",
    "Nu este necesar sa rulati instalarea importurilor la fiecare rulare a notebook-ului. Ele sunt deja instalate in mediu.\n",
    "\n",
    "De aceea, acestea sunt adesea pozitionate la inceputul notebook-ului.\n",
    "\n",
    "___\n"
   ]
  },
  {
   "cell_type": "code",
   "execution_count": 1,
   "metadata": {
    "colab": {
     "base_uri": "https://localhost:8080/"
    },
    "id": "BC__6ENkn1Ib",
    "outputId": "222f2b2f-fd13-417f-b3ef-e15c80dc7245"
   },
   "outputs": [
    {
     "name": "stderr",
     "output_type": "stream",
     "text": [
      "WARNING: Ignoring invalid distribution -atplotlib (c:\\users\\user\\appdata\\local\\packages\\pythonsoftwarefoundation.python.3.10_qbz5n2kfra8p0\\localcache\\local-packages\\python310\\site-packages)\n",
      "ERROR: Invalid requirement: '#numpy==1.16.1'\n",
      "WARNING: Ignoring invalid distribution -atplotlib (c:\\users\\user\\appdata\\local\\packages\\pythonsoftwarefoundation.python.3.10_qbz5n2kfra8p0\\localcache\\local-packages\\python310\\site-packages)\n",
      "WARNING: Ignoring invalid distribution -atplotlib (c:\\users\\user\\appdata\\local\\packages\\pythonsoftwarefoundation.python.3.10_qbz5n2kfra8p0\\localcache\\local-packages\\python310\\site-packages)\n",
      "WARNING: Ignoring invalid distribution -atplotlib (c:\\users\\user\\appdata\\local\\packages\\pythonsoftwarefoundation.python.3.10_qbz5n2kfra8p0\\localcache\\local-packages\\python310\\site-packages)\n",
      "\n",
      "[notice] A new release of pip is available: 23.0.1 -> 24.0\n",
      "[notice] To update, run: C:\\Users\\user\\AppData\\Local\\Microsoft\\WindowsApps\\PythonSoftwareFoundation.Python.3.10_qbz5n2kfra8p0\\python.exe -m pip install --upgrade pip\n"
     ]
    },
    {
     "name": "stdout",
     "output_type": "stream",
     "text": [
      "Looking in indexes: https://pypi.org/simple, https://pypi.ngc.nvidia.com\n",
      "Requirement already satisfied: unidecode in c:\\users\\user\\appdata\\local\\packages\\pythonsoftwarefoundation.python.3.10_qbz5n2kfra8p0\\localcache\\local-packages\\python310\\site-packages (1.3.6)\n"
     ]
    },
    {
     "name": "stderr",
     "output_type": "stream",
     "text": [
      "WARNING: Ignoring invalid distribution -atplotlib (c:\\users\\user\\appdata\\local\\packages\\pythonsoftwarefoundation.python.3.10_qbz5n2kfra8p0\\localcache\\local-packages\\python310\\site-packages)\n",
      "WARNING: Ignoring invalid distribution -atplotlib (c:\\users\\user\\appdata\\local\\packages\\pythonsoftwarefoundation.python.3.10_qbz5n2kfra8p0\\localcache\\local-packages\\python310\\site-packages)\n",
      "WARNING: Ignoring invalid distribution -atplotlib (c:\\users\\user\\appdata\\local\\packages\\pythonsoftwarefoundation.python.3.10_qbz5n2kfra8p0\\localcache\\local-packages\\python310\\site-packages)\n",
      "WARNING: Ignoring invalid distribution -atplotlib (c:\\users\\user\\appdata\\local\\packages\\pythonsoftwarefoundation.python.3.10_qbz5n2kfra8p0\\localcache\\local-packages\\python310\\site-packages)\n",
      "WARNING: Ignoring invalid distribution -atplotlib (c:\\users\\user\\appdata\\local\\packages\\pythonsoftwarefoundation.python.3.10_qbz5n2kfra8p0\\localcache\\local-packages\\python310\\site-packages)\n",
      "WARNING: Ignoring invalid distribution -atplotlib (c:\\users\\user\\appdata\\local\\packages\\pythonsoftwarefoundation.python.3.10_qbz5n2kfra8p0\\localcache\\local-packages\\python310\\site-packages)\n",
      "\n",
      "[notice] A new release of pip is available: 23.0.1 -> 24.0\n",
      "[notice] To update, run: C:\\Users\\user\\AppData\\Local\\Microsoft\\WindowsApps\\PythonSoftwareFoundation.Python.3.10_qbz5n2kfra8p0\\python.exe -m pip install --upgrade pip\n"
     ]
    }
   ],
   "source": [
    "# !pip install functools\n",
    "# !pip install pickle\n",
    "!pip install numpy #numpy==1.16.1 (Anumite pachete au nevoie de compatibilitatea versiunilor,\n",
    "                   #               în comentarii am specificat modul prin care putem forța instalarea unei versiuni specifice)\n",
    "\n",
    "!pip install unidecode\n",
    "# !pip install pandas\n",
    "# !pip install copy"
   ]
  },
  {
   "cell_type": "markdown",
   "metadata": {
    "id": "m4OvonMpn1Ib"
   },
   "source": [
    "Putem sa importam fie un intreg modul, fie doar functiile sau clasele din acel modul pe care dorim sa le folosim (Opțiune aleasă din considerente de memorie și lizibilitate a codului).  \n"
   ]
  },
  {
   "cell_type": "code",
   "execution_count": 2,
   "metadata": {
    "id": "2lpmsPOHn1Ib"
   },
   "outputs": [],
   "source": [
    "from functools import reduce\n",
    "import re\n",
    "from unidecode import unidecode\n",
    "import pickle as pkl # Putem folosi aliasuri pentru a scurta numele unor module utilizate\n",
    "import numpy as np\n",
    "import pandas as pd\n",
    "from copy import deepcopy"
   ]
  },
  {
   "cell_type": "markdown",
   "metadata": {
    "id": "2ST1ePm_P5W3"
   },
   "source": [
    "# <u> Variabile </u>"
   ]
  },
  {
   "cell_type": "code",
   "execution_count": 3,
   "metadata": {
    "id": "VTQ-xN2RTcVm"
   },
   "outputs": [],
   "source": [
    "var = 5"
   ]
  },
  {
   "cell_type": "markdown",
   "metadata": {
    "id": "tWf6MsD_XPT7"
   },
   "source": [
    "În cadrul modulelor de deep learning, o prima etapă a debuggingului în cazul erorilor din timpul rulării programului (`Runtime Errors`) o reprezintă printarea tipurilor de date curente și așteptate."
   ]
  },
  {
   "cell_type": "code",
   "execution_count": 4,
   "metadata": {
    "colab": {
     "base_uri": "https://localhost:8080/"
    },
    "id": "cyQNGZyETnqA",
    "outputId": "bbdc0ff7-c3e7-4c64-da92-6ee47767e439"
   },
   "outputs": [
    {
     "data": {
      "text/plain": [
       "int"
      ]
     },
     "execution_count": 4,
     "metadata": {},
     "output_type": "execute_result"
    }
   ],
   "source": [
    "type(var) # Intoarce tipul cel mai general care poate fi inferat din variabila"
   ]
  },
  {
   "cell_type": "markdown",
   "metadata": {
    "id": "wcQ-jE-rn1Id"
   },
   "source": [
    "Pentru o mai buna vizibilitate, putem tipa variabilele:"
   ]
  },
  {
   "cell_type": "code",
   "execution_count": 5,
   "metadata": {
    "colab": {
     "base_uri": "https://localhost:8080/"
    },
    "id": "roG9KJv4TvzY",
    "outputId": "c2385b75-92b9-4f19-feb1-2f444a3783c5"
   },
   "outputs": [
    {
     "data": {
      "text/plain": [
       "int"
      ]
     },
     "execution_count": 5,
     "metadata": {},
     "output_type": "execute_result"
    }
   ],
   "source": [
    "var : int = 5\n",
    "\n",
    "type(var)"
   ]
  },
  {
   "cell_type": "markdown",
   "metadata": {
    "id": "BgknsM-Rn1Ie"
   },
   "source": [
    "Însă, python este suficient de permisiv și nu va produce erori dacă tipul variabilei nu concordă, căutând să convertească tipul variabilei la cel mai general tip care face matching cu toate elementele listei:"
   ]
  },
  {
   "cell_type": "code",
   "execution_count": 6,
   "metadata": {
    "colab": {
     "base_uri": "https://localhost:8080/"
    },
    "id": "W0u6e6JuT5wd",
    "outputId": "a899293b-7ece-4400-faeb-dc81ad87ca9d"
   },
   "outputs": [
    {
     "data": {
      "text/plain": [
       "str"
      ]
     },
     "execution_count": 6,
     "metadata": {},
     "output_type": "execute_result"
    }
   ],
   "source": [
    "var2 : int = \"abc\"\n",
    "\n",
    "type(var2)"
   ]
  },
  {
   "cell_type": "markdown",
   "metadata": {
    "id": "NdX-i1hFrqxw"
   },
   "source": [
    "___\n",
    "**Observație:** Celulele unui Jupyter Notebook sunt executate de obicei într-o maniera top-down, iar datele calculate sau variabilele definite într-o celulă sunt păstrate local, în memoria notebook-ului și sunt disponibile în celulele ulterioare din cadrul aceluiași document.\n",
    "\n",
    "Acest comportament permite utilizatorilor să acceseze și să reutilizeze rezultatele sau variabilele definite anterior.\n",
    "\n",
    "Aveți mare grijă în momentul în care faceți debugging în celule inferioare celulei unde vă efectuați workflow-ul curent la efectele laterale pe care le produceți asupra variabilelor de interes.\n",
    "\n",
    "---"
   ]
  },
  {
   "cell_type": "code",
   "execution_count": 7,
   "metadata": {
    "colab": {
     "base_uri": "https://localhost:8080/"
    },
    "id": "C2PNT_88V9kN",
    "outputId": "6285d690-4b3c-40d4-a5fb-8fe357a76b98"
   },
   "outputs": [
    {
     "data": {
      "text/plain": [
       "7"
      ]
     },
     "execution_count": 7,
     "metadata": {},
     "output_type": "execute_result"
    }
   ],
   "source": [
    "# Putem accesa variabila \"var\", care a fost definita mai sus\n",
    "var + 2"
   ]
  },
  {
   "cell_type": "markdown",
   "metadata": {
    "id": "x3-EVVBCYObL"
   },
   "source": [
    "# <u> Printare </u>"
   ]
  },
  {
   "cell_type": "markdown",
   "metadata": {
    "id": "4eeTeK1dYReA"
   },
   "source": [
    "După cum ați putut observa, în cadrul celulelor de Jupyter Notebook există o manieră implicită de a printa o variabilă sau rezultatul unei funcții, plasând-o la sfârșitul celulei, în afara unei definiții (similar comportamentului Matlab studiat la MN)\n",
    "\n",
    "O manieră explicită prin care putem printa, oriunde în interiorul celulei se realizează utilizând funcția \"print\" și modurile sale de formatare introduse o dată cu Python3.X"
   ]
  },
  {
   "cell_type": "code",
   "execution_count": 8,
   "metadata": {
    "colab": {
     "base_uri": "https://localhost:8080/"
    },
    "id": "7Iy7eu03ZpIn",
    "outputId": "dcc90d5a-2199-48f0-f2b1-0cfdec21b3a7"
   },
   "outputs": [
    {
     "name": "stdout",
     "output_type": "stream",
     "text": [
      "Variabila de mai sus: 5 printată de la începutul celulei\n",
      "Aceeași Mărie: valoarea 0.0123\n",
      "Aceeași Mărie: valoarea 0.0123\n",
      "Aceeași Mărie cu altă pălărie: valoarea 1.23e-02\n"
     ]
    }
   ],
   "source": [
    "print(\"Variabila de mai sus:\", var, \"printată de la începutul celulei\")\n",
    "\n",
    "nume = \"Mărie\"\n",
    "\n",
    "var_float = 0.0123\n",
    "\n",
    "print(\"Aceeași {}: valoarea {}\".format(nume, var_float))\n",
    "\n",
    "# f din fața stringului esete un macro pentru apelarea cu variabile in-place a funcției de formatare\n",
    "print(f\"Aceeași {nume}: valoarea {var_float}\")\n",
    "\n",
    "print(f\"Aceeași {nume} cu altă pălărie: valoarea {var_float:.2e}\")"
   ]
  },
  {
   "cell_type": "markdown",
   "metadata": {
    "id": "aLibaDp8a_nj"
   },
   "source": [
    "  Observăm că, prin folosirea indicației `{:2e}` am determinat printarea `var_float` în format stiințific, de tip  `mantisă`<mark>e</mark>`exponent`"
   ]
  },
  {
   "cell_type": "markdown",
   "metadata": {
    "id": "vS3UJhV8n1Ic"
   },
   "source": [
    "# <u> Liste  </u>"
   ]
  },
  {
   "cell_type": "markdown",
   "metadata": {
    "id": "MQAPf0qHn1Ic"
   },
   "source": [
    "Echivalentul array-urilor din Java, sau a vectorilor din C++, sunt colecții de elemente.\n",
    "\n",
    "Datorita sintezei de tipuri din Python, listele pot conține elemente de tipuri diferite, spre deosebire de structurile echivalente din alte limbaje de programare.\n",
    "\n",
    "Totodată, în Python, string-urile sunt considerate liste de caractere și se pot folosi aceleași operații pe care urmează să le prezentăm + altele specifice string-urilor."
   ]
  },
  {
   "cell_type": "code",
   "execution_count": 9,
   "metadata": {
    "id": "aJ9dfHI5n1Ic"
   },
   "outputs": [],
   "source": [
    "lista_polimorfica = [1, 'string', [1,2,4], None]"
   ]
  },
  {
   "cell_type": "code",
   "execution_count": 10,
   "metadata": {
    "id": "RCPYdqyNn1Id"
   },
   "outputs": [],
   "source": [
    "lista_int : list[int] = [1, 2, 3, 4, 5]"
   ]
  },
  {
   "cell_type": "code",
   "execution_count": 11,
   "metadata": {
    "id": "yzfGUQq6n1Ie"
   },
   "outputs": [],
   "source": [
    "lista_polimorfica2: list[int] = [1, 'string', [1,2,4], None]"
   ]
  },
  {
   "cell_type": "code",
   "execution_count": 12,
   "metadata": {
    "colab": {
     "base_uri": "https://localhost:8080/"
    },
    "id": "sb3STkRan1Ie",
    "outputId": "c3bef120-fa84-424d-b7e8-2a1f97436f19"
   },
   "outputs": [
    {
     "data": {
      "text/plain": [
       "list"
      ]
     },
     "execution_count": 12,
     "metadata": {},
     "output_type": "execute_result"
    }
   ],
   "source": [
    "type(lista_polimorfica2) # Aceeași discuție ca în cazul variabilelor"
   ]
  },
  {
   "cell_type": "markdown",
   "metadata": {
    "id": "NIfwSqZmn1Ie"
   },
   "source": [
    "### <u> Indexare și slicing </u>"
   ]
  },
  {
   "cell_type": "code",
   "execution_count": 13,
   "metadata": {
    "colab": {
     "base_uri": "https://localhost:8080/"
    },
    "id": "OdLqi6HZn1Ie",
    "outputId": "1ab8e5c2-5e24-432c-8580-ef93b83595c5"
   },
   "outputs": [
    {
     "data": {
      "text/plain": [
       "[1, 2, 3, 4, 5]"
      ]
     },
     "execution_count": 13,
     "metadata": {},
     "output_type": "execute_result"
    }
   ],
   "source": [
    "lista_int"
   ]
  },
  {
   "cell_type": "code",
   "execution_count": 14,
   "metadata": {
    "colab": {
     "base_uri": "https://localhost:8080/"
    },
    "id": "OEO1gV-Tn1If",
    "outputId": "40f174fc-202b-4b09-9a04-6d3e9dc46d67"
   },
   "outputs": [
    {
     "data": {
      "text/plain": [
       "1"
      ]
     },
     "execution_count": 14,
     "metadata": {},
     "output_type": "execute_result"
    }
   ],
   "source": [
    "# Listele sunt indexate de la 0\n",
    "\n",
    "lista_int[0]"
   ]
  },
  {
   "cell_type": "code",
   "execution_count": 15,
   "metadata": {
    "colab": {
     "base_uri": "https://localhost:8080/"
    },
    "id": "JgEDyVOOn1If",
    "outputId": "fb8fe739-942f-4d86-e0c6-708dfcdc739e"
   },
   "outputs": [
    {
     "data": {
      "text/plain": [
       "5"
      ]
     },
     "execution_count": 15,
     "metadata": {},
     "output_type": "execute_result"
    }
   ],
   "source": [
    "# Putem folosi indecși negativi pentru a accesa elementele de la sfârșitul listei spre început\n",
    "\n",
    "lista_int[-1]"
   ]
  },
  {
   "cell_type": "code",
   "execution_count": 16,
   "metadata": {
    "colab": {
     "base_uri": "https://localhost:8080/"
    },
    "id": "YU-uIHPgn1If",
    "outputId": "c4ec8a83-8bda-45b1-df7f-d1bc99e668a9"
   },
   "outputs": [
    {
     "data": {
      "text/plain": [
       "[2, 3, 4]"
      ]
     },
     "execution_count": 16,
     "metadata": {},
     "output_type": "execute_result"
    }
   ],
   "source": [
    "# Sau putem folosi slice-uri pentru a accesa o porțiune din listă\n",
    "\n",
    "lista_int[1:4]"
   ]
  },
  {
   "cell_type": "code",
   "execution_count": 17,
   "metadata": {
    "colab": {
     "base_uri": "https://localhost:8080/",
     "height": 35
    },
    "id": "sw-0Fe1Jn1Ig",
    "outputId": "88a88818-e3d7-40cd-d78d-95158d7a16e0"
   },
   "outputs": [
    {
     "data": {
      "text/plain": [
       "'Ana'"
      ]
     },
     "execution_count": 17,
     "metadata": {},
     "output_type": "execute_result"
    }
   ],
   "source": [
    "exemplu_string = \"Ana are mere\"\n",
    "\n",
    "exemplu_string[0:3]"
   ]
  },
  {
   "cell_type": "markdown",
   "metadata": {
    "id": "Vkk4bOzIn1Ig"
   },
   "source": [
    "### <u> Operații cu liste </u>"
   ]
  },
  {
   "cell_type": "markdown",
   "metadata": {
    "id": "403CpyTTn1Ig"
   },
   "source": [
    "Operațiile de bază pe care le putem face cu liste sunt:\n",
    "* stabilirea numarului de elemente din lista - `len(lista)`\n",
    "* adăugarea unui element la finalul listei - `lista.append(element)`\n",
    "* adăugarea unui element la o anumită poziție - `lista.insert(index, element)`\n",
    "* ștergerea unui element de pe o anumită poziție - `lista.pop(index)`\n",
    "* ștergerea unui element cu o anumită valoare - `lista.remove(element)`\n",
    "* concatenarea a două liste - `lista1 + lista2`, sau `lista1.extend(lista2)`\n",
    "* repetarea unui pattern de elemente - `lista * n`\n",
    "\n",
    "Alte operații mai puțin uzuale, pot fi găsite în [Documentația Python pentru liste](https://docs.python.org/3/tutorial/datastructures.html)"
   ]
  },
  {
   "cell_type": "code",
   "execution_count": 18,
   "metadata": {
    "colab": {
     "base_uri": "https://localhost:8080/"
    },
    "id": "K8JYBXPUeRjY",
    "outputId": "16fe607f-341b-42cb-9663-7ad6d16499aa"
   },
   "outputs": [
    {
     "data": {
      "text/plain": [
       "5"
      ]
     },
     "execution_count": 18,
     "metadata": {},
     "output_type": "execute_result"
    }
   ],
   "source": [
    "len(lista_int)"
   ]
  },
  {
   "cell_type": "code",
   "execution_count": 19,
   "metadata": {
    "colab": {
     "base_uri": "https://localhost:8080/"
    },
    "id": "ehX6UKnhn1Ih",
    "outputId": "5b3f091a-523f-4eb9-fee3-9891b09a1d54"
   },
   "outputs": [
    {
     "data": {
      "text/plain": [
       "[1, 2, 3, 4, 5, 6]"
      ]
     },
     "execution_count": 19,
     "metadata": {},
     "output_type": "execute_result"
    }
   ],
   "source": [
    "lista_int.append(6)\n",
    "\n",
    "lista_int"
   ]
  },
  {
   "cell_type": "markdown",
   "metadata": {
    "id": "mGZrHVxjn1Ii"
   },
   "source": [
    "---\n",
    "**Observație**:\n",
    "\n",
    "Inserarea se face intr-o maniera OOP, asupra obiectului de la referința spre care pointează lista_int.\n",
    "\n",
    "O eroare comuna este provocata de sintaxa:\n",
    "\n",
    "<code>\n",
    "lista_int = lista_int.append(6) - in acest caz, lista_int va deveni None, deoarece lista_int.append(6) returneaza None\n",
    "</code>\n",
    "\n",
    "___\n"
   ]
  },
  {
   "cell_type": "code",
   "execution_count": 20,
   "metadata": {
    "colab": {
     "base_uri": "https://localhost:8080/"
    },
    "id": "mNR81jhtn1Ii",
    "outputId": "33b7811f-0de8-4c18-971b-1780f67f8a73"
   },
   "outputs": [
    {
     "data": {
      "text/plain": [
       "[1, 2, -14, 3, 4, 5, 6]"
      ]
     },
     "execution_count": 20,
     "metadata": {},
     "output_type": "execute_result"
    }
   ],
   "source": [
    "lista_int.insert(2, -14)\n",
    "\n",
    "lista_int"
   ]
  },
  {
   "cell_type": "code",
   "execution_count": 21,
   "metadata": {
    "colab": {
     "base_uri": "https://localhost:8080/"
    },
    "id": "3fDrbwv4n1Ii",
    "outputId": "04ec6af1-aea8-4127-c7e5-0c27c0d2bcc6"
   },
   "outputs": [
    {
     "data": {
      "text/plain": [
       "[1, 2, -14, 3, 4, 5, 6, 7, 8, 9]"
      ]
     },
     "execution_count": 21,
     "metadata": {},
     "output_type": "execute_result"
    }
   ],
   "source": [
    "lista_int.extend([7, 8, 9])\n",
    "\n",
    "lista_int"
   ]
  },
  {
   "cell_type": "code",
   "execution_count": 22,
   "metadata": {
    "colab": {
     "base_uri": "https://localhost:8080/"
    },
    "id": "MVpFi0IIn1Ii",
    "outputId": "5d6fc680-b3b6-49ca-825e-386037a07bf7"
   },
   "outputs": [
    {
     "data": {
      "text/plain": [
       "[1, 2, -14, 3, 4, 5, 6, 7, 8, 9, 10, 11, 12, 13, 14, 15]"
      ]
     },
     "execution_count": 22,
     "metadata": {},
     "output_type": "execute_result"
    }
   ],
   "source": [
    "lista_int =  lista_int + [10, 11, 12]\n",
    "lista_int += [13, 14, 15] # Mod echivalent de concatenare a listelor\n",
    "\n",
    "lista_int"
   ]
  },
  {
   "cell_type": "code",
   "execution_count": 23,
   "metadata": {
    "colab": {
     "base_uri": "https://localhost:8080/"
    },
    "id": "LOMxeMbtn1Ii",
    "outputId": "299fc495-8b62-4155-f57a-80665e8e512a"
   },
   "outputs": [
    {
     "data": {
      "text/plain": [
       "(-14, [1, 2, 3, 4, 5, 6, 7, 8, 9, 10, 11, 12, 13, 14, 15])"
      ]
     },
     "execution_count": 23,
     "metadata": {},
     "output_type": "execute_result"
    }
   ],
   "source": [
    "element_scos = lista_int.pop(2)\n",
    "\n",
    "element_scos, lista_int # Putem observa ca aceasta sintaxa printeaza la consola un tuplu"
   ]
  },
  {
   "cell_type": "code",
   "execution_count": 24,
   "metadata": {
    "colab": {
     "base_uri": "https://localhost:8080/"
    },
    "id": "_ZOUQV9An1Ij",
    "outputId": "14685c25-1958-44ba-cbf0-e8b2a549b44e"
   },
   "outputs": [
    {
     "data": {
      "text/plain": [
       "[1, 2, 3, 4, 5, 6, 8, 9, 10, 11, 12, 13, 14, 15]"
      ]
     },
     "execution_count": 24,
     "metadata": {},
     "output_type": "execute_result"
    }
   ],
   "source": [
    "lista_int.remove(7)\n",
    "\n",
    "lista_int"
   ]
  },
  {
   "cell_type": "code",
   "execution_count": 25,
   "metadata": {
    "colab": {
     "base_uri": "https://localhost:8080/",
     "height": 35
    },
    "id": "Cnc8vMSon1Ij",
    "outputId": "e56b1674-4f00-46e8-d2f5-079cc2e2ecd9"
   },
   "outputs": [
    {
     "data": {
      "text/plain": [
       "'Ana are mere...'"
      ]
     },
     "execution_count": 25,
     "metadata": {},
     "output_type": "execute_result"
    }
   ],
   "source": [
    "exemplu_string += \".\" * 3\n",
    "\n",
    "exemplu_string"
   ]
  },
  {
   "cell_type": "code",
   "execution_count": 26,
   "metadata": {
    "colab": {
     "base_uri": "https://localhost:8080/"
    },
    "id": "FkT33E_boXE6",
    "outputId": "aceb6e6c-5bb8-475e-8800-3c3c38868e9f"
   },
   "outputs": [
    {
     "data": {
      "text/plain": [
       "14"
      ]
     },
     "execution_count": 26,
     "metadata": {},
     "output_type": "execute_result"
    }
   ],
   "source": [
    "len(lista_int) # O dată cu schimbările asupra listei s-a modificat și lungimea"
   ]
  },
  {
   "cell_type": "markdown",
   "metadata": {
    "id": "ZO3wRIQMn1Ij"
   },
   "source": [
    "Listele din python suporta si operatii pe care le-ati intalnit la PP, din paradigma functionala, precum `map`, `filter` si `reduce` (echivalentul `fold` din Haskell).\n",
    "\n",
    "Aceste functii, de obicei returneaza iteratori, pentru a economisi memorie, dar putem sa convertim rezultatele înapoi în liste folosind functia `list`:\n"
   ]
  },
  {
   "cell_type": "code",
   "execution_count": 27,
   "metadata": {
    "colab": {
     "base_uri": "https://localhost:8080/"
    },
    "id": "mwtHHSL6n1Ij",
    "outputId": "b8e162a4-4c7f-46f9-b6d4-8a50818df089"
   },
   "outputs": [
    {
     "data": {
      "text/plain": [
       "[1, 4, 9, 16, 25, 36, 64, 81, 100, 121, 144, 169, 196, 225]"
      ]
     },
     "execution_count": 27,
     "metadata": {},
     "output_type": "execute_result"
    }
   ],
   "source": [
    "lista_int_patrat = list(map(lambda x: x**2, lista_int)) # Observam ca putem folosi functii lambda pentru a defini in-place functii anonime\n",
    "\n",
    "lista_int_patrat"
   ]
  },
  {
   "cell_type": "code",
   "execution_count": 28,
   "metadata": {
    "colab": {
     "base_uri": "https://localhost:8080/"
    },
    "id": "U4edpEZIn1Ik",
    "outputId": "a9da0687-9a2d-413d-e5a0-ec496f8077c9"
   },
   "outputs": [
    {
     "data": {
      "text/plain": [
       "[4, 16, 36, 64, 100, 144, 196]"
      ]
     },
     "execution_count": 28,
     "metadata": {},
     "output_type": "execute_result"
    }
   ],
   "source": [
    "# Filtram elementele pare din lista\n",
    "lista_int_patrat = list(filter(lambda x: x % 2 == 0, lista_int_patrat))\n",
    "\n",
    "lista_int_patrat"
   ]
  },
  {
   "cell_type": "code",
   "execution_count": 29,
   "metadata": {
    "colab": {
     "base_uri": "https://localhost:8080/"
    },
    "id": "AdmNxhGin1Ik",
    "outputId": "24774bb8-4123-4055-c006-d2e329964cb5"
   },
   "outputs": [
    {
     "data": {
      "text/plain": [
       "56.0"
      ]
     },
     "execution_count": 29,
     "metadata": {},
     "output_type": "execute_result"
    }
   ],
   "source": [
    "from functools import reduce # Importam functia reduce din modulul functools\n",
    "\n",
    "suma_radacinilor = reduce(lambda acc, elem: acc + np.sqrt(elem), lista_int_patrat, 0)\n",
    "\n",
    "suma_radacinilor"
   ]
  },
  {
   "cell_type": "markdown",
   "metadata": {
    "id": "6uy99n5do2Tz"
   },
   "source": [
    "De asemenea, există conceptul de list comprehension, întâlnit anterior în Haskell. Acest concept oferă o modalitate concisă și expresivă de a crea liste noi prin aplicarea unei expresii la fiecare element al unei secvențe.\n",
    "\n",
    "Un exemplu simplu ar fi crearea unei liste care conține pătratele primelor zece numere naturale, folosind list comprehension în Python:"
   ]
  },
  {
   "cell_type": "code",
   "execution_count": 30,
   "metadata": {
    "colab": {
     "base_uri": "https://localhost:8080/"
    },
    "id": "HV-7A_tZpZpg",
    "outputId": "07b85a37-7d4e-448a-a899-0e3802c4f98d"
   },
   "outputs": [
    {
     "data": {
      "text/plain": [
       "[1, 4, 9, 16, 25, 36, 49, 64, 81, 100]"
      ]
     },
     "execution_count": 30,
     "metadata": {},
     "output_type": "execute_result"
    }
   ],
   "source": [
    "patrate_perfecte = [x**2 for x in range(1, 11)]\n",
    "\n",
    "patrate_perfecte"
   ]
  },
  {
   "cell_type": "markdown",
   "metadata": {
    "id": "CQtS_xPmprho"
   },
   "source": [
    "Iată un exemplu mai complex pentru generarea produsului cartezian al două liste."
   ]
  },
  {
   "cell_type": "code",
   "execution_count": 31,
   "metadata": {
    "colab": {
     "base_uri": "https://localhost:8080/"
    },
    "id": "ZFXqcj__ptxq",
    "outputId": "1d549a60-6e83-4427-f32e-f11a2cbc02eb"
   },
   "outputs": [
    {
     "data": {
      "text/plain": [
       "[(1, 'a'),\n",
       " (1, 'b'),\n",
       " (1, 'c'),\n",
       " (1, 'd'),\n",
       " (2, 'a'),\n",
       " (2, 'b'),\n",
       " (2, 'c'),\n",
       " (2, 'd'),\n",
       " (3, 'a'),\n",
       " (3, 'b'),\n",
       " (3, 'c'),\n",
       " (3, 'd')]"
      ]
     },
     "execution_count": 31,
     "metadata": {},
     "output_type": "execute_result"
    }
   ],
   "source": [
    "lista_A = [1, 2, 3]\n",
    "lista_B = ['a', 'b', 'c', 'd']\n",
    "\n",
    "produs_cartezian = [(a, b) for a in lista_A for b in lista_B]\n",
    "produs_cartezian"
   ]
  },
  {
   "cell_type": "markdown",
   "metadata": {
    "id": "uGQgqF0uqGVD"
   },
   "source": [
    "List comprehension în Python poate include și declarații if, permițând filtrarea elementelor în funcție de o anumită condiție. Iată un exemplu simplu în care se creează o listă cu pătratele numerelor pare de la 1 la 10:"
   ]
  },
  {
   "cell_type": "code",
   "execution_count": 32,
   "metadata": {
    "colab": {
     "base_uri": "https://localhost:8080/"
    },
    "id": "5zp94bWsqHm1",
    "outputId": "fbf74985-37cd-489a-a8c2-664833ccc972"
   },
   "outputs": [
    {
     "data": {
      "text/plain": [
       "[4, 16, 36, 64, 100, 144, 196]"
      ]
     },
     "execution_count": 32,
     "metadata": {},
     "output_type": "execute_result"
    }
   ],
   "source": [
    "patrate_pare = [x**2 for x in range(1, 15) if x % 2 == 0]\n",
    "\n",
    "patrate_pare"
   ]
  },
  {
   "cell_type": "markdown",
   "metadata": {
    "id": "5iYMXKeWn1Ik"
   },
   "source": [
    "### <u> Iterații prin liste </u>"
   ]
  },
  {
   "cell_type": "markdown",
   "metadata": {
    "id": "8ihgm7uJn1Ik"
   },
   "source": [
    "O altă metodă de a itera prin liste este folosind buclele `for` și `while`.\n",
    "\n",
    "Putem accesa elementele listei folosind indexul acestora, sau putem itera prin toate elementele, folosind instrucțiunea `for`."
   ]
  },
  {
   "cell_type": "code",
   "execution_count": 33,
   "metadata": {
    "colab": {
     "base_uri": "https://localhost:8080/"
    },
    "id": "WPTMn3KGn1Ik",
    "outputId": "7290a6d4-2187-4e4b-b551-56ee1862b467"
   },
   "outputs": [
    {
     "name": "stdout",
     "output_type": "stream",
     "text": [
      "1\n",
      "2\n",
      "3\n",
      "4\n",
      "5\n",
      "6\n",
      "8\n",
      "9\n",
      "10\n",
      "11\n",
      "12\n",
      "13\n",
      "14\n",
      "15\n"
     ]
    }
   ],
   "source": [
    "# Iteram folosind un index de la 0, pana la lungimea listei\n",
    "for i in range(len(lista_int)):\n",
    "    print(lista_int[i])"
   ]
  },
  {
   "cell_type": "code",
   "execution_count": 34,
   "metadata": {
    "colab": {
     "base_uri": "https://localhost:8080/"
    },
    "id": "JAKK5vGKdOGZ",
    "outputId": "e529d5f3-621d-4dbb-afc5-b09a21ac200f"
   },
   "outputs": [
    {
     "name": "stdout",
     "output_type": "stream",
     "text": [
      "1\n",
      "2\n",
      "3\n",
      "4\n",
      "5\n",
      "6\n",
      "8\n",
      "9\n",
      "10\n",
      "11\n",
      "12\n",
      "13\n",
      "14\n",
      "15\n"
     ]
    }
   ],
   "source": [
    "i = 0\n",
    "max_len = len(lista_int)\n",
    "\n",
    "while i < max_len:\n",
    "  print(lista_int[i])\n",
    "\n",
    "  i += 1"
   ]
  },
  {
   "cell_type": "code",
   "execution_count": 35,
   "metadata": {
    "colab": {
     "base_uri": "https://localhost:8080/"
    },
    "id": "ty_GBxkAn1Il",
    "outputId": "e7ffd3fd-eb0c-43ef-a2d1-57a6e14d8886"
   },
   "outputs": [
    {
     "name": "stdout",
     "output_type": "stream",
     "text": [
      "1\n",
      "2\n",
      "3\n",
      "4\n",
      "5\n",
      "6\n",
      "8\n",
      "9\n",
      "10\n",
      "11\n",
      "12\n",
      "13\n",
      "14\n",
      "15\n"
     ]
    }
   ],
   "source": [
    "for elem in lista_int:\n",
    "    print(elem)"
   ]
  },
  {
   "cell_type": "code",
   "execution_count": 36,
   "metadata": {
    "colab": {
     "base_uri": "https://localhost:8080/"
    },
    "id": "hKn-k9-pn1Il",
    "outputId": "9d70a77f-74a2-49ab-de0f-435f7ad8373d"
   },
   "outputs": [
    {
     "name": "stdout",
     "output_type": "stream",
     "text": [
      "Elementul de pe pozitia 0 este 1\n",
      "Elementul de pe pozitia 1 este 2\n",
      "Elementul de pe pozitia 2 este 3\n",
      "Elementul de pe pozitia 3 este 4\n",
      "Elementul de pe pozitia 4 este 5\n",
      "Elementul de pe pozitia 5 este 6\n",
      "Elementul de pe pozitia 6 este 8\n",
      "Elementul de pe pozitia 7 este 9\n",
      "Elementul de pe pozitia 8 este 10\n",
      "Elementul de pe pozitia 9 este 11\n",
      "Elementul de pe pozitia 10 este 12\n",
      "Elementul de pe pozitia 11 este 13\n",
      "Elementul de pe pozitia 12 este 14\n",
      "Elementul de pe pozitia 13 este 15\n"
     ]
    }
   ],
   "source": [
    "for idx, elem in enumerate(lista_int):\n",
    "    print(f\"Elementul de pe pozitia {idx} este {elem}\")"
   ]
  },
  {
   "cell_type": "markdown",
   "metadata": {
    "id": "MAQB9KCaBK7b"
   },
   "source": [
    "În cazul în care vrem să folosim blocuri de instrucțiuni (for, while, if) imbricate, apartenența codului într-un anumit bloc se face prin nivelul indentării:"
   ]
  },
  {
   "cell_type": "code",
   "execution_count": 37,
   "metadata": {
    "colab": {
     "base_uri": "https://localhost:8080/"
    },
    "id": "9_Rv7IijBjOI",
    "outputId": "d486d56b-5099-48e8-86e4-ec0b9c7b2ebe"
   },
   "outputs": [
    {
     "name": "stdout",
     "output_type": "stream",
     "text": [
      "1 1 3 \n",
      "16 2 6 \n",
      "49 4 9 \n",
      "100 5 12 \n"
     ]
    }
   ],
   "source": [
    "# Definim o matrice ca o listă de liste\n",
    "\n",
    "matrice = [[1,2,3], [4,5,6], [7,8,9], [10,11,12]]\n",
    "\n",
    "inaltime = len(matrice)\n",
    "latime = len(matrice[0])\n",
    "\n",
    "# Vrem sa printam multiplii de 3, patratul numerelor de forma 3k+1, si jumătatea întreagă a numerelor de forma 3k+2\n",
    "for i in range(inaltime):\n",
    "  # Se observa ca bucla j este în interiorul buclei for datorită indentării\n",
    "  for j in range(latime):\n",
    "    # Analog observam identarea instructiunilor if-else la acelasi nivel, in interiorul ambelor blocuri for\n",
    "    x = matrice[i][j]\n",
    "    if x % 3 == 0:\n",
    "      print(x, end=\" \")\n",
    "    elif x % 3 == 1: # Exista instructiunea elif\n",
    "      print(x**2, end=\" \")\n",
    "    else:\n",
    "      print(x//2, end=\" \")\n",
    "\n",
    "  # Observăm că acest print face parte doar din blocul exterior for\n",
    "  print()"
   ]
  },
  {
   "cell_type": "markdown",
   "metadata": {
    "id": "SPpdkzKmLZG1"
   },
   "source": [
    "### <u> Operații cu stringuri </u>"
   ]
  },
  {
   "cell_type": "markdown",
   "metadata": {
    "id": "VP3vEyCnMSm0"
   },
   "source": [
    "Operațiile de bază pe care le putem efectua cu stringuri sunt:\n",
    "* conversia în ASCII a literelor - `ord(char)`\n",
    "* tokenizarea sirului pe baza unui caracter separator - `string.split(separator)`\n",
    "* reconstruirea textului pe baza tokenilor - `\"separator\".join(lista_tokeni)`\n",
    "* convertirea case-ului stringului - `string.upper()`, `string.lower()`, `string.capitalize()`\n",
    "* găsirea unui subsir într-un string - `string.find(substring)`\n",
    "* alternativ, verificarea dacă un string conține un anumit subsir - `substring in string`\n",
    "* înlocuirea unui subsir cu altul - `string.replace(substring, new_substring)`\n",
    "* ștergerea spațierii de formatare (en. whitespaces) de la începutul și sfârșitul șirului - `string.strip()`\n",
    "* formatarea unui string - `string.format()` Prezentată anterior la formatarea printării :-)\n",
    "\n",
    "Alte operații mai puțin uzuale, pot fi găsite în [Documentația Python pentru stringuri](https://docs.python.org/3/library/string.html)\n",
    "\n",
    "O bibliotecă importantă în preprocesarea textelor pentru analiza limbajului natural (NLP) este reprezentată de \"re\", funcționalități disponibile prin re, sunt:\n",
    "* căutarea unui pattern într-un string - `re.search(pattern, string)`\n",
    "* găsirea tuturor aparițiilor unui pattern într-un string - `re.findall(pattern, string)`\n",
    "* înlocuirea unui pattern cu altul - `re.sub(pattern, new_pattern, string)`\n",
    "* tokenizarea unui string pe baza unui pattern - `re.split(pattern, string)`\n",
    "\n",
    "Avantajul utilizării bibliotecii \"re\" este reprezentat de posibilitatea identificării unor RegEx-uri, prin `pattern`.\n",
    "\n",
    "Un link foarte util pentru mai buna înțelegere a RegEx-urilor din re se găsește pe [W3schools](https://www.w3schools.com/python/python_regex.asp).\n",
    "\n",
    "O altă bibliotecă utilizată în preprocesare, mai ales pentru taskuri în limba română este reprezentată de `unidecode`, care are rolul de a substitui diacritele cu echivalentul lor din alfabetul latin care încape pe un octet."
   ]
  },
  {
   "cell_type": "markdown",
   "metadata": {
    "id": "0re4BO7n8W80"
   },
   "source": [
    "___\n",
    "**Observație:** Spre deosebire de metodele aplicate asupra listelor, metodele aplicate stringurilor nu execută modificări in-place, ci produc un nou string care are caracteristicile dorite\n",
    "\n",
    "---"
   ]
  },
  {
   "cell_type": "code",
   "execution_count": 38,
   "metadata": {
    "colab": {
     "base_uri": "https://localhost:8080/"
    },
    "id": "l63HkuEM6LHS",
    "outputId": "e616b4dd-7dde-4247-8512-56b750eb88e0"
   },
   "outputs": [
    {
     "data": {
      "text/plain": [
       "65"
      ]
     },
     "execution_count": 38,
     "metadata": {},
     "output_type": "execute_result"
    }
   ],
   "source": [
    "ord('A')"
   ]
  },
  {
   "cell_type": "code",
   "execution_count": 39,
   "metadata": {
    "id": "qeITbdEcqnXL"
   },
   "outputs": [],
   "source": [
    "demo_text = \"Userii @Cata și @Mihai speră să vă bucurați de acest laborator :D\""
   ]
  },
  {
   "cell_type": "code",
   "execution_count": 40,
   "metadata": {
    "colab": {
     "base_uri": "https://localhost:8080/"
    },
    "id": "YGXn86iSrKD7",
    "outputId": "96c585d5-b44b-41d9-9336-ebcbad31b3b1"
   },
   "outputs": [
    {
     "data": {
      "text/plain": [
       "['Userii',\n",
       " '@Cata',\n",
       " 'și',\n",
       " '@Mihai',\n",
       " 'speră',\n",
       " 'să',\n",
       " 'vă',\n",
       " 'bucurați',\n",
       " 'de',\n",
       " 'acest',\n",
       " 'laborator',\n",
       " ':D']"
      ]
     },
     "execution_count": 40,
     "metadata": {},
     "output_type": "execute_result"
    }
   ],
   "source": [
    "lista_cuvinte = demo_text.split(\" \")\n",
    "\n",
    "lista_cuvinte"
   ]
  },
  {
   "cell_type": "code",
   "execution_count": 41,
   "metadata": {
    "colab": {
     "base_uri": "https://localhost:8080/",
     "height": 35
    },
    "id": "VYivgUFhsFvt",
    "outputId": "c43724e8-4cce-4292-cc2f-d46c528b8366"
   },
   "outputs": [
    {
     "data": {
      "text/plain": [
       "'Userii @Cata și @Mihai speră să vă bucurați de acest laborator :D'"
      ]
     },
     "execution_count": 41,
     "metadata": {},
     "output_type": "execute_result"
    }
   ],
   "source": [
    "textul_reconstruit = \" \".join(lista_cuvinte)\n",
    "\n",
    "textul_reconstruit"
   ]
  },
  {
   "cell_type": "code",
   "execution_count": 42,
   "metadata": {
    "colab": {
     "base_uri": "https://localhost:8080/"
    },
    "id": "ofO1B7Zks6hg",
    "outputId": "7e4101c9-0f78-48da-8985-e9e2f9e0c08d"
   },
   "outputs": [
    {
     "name": "stdout",
     "output_type": "stream",
     "text": [
      "userii @cata și @mihai speră să vă bucurați de acest laborator :d\n",
      "USERII @CATA ȘI @MIHAI SPERĂ SĂ VĂ BUCURAȚI DE ACEST LABORATOR :D\n",
      "Userii @cata și @mihai speră să vă bucurați de acest laborator :d\n"
     ]
    }
   ],
   "source": [
    "print(demo_text.lower())\n",
    "print(demo_text.upper())\n",
    "print(demo_text.lower().capitalize())"
   ]
  },
  {
   "cell_type": "code",
   "execution_count": 43,
   "metadata": {
    "colab": {
     "base_uri": "https://localhost:8080/"
    },
    "id": "dYOfaZJkt_C9",
    "outputId": "6ad662f3-005d-40c4-b429-8e351cf169a7"
   },
   "outputs": [
    {
     "name": "stdout",
     "output_type": "stream",
     "text": [
      "Rezultatele cautarii unui substring existent in text: True și indexul la care se găsește: 7 (re: <re.Match object; span=(7, 12), match='@Cata'>)\n",
      "Rezultatele cautarii unui substring inexistent in text: False și indexul la care se găsește: -1 (re: None)\n"
     ]
    }
   ],
   "source": [
    "print(f\"Rezultatele cautarii unui substring existent in text:\", \"@Cata\" in demo_text, \"și indexul la care se găsește:\", demo_text.find(\"@Cata\"), \"(re: {})\".format(re.search(\"@Cata\", demo_text)))\n",
    "print(f\"Rezultatele cautarii unui substring inexistent in text:\", \"@Catalin\" in demo_text, \"și indexul la care se găsește:\", demo_text.find(\"@Catalin\"), \"(re: {})\".format(re.search(\"@Catalin\", demo_text)))"
   ]
  },
  {
   "cell_type": "code",
   "execution_count": 44,
   "metadata": {
    "colab": {
     "base_uri": "https://localhost:8080/"
    },
    "id": "xpdAZ_3s751s",
    "outputId": "99fd6ac0-2753-4225-ed63-eb9f4c93ab49"
   },
   "outputs": [
    {
     "name": "stdout",
     "output_type": "stream",
     "text": [
      "Userii @Cata și @Mihai speră să vă bucurați de acest material :D\n",
      "Userii @Cata și @Mihai speră să vă bucurați de acest laborator :D\n"
     ]
    }
   ],
   "source": [
    "print(demo_text.replace(\"laborator\", \"material\"))\n",
    "\n",
    "print(demo_text) # Deși am făcut replace anterior, demo_text rămâne nemodificat\n",
    "                 # așa cum am precizat și în observația de mai sus"
   ]
  },
  {
   "cell_type": "code",
   "execution_count": 45,
   "metadata": {
    "colab": {
     "base_uri": "https://localhost:8080/"
    },
    "id": "umJ2pFzXuK8E",
    "outputId": "81df2194-8cad-46f8-8607-1d50897b1a0b"
   },
   "outputs": [
    {
     "name": "stdout",
     "output_type": "stream",
     "text": [
      " Userii @Cata și @Mihai speră să vă bucurați de acest laborator :D \n",
      "Userii @Cata și @Mihai speră să vă bucurați de acest laborator :D\n"
     ]
    }
   ],
   "source": [
    "textul_reconstruit = \" \" + textul_reconstruit + \" \"\n",
    "\n",
    "print(textul_reconstruit)\n",
    "print(textul_reconstruit.strip())"
   ]
  },
  {
   "cell_type": "code",
   "execution_count": 46,
   "metadata": {
    "colab": {
     "base_uri": "https://localhost:8080/",
     "height": 35
    },
    "id": "yC4eMjd49sAE",
    "outputId": "262e5405-ee23-4b01-830c-35e480e49b63"
   },
   "outputs": [
    {
     "data": {
      "text/plain": [
       "'Userii Cata și Mihai speră să vă bucurați de acest laborator :D'"
      ]
     },
     "execution_count": 46,
     "metadata": {},
     "output_type": "execute_result"
    }
   ],
   "source": [
    "# RegEx care indică eliminarea @ și păstrarea numelor\n",
    "demo_text_fara_useri = re.sub(r'@(\\w+)', r'\\1', demo_text)\n",
    "\n",
    "demo_text_fara_useri"
   ]
  },
  {
   "cell_type": "code",
   "execution_count": 47,
   "metadata": {
    "colab": {
     "base_uri": "https://localhost:8080/",
     "height": 35
    },
    "id": "i7GGr4mw-FSF",
    "outputId": "c571da56-af59-4b30-a891-652dba420d66"
   },
   "outputs": [
    {
     "data": {
      "text/plain": [
       "'Userii  și  speră să vă bucurați de acest laborator :D'"
      ]
     },
     "execution_count": 47,
     "metadata": {},
     "output_type": "execute_result"
    }
   ],
   "source": [
    "# RegEx care indică eliminarea @user complet\n",
    "demo_text_fara_useri2 = re.sub(r'@(\\w+)', '', demo_text)\n",
    "\n",
    "demo_text_fara_useri2"
   ]
  },
  {
   "cell_type": "markdown",
   "metadata": {
    "id": "sn_dON24-XJW"
   },
   "source": [
    "> Importanța unor astfel de procesări poate consta în anonimizarea persoanelor dintr-un dataset de tweeturi, spre exemplu."
   ]
  },
  {
   "cell_type": "code",
   "execution_count": 48,
   "metadata": {
    "colab": {
     "base_uri": "https://localhost:8080/",
     "height": 35
    },
    "id": "nWpybafG7ToG",
    "outputId": "672e0045-3243-455f-f88f-fc5cf3387c2d"
   },
   "outputs": [
    {
     "data": {
      "text/plain": [
       "'Userii @Cata si @Mihai spera sa va bucurati de acest laborator :D'"
      ]
     },
     "execution_count": 48,
     "metadata": {},
     "output_type": "execute_result"
    }
   ],
   "source": [
    "unidecode(demo_text)"
   ]
  },
  {
   "cell_type": "markdown",
   "metadata": {
    "id": "7x9qnSHzyIf-"
   },
   "source": [
    "# <u> Dictionare  </u>"
   ]
  },
  {
   "cell_type": "markdown",
   "metadata": {
    "id": "EUdZEPjhyIf_"
   },
   "source": [
    "Asociază o cheie cu o valoare, valoarea putând fi orice obiect Python. Totuși, cheia trebuie să fie un obiect imutabil (hashable), cum ar fi un string, un număr sau un tuplu."
   ]
  },
  {
   "cell_type": "code",
   "execution_count": 49,
   "metadata": {
    "id": "kn4X5ImoyIf_",
    "outputId": "645c8506-0d7c-4832-938b-18a2f1058e2c"
   },
   "outputs": [
    {
     "data": {
      "text/plain": [
       "{'Mihai': 10,\n",
       " 'Andreea': 10,\n",
       " 'Andrei': 8,\n",
       " 'Marcela': 7,\n",
       " 'Rodica': 9,\n",
       " 'Catalin': 8}"
      ]
     },
     "execution_count": 49,
     "metadata": {},
     "output_type": "execute_result"
    }
   ],
   "source": [
    "note_dict = {\"Mihai\": 10, \"Andreea\": 10, \"Andrei\": 8, \"Marcela\": 7, \"Rodica\": 9, \"Catalin\": 8}\n",
    "\n",
    "note_dict"
   ]
  },
  {
   "cell_type": "code",
   "execution_count": 50,
   "metadata": {
    "id": "xP_RoCAQyIf_"
   },
   "outputs": [],
   "source": [
    "dict_tuples = {(1,2,3): 2, (4,5,6): 5}"
   ]
  },
  {
   "cell_type": "code",
   "execution_count": 51,
   "metadata": {
    "id": "LYlyDT6myIgA",
    "outputId": "99d4bc96-aefe-498b-cb24-28e89011382a"
   },
   "outputs": [
    {
     "ename": "TypeError",
     "evalue": "unhashable type: 'list'",
     "output_type": "error",
     "traceback": [
      "\u001b[1;31m---------------------------------------------------------------------------\u001b[0m",
      "\u001b[1;31mTypeError\u001b[0m                                 Traceback (most recent call last)",
      "Cell \u001b[1;32mIn[51], line 1\u001b[0m\n\u001b[1;32m----> 1\u001b[0m dict_lists \u001b[38;5;241m=\u001b[39m {[\u001b[38;5;241m1\u001b[39m,\u001b[38;5;241m2\u001b[39m,\u001b[38;5;241m3\u001b[39m]: \u001b[38;5;241m2\u001b[39m, [\u001b[38;5;241m4\u001b[39m,\u001b[38;5;241m5\u001b[39m,\u001b[38;5;241m6\u001b[39m]: \u001b[38;5;241m5\u001b[39m}\n",
      "\u001b[1;31mTypeError\u001b[0m: unhashable type: 'list'"
     ]
    }
   ],
   "source": [
    "dict_lists = {[1,2,3]: 2, [4,5,6]: 5}"
   ]
  },
  {
   "cell_type": "markdown",
   "metadata": {
    "id": "gNZ2vFIdyIgA"
   },
   "source": [
    "Putem observa că putem construi un dicționar folosind tupluri drept chei, dar nu putem folosi liste, deoarece acestea sunt mutabile."
   ]
  },
  {
   "cell_type": "markdown",
   "metadata": {
    "id": "yEGy0JZayIgA"
   },
   "source": [
    "În ceea ce privește operațiile de bază, dicționarele prezintă următoarele metode:\n",
    "* adăugarea unei perechi cheie-valoare - `dict[key] = value`\n",
    "* obținerea valorii asociate unei chei - `dict[key]`\n",
    "* verificarea existenței unei chei în dicționar - `key in dict`\n",
    "* ștergerea unei perechi cheie-valoare - `del dict[key]`\n",
    "* obținerea unei liste cu toate cheile, valorile sau tuplurile cheie-valoare - `dict.keys()` / `dict.values()` / `dict.items()`\n",
    "\n",
    "\n",
    "Principalul motiv ce favorizează folosirea dicționarelor constă [complexitatea de căutare](https://wiki.python.org/moin/TimeComplexity) O(1) a valorilor pe baza cheilor."
   ]
  },
  {
   "cell_type": "code",
   "execution_count": 52,
   "metadata": {
    "id": "ix6NpmZeyIgB",
    "outputId": "da55a147-4923-4a58-87f2-791e904bbeb7"
   },
   "outputs": [
    {
     "data": {
      "text/plain": [
       "9"
      ]
     },
     "execution_count": 52,
     "metadata": {},
     "output_type": "execute_result"
    }
   ],
   "source": [
    "note_dict[\"Rodica\"]"
   ]
  },
  {
   "cell_type": "code",
   "execution_count": 53,
   "metadata": {
    "id": "LAEcTimWyIgC",
    "outputId": "218e4f75-e253-4e9c-aaa6-a7fe8416af62"
   },
   "outputs": [
    {
     "data": {
      "text/plain": [
       "{'Mihai': 10,\n",
       " 'Andreea': 10,\n",
       " 'Andrei': 8,\n",
       " 'Marcela': 7,\n",
       " 'Rodica': 9,\n",
       " 'Catalin': 8,\n",
       " 'Ion': 7}"
      ]
     },
     "execution_count": 53,
     "metadata": {},
     "output_type": "execute_result"
    }
   ],
   "source": [
    "# Inseram cheia \"Ion\" cu valoarea 3 in dictionar\n",
    "note_dict[\"Ion\"] = 3\n",
    "\n",
    "# Aceeasi operatie poate fi folosita pentru a modifica valoarea unei chei existente\n",
    "note_dict[\"Ion\"] = 7\n",
    "\n",
    "note_dict"
   ]
  },
  {
   "cell_type": "code",
   "execution_count": 54,
   "metadata": {
    "id": "WmfXFLwfyIgC",
    "outputId": "9bc3d534-9784-4a7e-fa20-f85911d69947"
   },
   "outputs": [
    {
     "data": {
      "text/plain": [
       "{'Mihai': 10,\n",
       " 'Andreea': 10,\n",
       " 'Andrei': 8,\n",
       " 'Marcela': 7,\n",
       " 'Rodica': 9,\n",
       " 'Catalin': 8}"
      ]
     },
     "execution_count": 54,
     "metadata": {},
     "output_type": "execute_result"
    }
   ],
   "source": [
    "# Pentru a sterge o intrare din dictionar, întâi verificăm dacă cheia există, pentru a nu genera excepții\n",
    "\n",
    "if \"Ion\" in note_dict:\n",
    "    del note_dict[\"Ion\"]\n",
    "\n",
    "note_dict"
   ]
  },
  {
   "cell_type": "markdown",
   "metadata": {
    "id": "2_COjeHFyIgD"
   },
   "source": [
    "Observăm că, deși noțiunea de hashmap nu este ordonată, dicționarele din Python păstrează ordinea de inserare a elementelor."
   ]
  },
  {
   "cell_type": "code",
   "execution_count": 55,
   "metadata": {
    "id": "IYdOhahyyIgD",
    "outputId": "c77221a7-667e-4937-e9e2-9db5467970ce"
   },
   "outputs": [
    {
     "data": {
      "text/plain": [
       "dict_keys(['Mihai', 'Andreea', 'Andrei', 'Marcela', 'Rodica', 'Catalin'])"
      ]
     },
     "execution_count": 55,
     "metadata": {},
     "output_type": "execute_result"
    }
   ],
   "source": [
    "note_dict.keys()"
   ]
  },
  {
   "cell_type": "code",
   "execution_count": 56,
   "metadata": {
    "id": "9iz5dHwLyIgD",
    "outputId": "03f1cdcd-de77-4c97-a988-f0d65247c59c"
   },
   "outputs": [
    {
     "data": {
      "text/plain": [
       "dict_values([10, 10, 8, 7, 9, 8])"
      ]
     },
     "execution_count": 56,
     "metadata": {},
     "output_type": "execute_result"
    }
   ],
   "source": [
    "note_dict.values()"
   ]
  },
  {
   "cell_type": "code",
   "execution_count": 57,
   "metadata": {
    "id": "HnO9dz_qyIgD",
    "outputId": "fc614f6d-7c5b-4471-b33d-6e7f94dcbca4"
   },
   "outputs": [
    {
     "data": {
      "text/plain": [
       "dict_items([('Mihai', 10), ('Andreea', 10), ('Andrei', 8), ('Marcela', 7), ('Rodica', 9), ('Catalin', 8)])"
      ]
     },
     "execution_count": 57,
     "metadata": {},
     "output_type": "execute_result"
    }
   ],
   "source": [
    "note_dict.items()"
   ]
  },
  {
   "cell_type": "markdown",
   "metadata": {
    "id": "5c71gRN4yIgE"
   },
   "source": [
    "Vom normaliza notele studenților de la scala 1-10 la scala 1-5:\n",
    "\n",
    "f(x) = ax + b\n",
    "\n",
    "\n",
    "f(1) = a + b = 1 &emsp;&emsp; => a = $\\frac{4}{9}$, b = $\\frac{5}{9}$\n",
    "\n",
    "f(10) = 10a + b = 5\n",
    "\n"
   ]
  },
  {
   "cell_type": "code",
   "execution_count": 58,
   "metadata": {
    "id": "9JJj_gYoyIgE",
    "outputId": "51fe47fd-cc7e-4f8e-f87a-d0e14ab5f755"
   },
   "outputs": [
    {
     "data": {
      "text/plain": [
       "{'Mihai': 5.0,\n",
       " 'Andreea': 5.0,\n",
       " 'Andrei': 4.11,\n",
       " 'Marcela': 3.67,\n",
       " 'Rodica': 4.56,\n",
       " 'Catalin': 4.11}"
      ]
     },
     "execution_count": 58,
     "metadata": {},
     "output_type": "execute_result"
    }
   ],
   "source": [
    "# Obținem valoarea maximă din dicționar\n",
    "a = 4 / 9\n",
    "b = 5 / 9\n",
    "\n",
    "scala_noua1 = {}\n",
    "\n",
    "\n",
    "# Iterăm peste toate cheile și actualizăm valorile:\n",
    "for key in note_dict:\n",
    "    scala_noua1[key] = round(a * note_dict[key]  + b, 2)\n",
    "\n",
    "scala_noua1"
   ]
  },
  {
   "cell_type": "markdown",
   "metadata": {
    "id": "scWWVqLGyIgE"
   },
   "source": [
    "Există posibilitatea de list comprehension și pentru dicționare:"
   ]
  },
  {
   "cell_type": "code",
   "execution_count": 59,
   "metadata": {
    "id": "nlZMv6asyIgE",
    "outputId": "a00500c9-1b79-437f-cd92-2731f4c6f89b"
   },
   "outputs": [
    {
     "data": {
      "text/plain": [
       "{'Mihai': 5.0,\n",
       " 'Andreea': 5.0,\n",
       " 'Andrei': 4.11,\n",
       " 'Marcela': 3.67,\n",
       " 'Rodica': 4.56,\n",
       " 'Catalin': 4.11}"
      ]
     },
     "execution_count": 59,
     "metadata": {},
     "output_type": "execute_result"
    }
   ],
   "source": [
    "scala_noua2 = {key: round(a * note_dict[key]  + b, 2) for key in note_dict}\n",
    "\n",
    "scala_noua2"
   ]
  },
  {
   "cell_type": "markdown",
   "metadata": {
    "id": "0mqpB1jLyIgF"
   },
   "source": [
    "**[AVANSAT]** Așa cum putem defini o matrice ca o listă de liste și o putem parsa folosind alte module de algebră liniară `(numpy, pytorch)`, putem defini și dicționare de dicționare, care sa fie convertite în DataFrame-uri multi-index folosind `pandas`.\n",
    "\n",
    "Totuși cu biblioteca `pandas` și multi-indexing vom lucra mai târziu. :-)"
   ]
  },
  {
   "cell_type": "code",
   "execution_count": 60,
   "metadata": {
    "id": "u2KNZMiAyIgF",
    "outputId": "7a681ac8-6a15-45c3-f87b-e3b7d5327567"
   },
   "outputs": [
    {
     "data": {
      "text/html": [
       "<div>\n",
       "<style scoped>\n",
       "    .dataframe tbody tr th:only-of-type {\n",
       "        vertical-align: middle;\n",
       "    }\n",
       "\n",
       "    .dataframe tbody tr th {\n",
       "        vertical-align: top;\n",
       "    }\n",
       "\n",
       "    .dataframe thead th {\n",
       "        text-align: right;\n",
       "    }\n",
       "</style>\n",
       "<table border=\"1\" class=\"dataframe\">\n",
       "  <thead>\n",
       "    <tr style=\"text-align: right;\">\n",
       "      <th></th>\n",
       "      <th></th>\n",
       "      <th>Informatica</th>\n",
       "      <th>Matematica</th>\n",
       "      <th>Istorie</th>\n",
       "    </tr>\n",
       "  </thead>\n",
       "  <tbody>\n",
       "    <tr>\n",
       "      <th rowspan=\"2\" valign=\"top\">Colegiul National Iași</th>\n",
       "      <th>Mihai</th>\n",
       "      <td>10</td>\n",
       "      <td>10</td>\n",
       "      <td>10</td>\n",
       "    </tr>\n",
       "    <tr>\n",
       "      <th>Elena</th>\n",
       "      <td>7</td>\n",
       "      <td>10</td>\n",
       "      <td>9</td>\n",
       "    </tr>\n",
       "    <tr>\n",
       "      <th rowspan=\"2\" valign=\"top\">Colegiul National Bucuresti</th>\n",
       "      <th>Andreea</th>\n",
       "      <td>10</td>\n",
       "      <td>10</td>\n",
       "      <td>10</td>\n",
       "    </tr>\n",
       "    <tr>\n",
       "      <th>Flavius</th>\n",
       "      <td>6</td>\n",
       "      <td>8</td>\n",
       "      <td>10</td>\n",
       "    </tr>\n",
       "  </tbody>\n",
       "</table>\n",
       "</div>"
      ],
      "text/plain": [
       "                                     Informatica  Matematica  Istorie\n",
       "Colegiul National Iași      Mihai             10          10       10\n",
       "                            Elena              7          10        9\n",
       "Colegiul National Bucuresti Andreea           10          10       10\n",
       "                            Flavius            6           8       10"
      ]
     },
     "execution_count": 60,
     "metadata": {},
     "output_type": "execute_result"
    }
   ],
   "source": [
    "scoli_dict = {\"Colegiul National Iași\": {\"Mihai\": {\"Informatica\":10, \"Matematica\":10, \"Istorie\":10}, \"Elena\":{\"Informatica\":7, \"Matematica\":10, \"Istorie\":9}}, \"Colegiul National Bucuresti\": {\"Andreea\": {\"Informatica\":10, \"Matematica\":10, \"Istorie\":10}, \"Flavius\":{\"Informatica\":6, \"Matematica\":8, \"Istorie\":10}}}\n",
    "\n",
    "\n",
    "# Create a multi-index DataFrame from the dictionary\n",
    "scoli_df = pd.DataFrame.from_dict({(i,j): scoli_dict[i][j]\n",
    "                           for i in scoli_dict.keys()\n",
    "                           for j in scoli_dict[i].keys()},\n",
    "                       orient='index')\n",
    "\n",
    "scoli_df"
   ]
  },
  {
   "cell_type": "markdown",
   "metadata": {
    "id": "oEWJcvV576Ej"
   },
   "source": [
    "# <u> Numpy  </u>"
   ]
  },
  {
   "cell_type": "markdown",
   "metadata": {
    "id": "nNRMEdZq8Lvm"
   },
   "source": [
    "Numpy este o bibliotecă de bază pentru calculul științific în Python. Ea oferă suport pentru vectori și matrice, împreună cu funcții matematice pentru a opera asupra acestora, precum și funcții de algebra liniară și rezolvare de ecuații."
   ]
  },
  {
   "cell_type": "markdown",
   "metadata": {
    "id": "K-G69A998laP"
   },
   "source": [
    "Există foarte multe funcționalități oferite de numpy, și vă îndrumăm să le explorați pe toate în [Documentația Numpy](https://numpy.org/doc/stable/user/basics.html)."
   ]
  },
  {
   "cell_type": "markdown",
   "metadata": {
    "id": "ZRz-i2FE-suH"
   },
   "source": [
    "Dintre funcționalitățile utilizate frecvent, putem enumera:\n",
    "* crearea de vectori și matrice - `np.array()`, `np.zeros()`, `np.ones()`, `np.tril()`, `np.triu()`, `np.arange()`, `np.linspace()`\n",
    "* operații matematice - `np.add()`, `np.subtract()`, `np.multiply()`, `np.divide()`, `np.dot()`, `np.matmul()` (sau in-line `@`), `np.transpose()` (sau `vector.T`)\n",
    "* funcții matematice - `np.exp()`, `np.log()`, `np.sin()`, `np.cos()`, `np.tan()`, `np.sqrt()`\n",
    "* funcții de agregare - `np.sum()`, `np.mean()`, `np.std()`, `np.var()`, `np.max()`, `np.min()`\n",
    "* funcții de manipulare a formei - `np.reshape()`, `np.concatenate()`, `np.split()`, `np.vstack()`, `np.hstack()`\n",
    "* funcții de manipulare a dimensiunilor - `np.squeeze()`, `np.unsqueeze()`\n",
    "* funcții de comparare - `np.equal()`, `np.not_equal()`, `np.greater()`, `np.greater_equal()`, `np.less()`, `np.less_equal()`, `np.all()`, `np.any()`\n",
    "* funcții de filtrare - `np.where()`, `np.argmax()`, `np.argmin()`\n",
    "* funcții de randomizare - `np.random.rand()`, `np.random.randn()`, `np.random.randint()`, `np.random.choice()`, `np.random.shuffle()`\n",
    "* funcții de algebra liniară - `np.linalg.inv()`, `np.linalg.det()`, `np.linalg.eig()`, `np.linalg.svd()`, `np.linalg.solve()`\n",
    "* funcții de statistici - `np.percentile()`, `np.histogram()`, `np.cov()`, `np.corrcoef()`\n",
    "* funcții de serializare - `np.save()`, `np.load()`, `np.savez()`, `np.loadz()`\n",
    "* funcții de manipulare a tipurilor de date - `np.astype()`, `np.asarray()`, `np.copy()`, `np.view()`"
   ]
  },
  {
   "cell_type": "markdown",
   "metadata": {
    "id": "-_I9-PoH_TPd"
   },
   "source": [
    "Să revenim la exercițiul anterior în care doream să rescalăm notele din intervalul [1, 10] în [1, 5].\n",
    "\n",
    "Putem rezolva problema matriceal, automat, în locul substituției analitice:\n",
    "\n",
    "a + b = 1\n",
    "10a + b = 5\n",
    "\n",
    "Se poate scrie:\n",
    "\n",
    "$$\n",
    "\\left(\\begin{array}{cc}\n",
    "1 & 1\\\\\n",
    "10 & 1\n",
    "\\end{array}\\right)\n",
    "\\left(\\begin{array}{cc}\n",
    "a \\\\\n",
    "b\n",
    "\\end{array}\\right)\n",
    "=\n",
    "\\left(\\begin{array}{cc}\n",
    "1 \\\\\n",
    "5\n",
    "\\end{array}\\right)\n",
    "$$\n",
    "\n",
    "În formă matriceală compactă, notăm:\n",
    "\n",
    "$$Ax = y \\implies x = A^{-1}y$$"
   ]
  },
  {
   "cell_type": "code",
   "execution_count": 61,
   "metadata": {
    "colab": {
     "base_uri": "https://localhost:8080/"
    },
    "id": "QUj3rcUv_Ss1",
    "outputId": "778892f1-ba12-4c07-fb35-f2fed475e9d4"
   },
   "outputs": [
    {
     "data": {
      "text/plain": [
       "(0.4444444444444445, 0.5555555555555556)"
      ]
     },
     "execution_count": 61,
     "metadata": {},
     "output_type": "execute_result"
    }
   ],
   "source": [
    "A = [[1, 1], [10, 1]]\n",
    "y = [1,5]\n",
    "\n",
    "# Convertim matricea și vectorul în obiecte din numpy\n",
    "A = np.array(A)\n",
    "y = np.array(y)\n",
    "\n",
    "x = np.linalg.inv(A) @ y.T # L-am facut pe y vector coloana prin transpunere\n",
    "\n",
    "a, b = x[0], x[1]\n",
    "\n",
    "a, b"
   ]
  },
  {
   "cell_type": "code",
   "execution_count": 62,
   "metadata": {
    "colab": {
     "base_uri": "https://localhost:8080/"
    },
    "id": "nnfkBOQhCpGd",
    "outputId": "4ed7cae4-01d9-4890-b756-fc115330f4f8"
   },
   "outputs": [
    {
     "data": {
      "text/plain": [
       "(2, 2)"
      ]
     },
     "execution_count": 62,
     "metadata": {},
     "output_type": "execute_result"
    }
   ],
   "source": [
    "# Pentru a obține dimensiunile unui vector în numpy:\n",
    "inaltime, latime = A.shape\n",
    "\n",
    "inaltime, latime"
   ]
  },
  {
   "cell_type": "code",
   "execution_count": 63,
   "metadata": {
    "colab": {
     "base_uri": "https://localhost:8080/"
    },
    "id": "G6IsACwkC8OO",
    "outputId": "b7410422-3be1-4117-8e38-b90c1bcd289a"
   },
   "outputs": [
    {
     "data": {
      "text/plain": [
       "((2,), (2,))"
      ]
     },
     "execution_count": 63,
     "metadata": {},
     "output_type": "execute_result"
    }
   ],
   "source": [
    "# Daca vectorul este unidimensional, el va avea o dimensiune goală\n",
    "# Iar atribuirea inaltime, latime = y.shape va produce o eroare referitoare la numărul de valori pe care vrem să le extragem\n",
    "y.shape, y.T.shape"
   ]
  },
  {
   "cell_type": "code",
   "execution_count": 64,
   "metadata": {
    "colab": {
     "base_uri": "https://localhost:8080/"
    },
    "id": "3E97E6vvDRsn",
    "outputId": "f52f0e1a-d2f4-407c-a0f1-132349e8b44b"
   },
   "outputs": [
    {
     "data": {
      "text/plain": [
       "(2, 1)"
      ]
     },
     "execution_count": 64,
     "metadata": {},
     "output_type": "execute_result"
    }
   ],
   "source": [
    "# Pentru a obține y de 2 dimensiuni, folosim comanda np.nexaxis, care mai adaugă un rând de parantezări în interiorul vectorului\n",
    "y = y[:, np.newaxis]\n",
    "y.shape"
   ]
  },
  {
   "cell_type": "markdown",
   "metadata": {
    "id": "8sr_6UTQEZ3w"
   },
   "source": [
    "În exemplul următor vom explora capacitatea de slicing oferită de numpy:"
   ]
  },
  {
   "cell_type": "code",
   "execution_count": 65,
   "metadata": {
    "colab": {
     "base_uri": "https://localhost:8080/"
    },
    "id": "9IvkIBFxEwBN",
    "outputId": "b12aadca-886a-4537-fbd2-8e5e19ce9b5b"
   },
   "outputs": [
    {
     "data": {
      "text/plain": [
       "array([[ 1,  2,  3,  4],\n",
       "       [ 5,  6,  7,  8],\n",
       "       [ 9, 10, 11, 12],\n",
       "       [13, 14, 15, 16]])"
      ]
     },
     "execution_count": 65,
     "metadata": {},
     "output_type": "execute_result"
    }
   ],
   "source": [
    "# Creăm o matrice 4x4 cu valori de la 1 la 16\n",
    "X = np.arange(1, 17).reshape(4, 4)\n",
    "\n",
    "X"
   ]
  },
  {
   "cell_type": "code",
   "execution_count": 66,
   "metadata": {
    "colab": {
     "base_uri": "https://localhost:8080/"
    },
    "id": "YN-PJ2UVE51t",
    "outputId": "bc9aa435-a573-4d06-decf-ff5e35d42228"
   },
   "outputs": [
    {
     "data": {
      "text/plain": [
       "array([[ 6,  7,  8],\n",
       "       [10, 11, 12]])"
      ]
     },
     "execution_count": 66,
     "metadata": {},
     "output_type": "execute_result"
    }
   ],
   "source": [
    "# Putem extrage din această matrice cele 2 rânduri de la mijloc și ultimele 3 coloane\n",
    "X_mic = X[1:3, 1:]\n",
    "\n",
    "X_mic"
   ]
  },
  {
   "cell_type": "markdown",
   "metadata": {
    "id": "_ZU_MRGKFQHt"
   },
   "source": [
    "În numpy, indexarea se face tot de la 0.\n",
    "\n",
    "Slicing-ul start:stop semnifică colectarea tuturor indecșilor cu proprietatea:\n",
    "$$start \\leq i < stop$$\n",
    "\n",
    "și poate fi folosit și de la sfârșit spre început folosind indecși negativi și aceeași convenție cu startul inclus și sfârșitul exclus.\n",
    "\n",
    "În momentul când unul dintre cele două capete lipsește, slicingul va merge până ajunge la capătul dimensiunii `1:` semnifică `start = 1, stop = max_width`"
   ]
  },
  {
   "cell_type": "markdown",
   "metadata": {
    "id": "TV1WcvIRGfJ0"
   },
   "source": [
    "Totodată, aveți mare atenție asupra felului cum folosiți sliceurile, ele sunt transmise prin referință și vor afecta structura din care au fost decupate:"
   ]
  },
  {
   "cell_type": "code",
   "execution_count": 67,
   "metadata": {
    "colab": {
     "base_uri": "https://localhost:8080/"
    },
    "id": "gwzm877DGypc",
    "outputId": "fc898ff6-1a5d-4df4-82b3-098df2642000"
   },
   "outputs": [
    {
     "data": {
      "text/plain": [
       "array([[ 1,  2,  3,  4],\n",
       "       [ 5,  6,  7,  8],\n",
       "       [ 9, 10, 11, 12],\n",
       "       [13, 14, 15, 16]])"
      ]
     },
     "execution_count": 67,
     "metadata": {},
     "output_type": "execute_result"
    }
   ],
   "source": [
    "X"
   ]
  },
  {
   "cell_type": "code",
   "execution_count": 68,
   "metadata": {
    "colab": {
     "base_uri": "https://localhost:8080/"
    },
    "id": "kyIxHi1mG0Qc",
    "outputId": "fee40757-eb57-412c-9d0f-e3154d6d4383"
   },
   "outputs": [
    {
     "data": {
      "text/plain": [
       "array([[0, 0, 0],\n",
       "       [0, 0, 0]])"
      ]
     },
     "execution_count": 68,
     "metadata": {},
     "output_type": "execute_result"
    }
   ],
   "source": [
    "# Peste toată dimensiunea X_mic punem 0-uri:\n",
    "X_mic[:] = 0\n",
    "\n",
    "X_mic"
   ]
  },
  {
   "cell_type": "code",
   "execution_count": 69,
   "metadata": {
    "colab": {
     "base_uri": "https://localhost:8080/"
    },
    "id": "ZZk2ZbJaG81H",
    "outputId": "ecadde5f-f6a5-42c8-c77f-b257b3e6dff8"
   },
   "outputs": [
    {
     "data": {
      "text/plain": [
       "array([[ 1,  2,  3,  4],\n",
       "       [ 5,  0,  0,  0],\n",
       "       [ 9,  0,  0,  0],\n",
       "       [13, 14, 15, 16]])"
      ]
     },
     "execution_count": 69,
     "metadata": {},
     "output_type": "execute_result"
    }
   ],
   "source": [
    "X"
   ]
  },
  {
   "cell_type": "markdown",
   "metadata": {
    "id": "JqL_gXPcHV6A"
   },
   "source": [
    "Pentru a nu afecta structura lui X, ar trebui să facem o copie persistentă a regiunii decupate:"
   ]
  },
  {
   "cell_type": "code",
   "execution_count": 70,
   "metadata": {
    "colab": {
     "base_uri": "https://localhost:8080/"
    },
    "id": "X6OXOGk4HhhD",
    "outputId": "ea4fd19b-51fb-4679-a7f5-9e9d7546e106"
   },
   "outputs": [
    {
     "data": {
      "text/plain": [
       "(array([[ 1,  2,  3,  4],\n",
       "        [ 5,  6,  7,  8],\n",
       "        [ 9, 10, 11, 12],\n",
       "        [13, 14, 15, 16]]),\n",
       " array([[ 6,  7,  8],\n",
       "        [10, 11, 12]]))"
      ]
     },
     "execution_count": 70,
     "metadata": {},
     "output_type": "execute_result"
    }
   ],
   "source": [
    "# Resetăm experimentul\n",
    "X = np.arange(1, 17).reshape(4, 4)\n",
    "\n",
    "# realizăm o copie persistentă a lui X pe zona din slicing, folosind metoda deepcopy din librăria copy\n",
    "X_mic = deepcopy(X[1:3, 1:])\n",
    "\n",
    "X, X_mic"
   ]
  },
  {
   "cell_type": "code",
   "execution_count": 71,
   "metadata": {
    "colab": {
     "base_uri": "https://localhost:8080/"
    },
    "id": "DTrEsFCaH9MT",
    "outputId": "97440778-b48e-409f-94fe-6c6cd14e3a87"
   },
   "outputs": [
    {
     "data": {
      "text/plain": [
       "(array([[ 1,  2,  3,  4],\n",
       "        [ 5,  6,  7,  8],\n",
       "        [ 9, 10, 11, 12],\n",
       "        [13, 14, 15, 16]]),\n",
       " array([[0, 0, 0],\n",
       "        [0, 0, 0]]))"
      ]
     },
     "execution_count": 71,
     "metadata": {},
     "output_type": "execute_result"
    }
   ],
   "source": [
    "X_mic[:] = 0\n",
    "\n",
    "X, X_mic"
   ]
  },
  {
   "cell_type": "markdown",
   "metadata": {
    "id": "8LJ-DT_QyIgG"
   },
   "source": [
    "# <u> Funcții  </u>"
   ]
  },
  {
   "cell_type": "markdown",
   "metadata": {
    "id": "L0qLO6pCzBf-"
   },
   "source": [
    "În Python, în afara variabilelor de bază care sunt transmise prin valoare, toate celelalte sunt transmise prin referință.\n",
    "\n",
    "Așadar, modificările aduse obiectelor din funcții se propagă ca efecte laterale în afara funcției."
   ]
  },
  {
   "cell_type": "code",
   "execution_count": 72,
   "metadata": {
    "id": "v1R8luWYzEiU"
   },
   "outputs": [],
   "source": [
    "lista_int = list(range(1, 16))"
   ]
  },
  {
   "cell_type": "code",
   "execution_count": 73,
   "metadata": {
    "colab": {
     "base_uri": "https://localhost:8080/"
    },
    "id": "FfkzaLeZzChL",
    "outputId": "8766da0e-05ff-4bf9-98e9-3d287af5eb26"
   },
   "outputs": [
    {
     "data": {
      "text/plain": [
       "(60, [30, 1, 2, 3, 4, 5, 6, 7, 8, 9, 10, 11, 12, 13, 14, 15])"
      ]
     },
     "execution_count": 73,
     "metadata": {},
     "output_type": "execute_result"
    }
   ],
   "source": [
    "def demo_lateral_tipat(lista : list, elem : int) -> int:\n",
    "  lista.insert(0, elem)\n",
    "\n",
    "  return 2*elem\n",
    "\n",
    "def demo_lateral(lista, elem):\n",
    "  lista.insert(0, elem)\n",
    "\n",
    "  return 2*elem\n",
    "\n",
    "output = demo_lateral_tipat(lista_int, 30)\n",
    "\n",
    "output, lista_int"
   ]
  },
  {
   "cell_type": "markdown",
   "metadata": {
    "id": "Vm91nSomz4wD"
   },
   "source": [
    "Putem observa sintaxa unei funcții:\n",
    "* Antetul pornește cu keyword-ul `def`\n",
    "* Precum în celelalte blocuri de control, creștem identarea cu un tab pentru a semnala apartenența la blocul funcției\n",
    "* Tipul returnat de funcție este identificat de `-> tip`\n",
    "* Secvența de cod din funcție se poate termina cu return"
   ]
  },
  {
   "cell_type": "markdown",
   "metadata": {
    "id": "RavtmbQN0wsg"
   },
   "source": [
    "Această ultimă observație nu este obligatorie în general. Putem scrie funcții care nu returnează nimic per se, ci se bazează exclusiv pe efect lateral:"
   ]
  },
  {
   "cell_type": "code",
   "execution_count": 74,
   "metadata": {
    "colab": {
     "base_uri": "https://localhost:8080/"
    },
    "id": "BVV9zQm91BfV",
    "outputId": "697853ef-1a90-4a18-a6da-26f0ecaf5d52"
   },
   "outputs": [
    {
     "data": {
      "text/plain": [
       "[30, 1, 2, 3, 4, 5, 6, 7, 8, 9, 10, 11, 12, 13, 14, 15, 47]"
      ]
     },
     "execution_count": 74,
     "metadata": {},
     "output_type": "execute_result"
    }
   ],
   "source": [
    "def demo_no_return(lista : list):\n",
    "  lista.append(47)\n",
    "\n",
    "# Echivalent, putem scrie și:\n",
    "def demo_no_return(lista : list):\n",
    "  lista.append(47)\n",
    "  return\n",
    "\n",
    "demo_no_return(lista_int)\n",
    "\n",
    "lista_int"
   ]
  },
  {
   "cell_type": "markdown",
   "metadata": {
    "id": "PVgBNtFQ157G"
   },
   "source": [
    "Dacă executăm:"
   ]
  },
  {
   "cell_type": "code",
   "execution_count": 75,
   "metadata": {
    "id": "qa6dpcmA2ByV"
   },
   "outputs": [
    {
     "data": {
      "text/plain": [
       "(None, True)"
      ]
     },
     "execution_count": 75,
     "metadata": {},
     "output_type": "execute_result"
    }
   ],
   "source": [
    "output = demo_no_return(lista_int)\n",
    "\n",
    "output, output == None"
   ]
  },
  {
   "cell_type": "markdown",
   "metadata": {
    "id": "2LCKbw7a2PIE"
   },
   "source": [
    "Ne dăm seama acum ce se petrece atunci când scriem lista = lista.append(element).\n",
    "\n",
    "Append este o metoda a clasei List ce realizeaza modificarile asupra obiectului curent prin efect lateral și nu returnează nimic."
   ]
  },
  {
   "cell_type": "markdown",
   "metadata": {
    "id": "SwtUTVOo1cbV"
   },
   "source": [
    "**[Good practice]** În general se preferă un coding style în care funcțiile să fie definite fără cod executabil sau doar cu unit teste ce îi vizează comportamentul, și de obicei se definesc helperele și funcția mare în aceeași celulă"
   ]
  },
  {
   "cell_type": "markdown",
   "metadata": {
    "id": "zws-NkF44_M4"
   },
   "source": [
    "Un Bad practice utilizat frecvent în Notebook-uri este reprezentat de utilizarea variabilelor neoferite ca parametru:"
   ]
  },
  {
   "cell_type": "code",
   "execution_count": 76,
   "metadata": {
    "colab": {
     "base_uri": "https://localhost:8080/"
    },
    "id": "QVtAKetw5OnM",
    "outputId": "ee19a20e-28f9-4da0-9d07-dc499bbe8eb9"
   },
   "outputs": [
    {
     "data": {
      "text/plain": [
       "11"
      ]
     },
     "execution_count": 76,
     "metadata": {},
     "output_type": "execute_result"
    }
   ],
   "source": [
    "def demo_bad_practice(elem : int) -> int:\n",
    "  return 2*elem + var\n",
    "\n",
    "demo_bad_practice(3)"
   ]
  },
  {
   "cell_type": "markdown",
   "metadata": {
    "id": "zZT2nG0-5qwM"
   },
   "source": [
    "Funcția are acces la contextul notebook-ului și deși var nu este definit în interiorul său, îl găsește pe cel executat anterior în secțiunea de variabile: `var : int = 5` și îl folosește pe acela.\n",
    "\n",
    "Deși este foarte la îndemână acest tip de a scrie funcții, încercați să oferiți tot ce aveți nevoie ca parametru, sau să creați clase cu atribute.\n",
    "\n",
    "Acest coding style ascunde foarte bine erori și vă forțează să aveți o mai mare precauție când rulați celule de mai sus decât nivelul curent al workflow-ului."
   ]
  },
  {
   "cell_type": "markdown",
   "metadata": {
    "id": "qFjA4rA32vso"
   },
   "source": [
    "___\n",
    "Dacă dorim să returnăm mai multe valori produse în interiorul funcției, putem folosi următoarea sintaxă:\n",
    "\n"
   ]
  },
  {
   "cell_type": "code",
   "execution_count": 77,
   "metadata": {
    "colab": {
     "base_uri": "https://localhost:8080/"
    },
    "id": "_VnmvTNh3Cnw",
    "outputId": "6ad4069b-02c9-4e43-a227-9bf70c1ced6f"
   },
   "outputs": [
    {
     "data": {
      "text/plain": [
       "(18, 1, 47)"
      ]
     },
     "execution_count": 77,
     "metadata": {},
     "output_type": "execute_result"
    }
   ],
   "source": [
    "def demo_multivals(lista):\n",
    "  return len(lista), min(lista), max(lista)\n",
    "\n",
    "# Prin pattern matching, fiecarei variabile ii este atribuita o valoare din cele returnate de functie\n",
    "lungime, minim, maxim = demo_multivals(lista_int)\n",
    "\n",
    "lungime, minim, maxim"
   ]
  },
  {
   "cell_type": "code",
   "execution_count": 78,
   "metadata": {
    "colab": {
     "base_uri": "https://localhost:8080/"
    },
    "id": "kzPXMwtF3lwN",
    "outputId": "f0c6bf46-20d1-437f-ce9f-9070521a7df3"
   },
   "outputs": [
    {
     "data": {
      "text/plain": [
       "(18, 1, 47)"
      ]
     },
     "execution_count": 78,
     "metadata": {},
     "output_type": "execute_result"
    }
   ],
   "source": [
    "#Alternativ putem scrie și\n",
    "valori = demo_multivals(lista_int)\n",
    "\n",
    "#Și să accesăm elementele din tuplul valori\n",
    "valori[0], valori[1], valori[2]"
   ]
  },
  {
   "cell_type": "markdown",
   "metadata": {
    "id": "JulctiWN4FT6"
   },
   "source": [
    "Returnarea de valori multiple se realizează prin crearea unui tuplu."
   ]
  },
  {
   "cell_type": "markdown",
   "metadata": {
    "id": "QTRrS-pud_KF"
   },
   "source": [
    "În limbajul de programare Python, putem defini o funcție care să primească un număr variabil de argumente folosind asteriscul (*) în definiția funcției. În acest caz, argumentele sunt percepute drept un tuplu (care poate avea număr variabil de elemente).\n",
    "\n",
    "Iată un exemplu simplu:"
   ]
  },
  {
   "cell_type": "code",
   "execution_count": 79,
   "metadata": {
    "colab": {
     "base_uri": "https://localhost:8080/"
    },
    "id": "U4F8mFPIeG1M",
    "outputId": "dd51478c-c5c6-4707-a3b3-3ec4469a4fe5"
   },
   "outputs": [
    {
     "name": "stdout",
     "output_type": "stream",
     "text": [
      "1\n",
      "2\n",
      "3\n",
      "a\n",
      "b\n",
      "True\n",
      "ana\n",
      "[1, 2, 3]\n",
      "1\n",
      "a\n"
     ]
    }
   ],
   "source": [
    "def functie_cu_numar_variabil_de_argumente(*args):\n",
    "    for arg in args:\n",
    "        print(arg)\n",
    "\n",
    "# Exemplu de utilizare\n",
    "functie_cu_numar_variabil_de_argumente(1, 2, 3, 'a', 'b')\n",
    "\n",
    "# Exemplu de apel\n",
    "lista_argumente = [True, \"ana\", [1, 2, 3], 1, 'a']\n",
    "functie_cu_numar_variabil_de_argumente(*lista_argumente)"
   ]
  },
  {
   "cell_type": "markdown",
   "metadata": {
    "id": "x-rDxb3eemtf"
   },
   "source": [
    "Funcțiile în Python pot avea argumente cu valori implicite, ceea ce înseamnă că aceste argumente primesc o valoare implicită, furnizată atunci când este definită funcția, ce este folosită în cazul în care nu este furnizată o altă valoare în momentul apelului funcției. Acest lucru adaugă flexibilitate și oferă posibilitatea apelării funcției cu un număr mai mic de argumente decât numărul total de parametri."
   ]
  },
  {
   "cell_type": "code",
   "execution_count": 80,
   "metadata": {
    "colab": {
     "base_uri": "https://localhost:8080/"
    },
    "id": "WJppnpz1fCod",
    "outputId": "7ec14e85-e4d5-46e5-8df9-f8d457cb2e75"
   },
   "outputs": [
    {
     "name": "stdout",
     "output_type": "stream",
     "text": [
      "3\n",
      "7\n",
      "11\n",
      "15\n"
     ]
    }
   ],
   "source": [
    "def suma(x=0, y=1, z=2):\n",
    "  return x + y + z\n",
    "\n",
    "print(suma())\n",
    "print(suma(4))\n",
    "print(suma(4,5))\n",
    "print(suma(4,5,6))"
   ]
  },
  {
   "cell_type": "markdown",
   "metadata": {
    "id": "BHLkqqPwfRIl"
   },
   "source": [
    "În Python, putem utiliza cuvinte cheie (keywords) pentru a furniza argumente la apelul funcțiilor. Aceasta permite specificarea valorilor pentru parametri prin numele acestora, fără a depinde strict de ordinea în care aceștia sunt definiți în funcție."
   ]
  },
  {
   "cell_type": "code",
   "execution_count": 81,
   "metadata": {
    "colab": {
     "base_uri": "https://localhost:8080/"
    },
    "id": "JtGv7jxufTEA",
    "outputId": "1ce51e5b-1958-4b44-e572-e4b6d41a2689"
   },
   "outputs": [
    {
     "name": "stdout",
     "output_type": "stream",
     "text": [
      "The youngest child is Andrei\n",
      "His last name is Popescu\n"
     ]
    }
   ],
   "source": [
    "def my_function(child3, child2, child1):\n",
    "  print(\"The youngest child is \" + child3)\n",
    "\n",
    "my_function(child1 = \"Emil\",\n",
    "            child2 = \"Alex\",\n",
    "            child3 = \"Andrei\")\n",
    "\n",
    "def my_function(**kid):\n",
    "  print(\"His last name is \" + kid[\"lname\"])\n",
    "\n",
    "my_function(fname = \"Andrei\", lname = \"Popescu\")"
   ]
  },
  {
   "cell_type": "markdown",
   "metadata": {
    "id": "jeHlib44EDRG"
   },
   "source": [
    "# <u> Tupluri  </u>"
   ]
  },
  {
   "cell_type": "markdown",
   "metadata": {
    "id": "RZ5NXuimyIgG"
   },
   "source": [
    "Precum ați văzut, pe parcursul laboratorului, tuplurile sunt obiecte similare listelor, dar sunt imutabile."
   ]
  },
  {
   "cell_type": "code",
   "execution_count": 82,
   "metadata": {
    "id": "0Up8nNYzyIgH",
    "outputId": "c3687be6-757f-4f32-a948-65840510aca9"
   },
   "outputs": [
    {
     "ename": "TypeError",
     "evalue": "'tuple' object does not support item assignment",
     "output_type": "error",
     "traceback": [
      "\u001b[1;31m---------------------------------------------------------------------------\u001b[0m",
      "\u001b[1;31mTypeError\u001b[0m                                 Traceback (most recent call last)",
      "Cell \u001b[1;32mIn[82], line 2\u001b[0m\n\u001b[0;32m      1\u001b[0m tuplu_error \u001b[38;5;241m=\u001b[39m (\u001b[38;5;241m1\u001b[39m,\u001b[38;5;241m2\u001b[39m,\u001b[38;5;241m3\u001b[39m)\n\u001b[1;32m----> 2\u001b[0m \u001b[43mtuplu_error\u001b[49m\u001b[43m[\u001b[49m\u001b[38;5;241;43m0\u001b[39;49m\u001b[43m]\u001b[49m \u001b[38;5;241m=\u001b[39m \u001b[38;5;241m4\u001b[39m\n",
      "\u001b[1;31mTypeError\u001b[0m: 'tuple' object does not support item assignment"
     ]
    }
   ],
   "source": [
    "tuplu_error = (1,2,3)\n",
    "tuplu_error[0] = 4\n"
   ]
  },
  {
   "cell_type": "markdown",
   "metadata": {
    "id": "XeLHE9jiyIgH"
   },
   "source": [
    "Primim eroarea care ne spune că obiectul de tip tuplu nu suportă modificarea elementelor.\n",
    "\n",
    "În cazul suprascrierii tuplului, se va crea un nou obiect de tip tuplu, care va fi alocat într-o nouă zonă de memorie, iar (1, 2, 3) va fi marcat pentru garbage collection."
   ]
  },
  {
   "cell_type": "code",
   "execution_count": 83,
   "metadata": {
    "id": "d0RdkqzryIgH"
   },
   "outputs": [],
   "source": [
    "tuplu_error = (1,2,3, [4,5,6])\n",
    "\n",
    "# Putem modifica în cadrul listei din tuplu, deoarece acesta reține referința către ea, iar valorile din listă sunt mutabile\n",
    "tuplu_error[3][0] = 7"
   ]
  },
  {
   "cell_type": "markdown",
   "metadata": {
    "id": "qDikeUCByIgH"
   },
   "source": [
    "Principalele moduri în care întâlnim tuplurile sunt:\n",
    "* Tuplurile rezultate din operatii de zip, enumerate, items ale unor dicționare\n",
    "* Memoizarea unei colecții de metrici corespunzătoare rulării curente a unui algoritm.\n",
    "* Returnarea mai multor valori dintr-o funcție"
   ]
  },
  {
   "cell_type": "markdown",
   "metadata": {
    "id": "7KtAUPhVyIgH"
   },
   "source": [
    "Luăm numele și notele studenților de la exemplul anterior:"
   ]
  },
  {
   "cell_type": "code",
   "execution_count": 84,
   "metadata": {
    "id": "xE969tlyyIgH",
    "outputId": "762edf11-4792-4a9c-ac2c-2f9289c4c821"
   },
   "outputs": [
    {
     "data": {
      "text/plain": [
       "[('Mihai', 10),\n",
       " ('Andreea', 10),\n",
       " ('Andrei', 8),\n",
       " ('Marcela', 7),\n",
       " ('Rodica', 9),\n",
       " ('Catalin', 8)]"
      ]
     },
     "execution_count": 84,
     "metadata": {},
     "output_type": "execute_result"
    }
   ],
   "source": [
    "lista_tupluri_note = list(note_dict.items())\n",
    "\n",
    "lista_tupluri_note"
   ]
  },
  {
   "cell_type": "markdown",
   "metadata": {
    "id": "M7BZZF2EyIgI"
   },
   "source": [
    "Cu ajutorul unei expresii lambda, putem să sortăm lista de tupluri în funcție de un anumit criteriu, în cazul nostru, nota."
   ]
  },
  {
   "cell_type": "code",
   "execution_count": 85,
   "metadata": {
    "id": "4k4clg5jyIgI",
    "outputId": "51e3b6b3-7e93-4aa7-8df8-f7d6af10125d"
   },
   "outputs": [
    {
     "data": {
      "text/plain": [
       "[('Marcela', 7),\n",
       " ('Andrei', 8),\n",
       " ('Catalin', 8),\n",
       " ('Rodica', 9),\n",
       " ('Mihai', 10),\n",
       " ('Andreea', 10)]"
      ]
     },
     "execution_count": 85,
     "metadata": {},
     "output_type": "execute_result"
    }
   ],
   "source": [
    "lista_tupluri_note_sortate = sorted(lista_tupluri_note, key=lambda x: x[1]) # Pentru o sortare descrescătoare, putem folosi argumentul reverse=True\n",
    "\n",
    "lista_tupluri_note_sortate"
   ]
  },
  {
   "cell_type": "markdown",
   "metadata": {
    "id": "5WQZ4bbCyIgI"
   },
   "source": [
    "Pentru cea de-a doua funcționalitate a tuplurilor, o bibliotecă foarte utilă este reprezentată de `pickle`, care are rolul de a serializa obiecte Python, pentru a le salva în fișiere binare pe disc și a le reîncărca ulterior."
   ]
  },
  {
   "cell_type": "code",
   "execution_count": 86,
   "metadata": {
    "id": "NnWOsNdgyIgI"
   },
   "outputs": [],
   "source": [
    "metrica1 = np.linspace(0, 1, 10)\n",
    "metrica2 = np.random.rand(10)\n",
    "metrica3 = np.sin(np.linspace(0, 2*np.pi, 10))"
   ]
  },
  {
   "cell_type": "code",
   "execution_count": 87,
   "metadata": {
    "id": "tHn89-hHyIgJ",
    "outputId": "eb3d1be5-8be9-43e7-ec61-a39f175d6190"
   },
   "outputs": [
    {
     "data": {
      "text/plain": [
       "(array([0.        , 0.11111111, 0.22222222, 0.33333333, 0.44444444,\n",
       "        0.55555556, 0.66666667, 0.77777778, 0.88888889, 1.        ]),\n",
       " array([0.10633675, 0.72285576, 0.03493641, 0.39195206, 0.2607497 ,\n",
       "        0.87571759, 0.47906054, 0.54079548, 0.77336965, 0.82550488]),\n",
       " array([ 0.00000000e+00,  6.42787610e-01,  9.84807753e-01,  8.66025404e-01,\n",
       "         3.42020143e-01, -3.42020143e-01, -8.66025404e-01, -9.84807753e-01,\n",
       "        -6.42787610e-01, -2.44929360e-16]))"
      ]
     },
     "execution_count": 87,
     "metadata": {},
     "output_type": "execute_result"
    }
   ],
   "source": [
    "metrica1, metrica2, metrica3"
   ]
  },
  {
   "cell_type": "code",
   "execution_count": 88,
   "metadata": {
    "id": "lqhfuqHoyIgJ"
   },
   "outputs": [],
   "source": [
    "# Scriem datele într-un fișier binar sub formă de tuplu\n",
    "with open('metrici.pkl', 'wb') as f:\n",
    "    pkl.dump((metrica1, metrica2, metrica3), f)"
   ]
  },
  {
   "cell_type": "code",
   "execution_count": 89,
   "metadata": {
    "id": "uFu6JkvJyIgJ"
   },
   "outputs": [],
   "source": [
    "with open('metrici.pkl', 'rb') as f:\n",
    "    m1, m2, m3 = pkl.load(f) # Citim datele din fișierul binar, corespunzătoare array-urilor metrica1, metrica2, metrica3"
   ]
  },
  {
   "cell_type": "code",
   "execution_count": 90,
   "metadata": {
    "id": "Fml0cM-9yIgJ",
    "outputId": "2120cba9-1c2b-407a-c93c-760c50af9f77"
   },
   "outputs": [
    {
     "data": {
      "text/plain": [
       "(True, True, True)"
      ]
     },
     "execution_count": 90,
     "metadata": {},
     "output_type": "execute_result"
    }
   ],
   "source": [
    "# np.all face și logic între toate elementele arrayului de boolene rezultat din comparația elementelor array-urilor\n",
    "np.all(m1 == metrica1), np.all(m2 == metrica2), np.all(m3 == metrica3)"
   ]
  },
  {
   "cell_type": "markdown",
   "metadata": {
    "id": "c-wiAGD6qatg"
   },
   "source": [
    "# Exerciții cu liste [60p]"
   ]
  },
  {
   "cell_type": "markdown",
   "metadata": {
    "id": "hWLp1VoXqf9t"
   },
   "source": [
    "1. Implementați o funcție care determină și returnează elementul minim dintr-o listă cu numere primită ca parametru."
   ]
  },
  {
   "cell_type": "code",
   "execution_count": 21,
   "metadata": {
    "colab": {
     "base_uri": "https://localhost:8080/"
    },
    "id": "FJ1523tfqvkJ",
    "outputId": "00634ae5-af81-43e7-d4bf-ecdcf7ba9bb2"
   },
   "outputs": [
    {
     "name": "stdout",
     "output_type": "stream",
     "text": [
      "Elementul minim din lista este: 1\n"
     ]
    }
   ],
   "source": [
    "def minim(lista):\n",
    "    return min(lista)\n",
    "\n",
    "lista_numerica = [2, 8, 5, 1, 7, 3]\n",
    "rezultat = minim(lista_numerica)\n",
    "print(\"Elementul minim din lista este:\", rezultat) # Rezultatul așteptat este: 1"
   ]
  },
  {
   "cell_type": "markdown",
   "metadata": {
    "id": "Mw2Vg0atrB1s"
   },
   "source": [
    "2. Implementați o funcție care determină numărul de numere pare dintr-o listă de numere primită ca argument."
   ]
  },
  {
   "cell_type": "code",
   "execution_count": 22,
   "metadata": {
    "colab": {
     "base_uri": "https://localhost:8080/"
    },
    "id": "HCnfgp7grL2j",
    "outputId": "8f055348-930e-44de-bfa5-7737d459a133"
   },
   "outputs": [
    {
     "name": "stdout",
     "output_type": "stream",
     "text": [
      "Numarul de numere pare din lista este: 2\n"
     ]
    }
   ],
   "source": [
    "def pare(lista):\n",
    "    return len([n for n in lista if n % 2 == 0])\n",
    "\n",
    "nr_pare = pare(lista_numerica)\n",
    "print(\"Numarul de numere pare din lista este:\", nr_pare) # Rezultatul așteptat este: 2"
   ]
  },
  {
   "cell_type": "markdown",
   "metadata": {
    "id": "eLGk9we9r7Ai"
   },
   "source": [
    "3. Implementați o funcție care primește ca argument o listă și returnează lista cu toate prefixele ei."
   ]
  },
  {
   "cell_type": "code",
   "execution_count": 23,
   "metadata": {
    "colab": {
     "base_uri": "https://localhost:8080/"
    },
    "id": "sCMWe68YsFcA",
    "outputId": "7228025a-bbb8-4d94-a401-5015e732121f"
   },
   "outputs": [
    {
     "name": "stdout",
     "output_type": "stream",
     "text": [
      "Prefixele listei sunt: [[2], [2, 8], [2, 8, 5], [2, 8, 5, 1], [2, 8, 5, 1, 7], [2, 8, 5, 1, 7, 3]]\n"
     ]
    }
   ],
   "source": [
    "def prefixe_lista(lista):\n",
    "    prefixes = []\n",
    "    for i in range(1, len(lista) + 1):\n",
    "        prefixes.append(lista[:i])\n",
    "\n",
    "    return prefixes\n",
    "\n",
    "rezultat = prefixe_lista(lista_numerica)\n",
    "print(\"Prefixele listei sunt:\", rezultat) # Rezultatul așteptat: [[2], [2, 8], [2, 8, 5], [2, 8, 5, 1], [2, 8, 5, 1, 7], [2, 8, 5, 1, 7, 3]]"
   ]
  },
  {
   "cell_type": "markdown",
   "metadata": {
    "id": "1LT_qC_IfpVU"
   },
   "source": [
    "4. Implementați o funcție care primește ca argument o listă cu numere întregi și întoarce două liste:\n",
    "- o listă cu elementele pare din lista primită ca argument (sortate crescător și fără duplicate);\n",
    "- o listă cu elementele impare din lista primită ca argument (sortate descrescător și fără duplicate).\n"
   ]
  },
  {
   "cell_type": "code",
   "execution_count": 24,
   "metadata": {
    "id": "tmy5wZatftXE"
   },
   "outputs": [
    {
     "name": "stdout",
     "output_type": "stream",
     "text": [
      "Lista cu elementele pare:  [21, 9, 7, 3, 1]\n",
      "Lista cu elementele impare:  [2, 4, 8, 32, 42, 100]\n"
     ]
    }
   ],
   "source": [
    "def sub_liste(lista):\n",
    "    odd_list = list(set(filter(lambda x: x % 2 == 0, lista)))\n",
    "    even_list = list(set(filter(lambda x: x % 2 != 0, lista)))\n",
    "\n",
    "    odd_list.sort()\n",
    "    even_list.sort(reverse=True)\n",
    "\n",
    "    return even_list, odd_list\n",
    "\n",
    "lista_pare, lista_impare = sub_liste([1, 1, 2, 7, 3, 9, 8, 3, 2, 4, 100, 21, 32, 42])\n",
    "print(\"Lista cu elementele pare: \", lista_pare)\n",
    "print(\"Lista cu elementele impare: \", lista_impare)"
   ]
  },
  {
   "cell_type": "markdown",
   "metadata": {
    "id": "fl54N4M0mt53"
   },
   "source": [
    "# Exerciții compuse [20p]"
   ]
  },
  {
   "cell_type": "markdown",
   "metadata": {
    "id": "QpUG1FSIf0wx"
   },
   "source": [
    "5. Implementați o funcție care primește ca argumente două numere naturale, $n$ și $k$, și afișează toate perechile de numere naturale $(a, b)$ cu proprietatea că $10 < a < b \\le n$ și $a + b$ este divizibil cu $k$."
   ]
  },
  {
   "cell_type": "code",
   "execution_count": 26,
   "metadata": {
    "id": "yppo_XLgf5wz"
   },
   "outputs": [
    {
     "data": {
      "text/plain": [
       "[(11, 14), (12, 13)]"
      ]
     },
     "execution_count": 26,
     "metadata": {},
     "output_type": "execute_result"
    }
   ],
   "source": [
    "def perechi(n, k):\n",
    "    pairs = []\n",
    "\n",
    "    for a in range(11, n + 1):\n",
    "        for b in range(a + 1, n + 1):\n",
    "            if (a + b) % k == 0:\n",
    "                pairs.append((a, b))\n",
    "    \n",
    "    return pairs\n",
    "\n",
    "perechi(14, 5) # Rezultatul așteptat: (11, 14) și (12, 13)"
   ]
  },
  {
   "cell_type": "markdown",
   "metadata": {
    "id": "h4Ucoh2rh-aq"
   },
   "source": [
    "6. Implementați o funcție care primește un text și un prag k și returnează cuvintele care apar de minim k-ori ordonate crescător (Adaptare Interviu Adobe 2023)"
   ]
  },
  {
   "cell_type": "code",
   "execution_count": 56,
   "metadata": {
    "colab": {
     "base_uri": "https://localhost:8080/"
    },
    "id": "VsXprAxKjPpP",
    "outputId": "914545aa-f0d0-403d-e164-39774cf207a8"
   },
   "outputs": [
    {
     "name": "stdout",
     "output_type": "stream",
     "text": [
      "Cuvintele care apar de minim 2-ori sunt: ['caine', 'e', 'mai', 'decat', 'om', 'un']\n"
     ]
    }
   ],
   "source": [
    "import re\n",
    "\n",
    "def cuvinte_peste_prag(text : str, k : int) -> list[str]:\n",
    "\n",
    "    # Eliminați semnele de punctuație\n",
    "    text = re.sub(r'[^\\w\\s]', '', text)\n",
    "\n",
    "    # Tokenizați stringul curent\n",
    "    words = text.split()\n",
    "\n",
    "    # Numărați cu ajutorul unui dicționar frecvențele de apariție ale cuvintelor\n",
    "    dictionary = {}\n",
    "\n",
    "    for word in words:\n",
    "        if word not in dictionary:\n",
    "            dictionary[word] = 1\n",
    "        else:\n",
    "            dictionary[word] += 1 \n",
    "\n",
    "    # Ordonați crescător lista de cuvinte și frecvențe după frecvențe\n",
    "    words = sorted(dictionary.items(), key=lambda x: x[1])\n",
    "\n",
    "    # Extrageți cuvintele din lista de tupluri ordonate\n",
    "    filtered = [word[0] for word in words if word[1] >= k]\n",
    "\n",
    "    return filtered\n",
    "\n",
    "\n",
    "text = \"un caine e mai mic decat un om, dar un om e mult mai putin prietenos decat un caine\"\n",
    "k = 2\n",
    "\n",
    "rezultat = cuvinte_peste_prag(text, k)\n",
    "print(f\"Cuvintele care apar de minim {k}-ori sunt:\", rezultat) # Rezultatul așteptat: ['caine', 'e', 'mai', 'decat', 'om', 'un']"
   ]
  },
  {
   "cell_type": "code",
   "execution_count": null,
   "metadata": {},
   "outputs": [],
   "source": []
  },
  {
   "cell_type": "code",
   "execution_count": null,
   "metadata": {},
   "outputs": [],
   "source": []
  }
 ],
 "metadata": {
  "colab": {
   "provenance": []
  },
  "kernelspec": {
   "display_name": "Python 3 (ipykernel)",
   "language": "python",
   "name": "python3"
  },
  "language_info": {
   "codemirror_mode": {
    "name": "ipython",
    "version": 3
   },
   "file_extension": ".py",
   "mimetype": "text/x-python",
   "name": "python",
   "nbconvert_exporter": "python",
   "pygments_lexer": "ipython3",
   "version": "3.10.4"
  }
 },
 "nbformat": 4,
 "nbformat_minor": 1
}
