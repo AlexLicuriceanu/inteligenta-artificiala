{
 "cells": [
  {
   "cell_type": "markdown",
   "metadata": {
    "colab_type": "text",
    "id": "view-in-github"
   },
   "source": [
    "<a href=\"https://colab.research.google.com/github/cs-pub-ro/ML/blob/master/lab/lab8/Laborator_8.ipynb\" target=\"_parent\"><img src=\"https://colab.research.google.com/assets/colab-badge.svg\" alt=\"Open In Colab\"/></a>"
   ]
  },
  {
   "cell_type": "markdown",
   "metadata": {
    "colab_type": "text",
    "id": "tmaHAc_KHG_5"
   },
   "source": [
    "# Rețele neurale pentru clasificarea imaginilor\n",
    "\n",
    "_Tudor Berariu, 2018_ \n",
    "_Alexandru Sorici, 2024_"
   ]
  },
  {
   "cell_type": "markdown",
   "metadata": {
    "colab_type": "text",
    "id": "xKCKTWvsuJuF"
   },
   "source": [
    "În cadrul acestui laborator veți implementa o rețea neurală pentru clasificarea imaginilor.\n",
    "Rețeaua va fi compusă din straturi lineare și activări de tip ReLU și un strat softmax înainte de ieșiri. Funcția de cost folosită va fi negative log likelihood. Pentru optimizarea acesteia se va folosi SGD (stochastic gradient descent)."
   ]
  },
  {
   "cell_type": "markdown",
   "metadata": {
    "colab_type": "text",
    "id": "zgNIWhzoHOIz"
   },
   "source": [
    "## 1. Setul de date MNIST\n",
    "\n",
    "Setul de date MNIST este compus din imagini de 28x28 pixeli reprezentând una dintre cele zece cifre 0-9.\n",
    "\n",
    "Decomentați mai jos comanda `!pip install mnist` pentru a instala pachetul `mnist`."
   ]
  },
  {
   "cell_type": "code",
   "execution_count": 1,
   "metadata": {
    "colab": {},
    "colab_type": "code",
    "id": "dQiqJyO7E7Ek"
   },
   "outputs": [],
   "source": [
    "# !pip install mnist\n",
    "# import mnist\n",
    "\n",
    "import gzip\n",
    "import sys\n",
    "import pickle\n",
    "\n",
    "import urllib.request\n",
    "\n",
    "url = \"https://s3.amazonaws.com/img-datasets/mnist.pkl.gz\"\n",
    "filename = \"mnist.pkl.gz\"\n",
    "\n",
    "urllib.request.urlretrieve(url, filename)\n",
    "\n",
    "\n",
    "f = gzip.open('mnist.pkl.gz', 'rb')\n",
    "if sys.version_info < (3,):\n",
    "    data = pickle.load(f)\n",
    "else:\n",
    "    data = pickle.load(f, encoding='bytes')\n",
    "f.close()\n",
    "(train_imgs, train_labels), (test_imgs, test_labels) = data\n",
    "\n"
   ]
  },
  {
   "cell_type": "markdown",
   "metadata": {
    "colab_type": "text",
    "id": "ElGfqnPzuJuO"
   },
   "source": [
    "### Exemple din setul de date MNIST"
   ]
  },
  {
   "cell_type": "code",
   "execution_count": 2,
   "metadata": {
    "colab": {},
    "colab_type": "code",
    "id": "qeftJ_CpE7Eu"
   },
   "outputs": [],
   "source": [
    "from typing import List\n",
    "import numpy as np\n",
    "%matplotlib inline\n",
    "import matplotlib.pyplot as plt"
   ]
  },
  {
   "cell_type": "code",
   "execution_count": 3,
   "metadata": {
    "colab": {},
    "colab_type": "code",
    "id": "avJh9wQquJuU"
   },
   "outputs": [
    {
     "name": "stdout",
     "output_type": "stream",
     "text": [
      "Labels: [8 2 2 7 8 3 4 6 8 6 7 2 5 7 8]\n"
     ]
    },
    {
     "data": {
      "image/png": "[encoded data removed]",
      "text/plain": [
       "<Figure size 640x480 with 1 Axes>"
      ]
     },
     "metadata": {},
     "output_type": "display_data"
    }
   ],
   "source": [
    "idxs = np.random.randint(0, len(train_imgs), 15)\n",
    "imgs = np.concatenate(tuple(train_imgs[idx,:,:] for idx in idxs), axis=1)\n",
    "plt.imshow(imgs)\n",
    "print(\"Labels:\", train_labels[idxs])"
   ]
  },
  {
   "cell_type": "markdown",
   "metadata": {
    "colab_type": "text",
    "id": "KFP9QnUJuJuY"
   },
   "source": [
    "### Standardizarea datelor\n",
    "\n",
    "Datele de intrare (imaginile) vor fi rescalate pentru a avea media zero și deviația standard 1."
   ]
  },
  {
   "cell_type": "code",
   "execution_count": 4,
   "metadata": {
    "colab": {},
    "colab_type": "code",
    "id": "wWmt4XVxuJuZ"
   },
   "outputs": [],
   "source": [
    "mean, std  = train_imgs.mean(), train_imgs.std()\n",
    "train_imgs = (train_imgs - mean) / std\n",
    "test_imgs = (test_imgs - mean) / std"
   ]
  },
  {
   "cell_type": "markdown",
   "metadata": {},
   "source": [
    "Justificare:\n",
    "\n",
    "- __Media__ poate fi considerata diferenta dintre o imagine mai luminoasa si una mai intunecoasa, fapt ce nu ar trebui sa influenteze predictia retelei. Avand media zero, rețeaua va fi indiferentă la variatii in luminozitatea imaginilor. In caz contrar ar trebui sa isi modifice termenii de bias pentru a compensa diferentele.\n",
    "\n",
    "- __Varianta__ poate fi considerata diferenta dintre o imagine cu mai mult contrast si una cu mai putin contrast, din nou, diferente ce nu ar trebui sa afecteze predictia retelei."
   ]
  },
  {
   "cell_type": "markdown",
   "metadata": {
    "colab_type": "text",
    "id": "ZgERUA07IuSr"
   },
   "source": [
    "## 2. Construirea unei rețele de tip feed-forward"
   ]
  },
  {
   "cell_type": "markdown",
   "metadata": {
    "colab_type": "text",
    "id": "BE-V6sONuJud"
   },
   "source": [
    "### Notații\n",
    "  - dimensiunea datelor de intrare este $D = 28 * 28 = 784$, iar dimensiunea ieșirilor rețelei este $K=10$ (numărul de clase)\n",
    "  - rețeaua neurală va avea $L$ straturi\n",
    "  - $B$ va reprezenta dimensiunea batch-ului (numărul de exemple trecute în același timp prin rețea)\n",
    "  - Vom nota cu ${\\bf X} \\in {\\mathbb R}^{B \\times D}$ un batch de intrări $\\left\\lbrace {\\bf x}_0, {\\bf x}_1, \\dots {\\bf x}_B \\right\\rbrace$ și similar ${\\bf Y} \\in {\\mathbb R}^{B \\times K}$\n",
    "  - ${\\bf x}^{(l)}$ reprezintă intrările stratului $l$ (${\\bf x}^{(0)}$ va fi o imagine precum cele din setul MNIST de dimensiune $D$)\n",
    "  - ${\\bf y}^{(l)}$ reprezintă ieșirile stratului $l$ (${\\bf y}^{(L-1)}$ reprezintă ieșirile rețelei)\n",
    "  - ${\\bf \\theta}^{(l)}$ reprezintă parametrii stratului $l$\n",
    "  - ${\\cal L}$ reprezintă funcția de cost ( _negative log likelihood_ )\n",
    "  "
   ]
  },
  {
   "cell_type": "markdown",
   "metadata": {
    "colab_type": "text",
    "id": "6YTu4tS8uJue"
   },
   "source": [
    "### Straturile rețelei\n",
    "\n",
    "Unele straturi au parametri ce trebuie optimizați în timpul antrenării. Vom nota parametrii stratului $l$ cu $\\bf{\\theta}^{(l)}$.\n",
    "Fiecare strat pe care îl veți implementa va avea trei metode:\n",
    " - `forward` calculează și întoarce ${\\bf y}^{(l)} = f_l\\left({\\bf x}^{(l)}, {\\bf \\theta}^{(l)}\\right)$\n",
    " - `backward` primește $\\frac{\\partial {\\cal L}}{\\partial {\\bf y}^{(l)}}$, reține intern $\\frac{\\partial {\\cal L}}{\\partial {\\bf \\theta}^{(l)}}$ și întoarce $\\frac{\\partial {\\cal L}}{\\partial {\\bf x}^{(l)}}$\n",
    " - `update` modifică parametrii locali ${\\bf \\theta}^{(l)}$ folosing gradientul stocat $\\frac{\\partial{\\cal L}}{\\partial{\\bf \\theta}^{(l)}}$"
   ]
  },
  {
   "cell_type": "code",
   "execution_count": 5,
   "metadata": {
    "colab": {},
    "colab_type": "code",
    "id": "SW206j3euJuf"
   },
   "outputs": [],
   "source": [
    "class Layer:\n",
    "\n",
    "    def forward(self, x: np.ndarray) -> np.ndarray:\n",
    "        raise NotImplementedError\n",
    "        \n",
    "    def backward(self, x: np.ndarray, dy: np.ndarray) -> np.ndarray:\n",
    "        raise NotImplementedError\n",
    "        \n",
    "    def update(self, *args, **kwargs):\n",
    "        pass  # If a layer has no parameters, then this function does nothing"
   ]
  },
  {
   "cell_type": "markdown",
   "metadata": {
    "colab_type": "text",
    "id": "NIT6K4IduJuk"
   },
   "source": [
    "### Rețeaua neurală\n",
    "\n",
    "  * în faza `forward` ieșirile stratului $l$ devin intrările stratului $l+1$: ${\\bf x}^{(l+1)} = {\\bf y}^{(l)}$\n",
    "  * în faza `backward` gradientul în raport cu intrările stratului $l+1$ devine gradientul în raport cu ieșirile stratului $l$: $\\frac{\\partial {\\cal L}}{\\partial {\\bf y}^{(l)}}=\\frac{\\partial {\\cal L}}{\\partial {\\bf x}^{(l+1)}}$\n",
    "  \n",
    "**[Cerința 0]** Completați metoda `backward` din clasa `FeedForwardNetwork`."
   ]
  },
  {
   "cell_type": "code",
   "execution_count": 6,
   "metadata": {
    "colab": {},
    "colab_type": "code",
    "id": "wTn-g3KAuJul"
   },
   "outputs": [],
   "source": [
    "class FeedForwardNetwork:\n",
    "    \n",
    "    def __init__(self, layers: List[Layer]):\n",
    "        self.layers = layers\n",
    "        \n",
    "    def forward(self, x: np.ndarray, train: bool = True) -> np.ndarray:\n",
    "        self._inputs = []\n",
    "        for layer in self.layers:\n",
    "            if train:\n",
    "                self._inputs.append(x)\n",
    "            x = layer.forward(x)\n",
    "        return x\n",
    "    \n",
    "    def backward(self, dy: np.ndarray) -> np.ndarray:\n",
    "        # <0> : Calculati gradientul cu fiecare strat\n",
    "        # Pasi:\n",
    "        #   - iterati in ordine inversa prin straturile retelei si apelati pentru fiecare dintre ele metoda backward\n",
    "        #   - folositi self._inputs salvate la fiecare pas din forward pentru a calcula gradientul cu respectivul strat\n",
    "        #   - transmiteti mai departe valoarea returnata de metoda backward catre urmatorul strat\n",
    "        #   - incepeti cu gradientul fata de output (dy, primit ca argument).\n",
    "\n",
    "        for input, layer in zip(reversed(self._inputs), reversed(self.layers)):\n",
    "            dy = layer.backward(input, dy)\n",
    "\n",
    "        return dy\n",
    "    \n",
    "    def update(self, *args, **kwargs):\n",
    "        for layer in self.layers:\n",
    "            layer.update(*args, **kwargs)"
   ]
  },
  {
   "cell_type": "markdown",
   "metadata": {
    "colab_type": "text",
    "id": "VyQLVM4quJup"
   },
   "source": [
    "### Stratul linear\n",
    "\n",
    "Un strat linear cu $M$ intrări și $N$ ieșiri are parametrii $\\theta = \\left( {\\bf W}, {\\bf b} \\right)$ unde ${\\bf W} \\in \\mathbb{R}^{M \\times N}$ și ${\\bf b} \\in \\mathbb{R}^{N}$.\n",
    "\n",
    "Pentru un singur exemlu ${\\bf x} \\in {\\mathbb R}^{M}$:\n",
    "$$ {\\bf y} = {\\bf x}^{\\intercal}{\\bf W} + {\\bf b} $$\n",
    "\n",
    "**[Cerința 1]** Implementați metoda `forward` care primește un batch de exemple $X \\in {\\mathbb R}^{B\\times M}$ și întoarce ieșirile corespunzătoare: $Y \\in {\\mathbb R}^{B\\times N}$.\n",
    "\n",
    "**[Cerința 2]** Implementați metoda `backward` care primește un batch de exemple $X \\in {\\mathbb R}^{B\\times M}$ și gradientul în raport cu ieșirile $\\frac{\\partial {\\cal L}}{\\partial {\\bf Y}}$ și realizează două lucruri:\n",
    "  - calculează și salvează intern gradientul $\\frac{\\partial {\\cal L}}{\\partial {\\bf \\theta}}$\n",
    "    - `self.dweight =` $ X^T \\frac{\\partial \\mathcal{L}}{\\partial \\mathbf{Y}} $\n",
    "    \n",
    "    - `self.dbias =` $ \\sum_{i=1}^{batch size} \\frac{\\partial \\mathcal{L}}{\\partial \\mathbf{Y}_i} $\n",
    "\n",
    "  - calculează și întoarce gradientul $\\frac{\\partial {\\cal L}}{\\partial {\\bf X}}$\n",
    "    \n",
    "    - `return ` $ \\frac{\\partial \\mathcal{L}}{\\partial \\mathbf{Y}} \\theta^T $\n"
   ]
  },
  {
   "cell_type": "code",
   "execution_count": 7,
   "metadata": {
    "colab": {},
    "colab_type": "code",
    "id": "S47ZsyKdE7FF"
   },
   "outputs": [],
   "source": [
    "class Linear(Layer):\n",
    "    \n",
    "    def __init__(self, insize: int, outsize: int) -> None:\n",
    "        bound = np.sqrt(6. / insize)\n",
    "        self.weight = np.random.uniform(-bound, bound, (insize, outsize))\n",
    "        self.bias = np.zeros((outsize,))\n",
    "        \n",
    "        self.dweight = np.zeros_like(self.weight)\n",
    "        self.dbias = np.zeros_like(self.bias)\n",
    "   \n",
    "    def forward(self, x: np.ndarray) -> np.ndarray:\n",
    "        # <1>: calculați ieșirea unui strat liniar\n",
    "        # x - este o matrice numpy B x M, unde \n",
    "        #    B - dimensiunea batchului, \n",
    "        #    M - dimensiunea caracteristicilor de intrare (insize)\n",
    "        # Sugestie: folosiți înmulțirea matricială numpy pentru a implementa propagarea înainte într-o singură trecere\n",
    "        # pentru toate exemplele din batch\n",
    "        \n",
    "        return np.dot(x, self.weight) + self.bias\n",
    "    \n",
    "    def backward(self, x: np.ndarray, dy: np.ndarray) -> np.ndarray:\n",
    "        # <2> : calculați dweight, dbias și returnați dx\n",
    "        # x - este o matrice numpy B x M, unde \n",
    "        #     B - dimensiunea batchului, \n",
    "        #     M - dimensiunea caracteristicilor (features) de intrare (insize)\n",
    "        # dy - este o matrice numpy B x N, unde \n",
    "        #     B - dimensiunea batchului, \n",
    "        #     N - dimensiunea caracteristicilor (features) de ieșire (outsize)\n",
    "        # Sugestie: folosiți înmulțirea matricială numpy pentru a implementa propagarea înapoi într-o singură trecere \n",
    "        #       pentru self.dweight\n",
    "        # Sugestie: folosiți numpy.sum pentru a implementa propagarea înapoi într-o singură trecere pentru self.dbias\n",
    "\n",
    "        self.dweight = np.dot(x.T, dy)\n",
    "        self.dbias = np.sum(dy, axis=0)\n",
    "        return np.dot(dy, self.weight.T)\n",
    "    \n",
    "    def update(self, mode='SGD', lr=0.001, mu=0.9):\n",
    "        if mode == 'SGD':\n",
    "            self.weight -= lr * self.dweight\n",
    "            self.bias -= lr * self.dbias\n",
    "        else:\n",
    "            raise ValueError('mode should be SGD, not ' + str(mode))"
   ]
  },
  {
   "cell_type": "markdown",
   "metadata": {
    "colab_type": "text",
    "id": "QgfHlVgDuJut"
   },
   "source": [
    "### Functia Rectified Linear Unit\n",
    "\n",
    "Stratul ReLU aplică următoare următoare transformare neliniară element cu element  (vezi grafic):\n",
    "$$y = \\max\\left(x, 0\\right)$$\n",
    "\n",
    "Prin urmare gradientul (derivata) functiei ReLU este:\n",
    "\n",
    "$$ \\text{ReLU}'(x) = \\begin{cases} \n",
    "0 & \\text{pentru } x < 0 \\\\\n",
    "1 & \\text{pentru } x > 0 \\\\\n",
    "\\text{nedefinit} & \\text{pt } x = 0 \n",
    "\\end{cases} $$\n",
    "\n",
    "Pentru a evita portiunea nedefinita, conventia in ML este sa consideram ca gradientul in 0 este 0 (uneori considerat si ca 0.5). Astfel, gradientul devine:\n",
    "\n",
    "$$ \\text{ReLU}'(x) = \\begin{cases} \n",
    "0 & \\text{pentru } x \\leq 0 \\\\\n",
    "1 & \\text{pentru } x > 0 \n",
    "\\end{cases} $$\n",
    "\n",
    "**[Cerințele 3-4]** Implementați metodele `forward` și `backward` pentru un strat de activare ReLU.\n"
   ]
  },
  {
   "cell_type": "code",
   "execution_count": 8,
   "metadata": {
    "colab": {},
    "colab_type": "code",
    "id": "QOR1DJiwE7FJ"
   },
   "outputs": [],
   "source": [
    "class ReLU(Layer):\n",
    "    \n",
    "    def __init__(self) -> None:\n",
    "        pass\n",
    "    \n",
    "    def forward(self, x: np.ndarray) -> np.ndarray:\n",
    "        # <3> : Calculați ieșirea unei unități liniare rectificate\n",
    "        return np.maximum(x, 0)\n",
    "    \n",
    "    def backward(self, x: np.ndarray, dy: np.ndarray) -> np.ndarray:\n",
    "        # <4> : Calculați gradientul față de x\n",
    "        # x - este o matrice numpy B x M, unde B - dimensiunea batchului, M - dimensiunea caracteristicilor\n",
    "        # Sugestie: utilizați indexarea logică numpy pentru a determina unde intrarea (x) este negativă\n",
    "        #       și faceți gradientul 0 pentru acele exemple\n",
    "        return (x > 0) * dy"
   ]
  },
  {
   "cell_type": "markdown",
   "metadata": {
    "colab_type": "text",
    "id": "4NrWBTmbI9gW"
   },
   "source": [
    "## 3. Funcția de cost\n",
    "\n",
    "Funcția de cost pe care o vom folosi este _cross entropy_ care combină un _softmax_ și un cost _negative log-likelihood_. (Matematica la tablă)\n",
    "\n",
    "Dacă ${\\bf y}$ reprezintă ieșrile rețelei pentru o intrare ${\\bf x}$, atunci ${\\bf y}$ va avea o dimensiune egală cu numărul de clase $K$. Atunci probabilitatea (prezisă de rețea) ca exemplul ${\\bf x}$ să aparțină clasei $k$ va fi $p_k$:\n",
    "$$\\begin{align}\n",
    "p_k &= \\frac{e^{y_k}}{\\sum_j e^{y_j}} & & \\text{softmax} \\\\\n",
    "{\\cal L} &= -\\log p_t & & \\text{negative log-likelihood}\n",
    "\\end{align}$$\n",
    "\n",
    "\n",
    "Pentru un batch de dimensiune $B$ se va face media costurilor corespunzătare fiecărui exemplu ($p_k$ este o funcție de ${\\bf x}$ și ${\\bf \\theta}$):\n",
    "\n",
    "$$ {\\cal L} = \\frac{1}{B} \\sum_{({\\bf x}, {\\bf t}) \\in Batch} -\\log p_t \\left({\\bf x}, \\theta\\right) $$\n",
    "\n",
    "Derivata softmax-ului în raport cu logits se calculează astfel:\n",
    "\n",
    "$$\n",
    "\\frac{\\partial p_k}{\\partial y_i} = p_k (\\delta_{ki} - p_i)\n",
    "$$\n",
    "\n",
    "unde $\\delta_{ki}$ este delta Kronecker, care este 1 dacă $k = i$ și 0 altfel:\n",
    "\n",
    "$$\n",
    "\\delta_{ij} = \n",
    "\\begin{cases} \n",
    "1 & \\text{pentru } i = j \\\\\n",
    "0 & \\text{pentru } i \\neq j\n",
    "\\end{cases}\n",
    "$$\n",
    "\n",
    "Derivata funcției de cost în raport cu logit-ul pentru clasa $i$ devine:\n",
    "\n",
    "$$\n",
    "\\frac{\\partial {\\cal L}}{\\partial y_i} = p_i - \\delta_{ti}\n",
    "$$\n",
    "\n",
    "pentru orice clasă $i$, unde $t$ este clasa adevărată.\n",
    "\n",
    "În contextul unui batch de exemple, formula pentru calculul gradientului mediu în raport cu fiecare parametru $\\theta$ al rețelei este:\n",
    "\n",
    "$$\n",
    "\\frac{\\partial {\\cal L}}{\\partial \\theta} = \\frac{1}{B} \\sum_{({\\bf x}, {\\bf t}) \\in Batch} \\sum_{i} \\left(p_i - \\delta_{ti}\\right) \\frac{\\partial y_i}{\\partial \\theta}\n",
    "$$\n",
    "\n",
    "Unde $\\frac{\\partial y_i}{\\partial \\theta}$ este gradientul logit-ului $y_i$ în raport cu parametrii $\\theta$.\n",
    "\n",
    "\n",
    "**[Cerințele 5-6]** Implementați metodele `forward` și `backward` pentru un funcția de cost _cross-entropy_ (o vom privi ca pe un strat suplimentar)."
   ]
  },
  {
   "cell_type": "code",
   "execution_count": 9,
   "metadata": {
    "colab": {},
    "colab_type": "code",
    "id": "YDXiDEu8E7FW"
   },
   "outputs": [],
   "source": [
    "class CrossEntropy:\n",
    "    \n",
    "    def __init__(self):\n",
    "        pass\n",
    "    \n",
    "    def softmax(self, x):\n",
    "        exps = np.exp(x)\n",
    "        return exps / np.sum(exps,axis = 1).reshape(-1,1)\n",
    "\n",
    "    def forward(self, y: np.ndarray, t: np.ndarray) -> float:\n",
    "        # <5> : Calculați probabilitatea logaritmică negativă\n",
    "        # y - matrice numpy (B, K), unde B - dimensiunea batch-ului, K - numărul de clase (numărul de logaritmi)\n",
    "        # t - vector numpy (B, ), unde B - dimensiunea batch-ului, care indică clasa corectă\n",
    "        # Pasi: \n",
    "        #   - folositi softmax() pe intrari pentru a transforma logits (y) in probabilitati\n",
    "        #   - selectati probabilitatile care corespund clasei reale (t)\n",
    "        #   - calculati -log() peste probabilitati\n",
    "        #   - impartiti la batch size pentru a calcula valoarea medie peste toate exemplele din batch\n",
    "\n",
    "        dy = self.softmax(y)\n",
    "        dy = -np.log(dy[np.arange(len(dy)), t])\n",
    "        return np.mean(dy)\n",
    "    \n",
    "    def backward(self, y: np.ndarray, t: np.ndarray) -> np.ndarray:\n",
    "        # <6> : Calculati dl/dy\n",
    "        # Pasi: \n",
    "        #   - calculati softmax(y) pentru a determina probabilitatea ca fiecare element sa apartina clasei i\n",
    "        #   - ajustati gradientii pentru clasa corecta: aplicati scaderea dL/dy_i = pi - delta_ti conform formulelor de mai sus\n",
    "        #   - impartiti la batch size pentru a calcula valoarea medie peste toate exemplele din batch\n",
    "\n",
    "        dy = self.softmax(y)\n",
    "        delta = np.zeros_like(dy)\n",
    "        delta[np.arange(len(dy)), t] = 1\n",
    "        return (dy - delta) / len(dy)\n"
   ]
  },
  {
   "cell_type": "markdown",
   "metadata": {
    "colab_type": "text",
    "id": "Uz9qM5eHJLNw"
   },
   "source": [
    "### Acuratețea\n",
    "\n",
    "**[Cerința 7]** Calculați acuratețea predicțiilor ${\\bf y}$ în raport cu clasele corecte ${\\bf t}$ (rația exemplelor pentru care clasa corectă a avut probabilitatea prezisă maximă)."
   ]
  },
  {
   "cell_type": "code",
   "execution_count": 10,
   "metadata": {
    "colab": {},
    "colab_type": "code",
    "id": "3nYfVCBSE7Fe"
   },
   "outputs": [],
   "source": [
    "def accuracy(y: np.ndarray, t: np.ndarray) -> float:\n",
    "    # <7> : Calculati acuratetea\n",
    "    # Pasi: \n",
    "    # - folosiți np.argmax() pentru a afla predictiile retelei\n",
    "    # - folositi np.sum() pentru a numara cate sunt corecte comparand cu ground truth (t)\n",
    "    # - impartiti la batch size pentru a calcula valoarea medie peste toate exemplele din batch\n",
    "    return np.sum(np.argmax(y, 1) == t) / len(t)"
   ]
  },
  {
   "cell_type": "markdown",
   "metadata": {
    "colab_type": "text",
    "id": "J7zGgHlduJvA"
   },
   "source": [
    "## Teste\n",
    "\n",
    "Executați ```test0() and test16() and test7()``` pentru a rula testele."
   ]
  },
  {
   "cell_type": "code",
   "execution_count": 11,
   "metadata": {
    "colab": {},
    "colab_type": "code",
    "id": "-YaLsPBfuJvB"
   },
   "outputs": [],
   "source": [
    "def test0():\n",
    "    fakex = [np.random.randn(128, n) for n in [20, 40, 30, 10]]\n",
    "\n",
    "    class DummyLayer:\n",
    "        def __init__(self, idx):\n",
    "            self.idx = idx\n",
    "\n",
    "        def forward(self, x):\n",
    "            return fakex[self.idx + 1]\n",
    "\n",
    "        def backward(self, x, dldy):\n",
    "            if not np.allclose(x, fakex[self.idx]):\n",
    "                raise Exception(\"Intrări greșite în backward\")\n",
    "            if not np.allclose(dldy, -fakex[self.idx+1]):\n",
    "                raise Exception(\"Intrări greșite în backward\")\n",
    "            return -x\n",
    "\n",
    "    try:\n",
    "        net = FeedForwardNetwork([DummyLayer(i) for i in range(3)])\n",
    "        net.forward(fakex[0])\n",
    "        net.backward(-fakex[-1])\n",
    "        print(\"Cerința 0 rezolvată corect!\")\n",
    "        return True\n",
    "    except NotImplementedError as e:\n",
    "        print(\"Cerința 0 nu a fost implementată!\")\n",
    "    except Exception as e:\n",
    "        print(e)\n",
    "        print(\"Cerința 0 are erori.\")\n",
    "        \n",
    "    return False\n",
    "        \n",
    "def test16():\n",
    "    __x = np.array([[-3.0731, -1.9081, -0.7283, -0.0757, -0.7577],\n",
    "                    [ 2.4041, -1.1506, -0.5924,  1.3016,  1.0882],\n",
    "                    [-0.5254,  0.3519, -0.9633, -2.7393, -0.9745]])\n",
    "    __w = np.array([[ 1.3214, -0.5886, -0.0351,  1.2084,  1.2661, -0.9979, -0.1172],\n",
    "                    [-0.4022,  0.1168,  0.9020, -2.0098, -0.5409, -0.3876, -0.1719],\n",
    "                    [-1.1125, -0.5556,  0.8843,  0.6995,  0.4929,  0.7523,  0.1832],\n",
    "                    [ 0.2267,  0.6757,  1.1286, -0.3218,  1.6934, -0.1782, -0.3467],\n",
    "                    [-0.6062,  0.4426,  0.5090,  0.4772, -0.5721,  0.8658, -0.5999]])\n",
    "    __b = np.array([ 0.3335,  0.5051, -0.1393,  1.2116,  1.7836, -0.6597,  0.3553])\n",
    "    __y = np.array([[-1.70746622, 2.10919555, -2.8676804, 0.48630531, -1.1288499, 1.95609904, 1.39083457],\n",
    "                    [4.26749994, 0.64592254, 0.23749513, 6.11524068, 6.73936681, -2.34822291, -0.94127596],\n",
    "                    [0.5391161, -0.89159687, -4.24288533, -0.38789499, -3.62798139, -1.35206921, 1.71422657]])\n",
    "    \n",
    "    __dy = np.array([[ 1.5555, -0.8978, -0.2917, -0.3868, -0.8257, -0.3491, -0.8658],\n",
    "                     [ 1.1146,  1.4914,  0.9591, -0.2613,  0.5887,  0.4794,  0.8565],\n",
    "                     [-0.1552, -1.6319,  1.7642,  1.0503,  0.1035 , -0.7186, -0.9782]])\n",
    "    __dx = np.array([[ 1.53113221,  0.51455541, -2.588423,   -1.49460989, -0.98384103],\n",
    "                     [ 0.41215308,  0.46469672, -0.59552791,  3.04147235, -0.08763244],\n",
    "                     [ 2.92549149, -0.25707023,  2.70531668,  1.15769427,  0.67643021]])\n",
    "    __dw = np.array(\n",
    "        [[-2.01905511,  7.20190418,  2.2752849,   0.00865613,  3.89837344,  2.60289719, 5.23374791],\n",
    "         [-4.30512319, -0.57717827,  0.07387429,  1.40830543,  0.9345816,  -0.13835527, 0.3223155 ],\n",
    "         [-1.64365553,  1.34237165, -2.05517959, -0.57525343,  0.15290988,  0.66248035, 1.0654716 ],\n",
    "         [ 1.75815137,  6.47943337, -3.56222681, -3.18791411,  0.54523986,  2.61887489, 3.85994472],\n",
    "         [ 0.18554777,  3.89349109, -0.45449919, -1.01478565,  1.16539548,  1.48647185, 2.54131586]]\n",
    "    )\n",
    "    __db = np.array([ 2.5149, -1.0383,  2.4316,  0.4022, -0.1335, -0.5883, -0.9875])\n",
    "    \n",
    "    __y_relu = np.array([[0, 2.10919555, 0, 0.48630531, 0, 1.95609904, 1.39083457],\n",
    "                         [4.26749994, 0.64592254, 0.23749513, 6.11524068, 6.73936681, 0, 0],\n",
    "                         [0.5391161, 0, 0, 0, 0, 0, 1.71422657]])\n",
    "    __drelu = np.array([[0, -0.8978, 0, -0.3868, 0, -0.3491, -0.8658],\n",
    "                        [ 1.1146,  1.4914,  0.9591, -0.2613,  0.5887,  0,  0],\n",
    "                        [-0.1552, 0,  0,  0,  0 , 0, -0.9782]])\n",
    "    \n",
    "    __t = np.array([3, 1, 2])\n",
    "    __dl_dy = np.array(\n",
    "        [[ 2.80870645e-03,  1.27661957e-01,  8.80302096e-04, -3.08142112e-01,\n",
    "           5.00952130e-03,  1.09539948e-01,  6.22416775e-02],\n",
    "         [ 1.73238217e-02, -3.32870086e-01,  3.07917841e-04,  1.09927743e-01,\n",
    "           2.05192672e-01,  2.31991342e-05,  9.47329526e-05],\n",
    "         [ 6.60308812e-02,  1.57905168e-02, -3.32780047e-01,  2.61307149e-02,\n",
    "           1.02329216e-03,  9.96358772e-03,  2.13841054e-01]]\n",
    "    )\n",
    "\n",
    "\n",
    "    try:\n",
    "        lin = Linear(5, 7)\n",
    "        lin.weight = __w.copy()\n",
    "        lin.bias = __b.copy()\n",
    "        y = lin.forward(__x.copy())\n",
    "        if not np.allclose(y, __y):\n",
    "            raise Exception(\"Ieșiri greșite\")\n",
    "        print(\"Cerința 1 rezolvată corect!\")\n",
    "    except NotImplementedError as e:\n",
    "        print(\"Cerința 1 nu a fost implementată!\")\n",
    "        return False\n",
    "    except Exception as e:\n",
    "        print(e)\n",
    "        print(\"Cerința 1 are erori.\")\n",
    "        return False\n",
    "        \n",
    "    try:\n",
    "        dx = lin.backward(__x.copy(), __dy.copy())\n",
    "        if not np.allclose(dx, __dx):\n",
    "            raise ValueError(\"dL/dx greșit\")\n",
    "        if not np.allclose(lin.dweight, __dw):\n",
    "            raise ValueError(\"dL/dw greșit\")\n",
    "        if not np.allclose(lin.dbias, __db):\n",
    "            raise ValueError(\"dL/db greșit\")\n",
    "        print(\"Cerința 2 rezolvată corect!\")\n",
    "    except NotImplementedError as e:\n",
    "        print(\"Cerința 2 nu a fost implementată!\")\n",
    "        return False\n",
    "    except Exception as e:\n",
    "        print(e)\n",
    "        print(\"Cerința 2 are erori.\")\n",
    "        return False\n",
    "\n",
    "    try:\n",
    "        relu = ReLU()\n",
    "        y_relu = relu.forward(__y.copy())\n",
    "        if not np.allclose(y_relu, __y_relu):\n",
    "            raise ValueError(\"ReLU(x) greșit\")\n",
    "        print(\"Cerința 3 rezolvată corect!\")\n",
    "    except NotImplementedError as e:\n",
    "        print(\"Cerința 3 nu a fost implementată!\")\n",
    "        return False\n",
    "    except Exception as e:\n",
    "        print(e)\n",
    "        print(\"Cerința 3 are erori.\")\n",
    "        return False\n",
    "            \n",
    "    try:\n",
    "        relu = ReLU()\n",
    "        drelu = relu.backward(__y.copy(), __dy.copy())\n",
    "        if not np.allclose(drelu, __drelu):\n",
    "            raise ValueError(\"ReLU.backward greșit\")\n",
    "        print(\"Cerința 4 rezolvată corect!\")\n",
    "    except NotImplementedError as e:\n",
    "        print(\"Cerința 4 nu a fost implementată!\")\n",
    "        return False\n",
    "    except Exception as e:\n",
    "        print(e)\n",
    "        print(\"Cerința 4 are erori.\")\n",
    "        return False\n",
    "    \n",
    "    try:\n",
    "        ce = CrossEntropy()\n",
    "        loss = ce.forward(__y.copy(), __t.copy())\n",
    "        if np.abs(loss - 5.1874357237332545) > 1e-6:\n",
    "            raise ValueError(f\"Valoare greșită nll: {loss:f} în loc de 5.1874357237332545\")\n",
    "        print(\"Cerința 5 rezolvată corect!\")\n",
    "    except NotImplementedError as e:\n",
    "        print(\"Cerința 5 nu a fost implementată!\")\n",
    "        return False\n",
    "    except Exception as e:\n",
    "        print(e)\n",
    "        print(\"Cerința 5 are erori.\")\n",
    "        return False\n",
    "    \n",
    "    try:\n",
    "        ce = CrossEntropy()\n",
    "        dl_dy = ce.backward(__y.copy(), __t.copy())\n",
    "        if not np.allclose(dl_dy, __dl_dy) > 1e-6:\n",
    "            raise ValueError(f\"Valoare greșită pentru dNLL/dy\")\n",
    "        print(\"Cerința 6 rezolvată corect!\")\n",
    "    except NotImplementedError as e:\n",
    "        print(\"Cerința 6 nu a fost implementată!\")\n",
    "        return False\n",
    "    except Exception as e:\n",
    "        print(e)\n",
    "        print(\"Cerința 6 are erori.\")\n",
    "        return False\n",
    "    \n",
    "    return True\n",
    "\n",
    "def test7():  # Acuratețea\n",
    "    y = np.array([[ 0.6460014 , -0.05876393, -1.36496105, -0.07057596,  0.54938383],\n",
    "                  [-0.8033942 , -0.51753041,  0.92278036, -1.66303585, -0.36537512],\n",
    "                  [-1.3710599 ,  0.65598193, -0.75527154,  1.21609284,  0.08284123],\n",
    "                  [-1.24696857,  0.32676634,  0.09572539,  1.38316398, -0.14110726],\n",
    "                  [-2.01698315,  2.06123375, -1.68003675,  0.0504592 ,  0.04427597],\n",
    "                  [-0.8893451 ,  1.74695148, -0.29394473,  0.74203068, -0.75185261],\n",
    "                  [ 1.34126333, -0.5272606 ,  1.46458319,  1.59529987,  1.86884676],\n",
    "                  [-0.58987297,  1.10900165, -0.71208103,  0.20478154, -1.26693567],\n",
    "                  [-2.17730677, -1.36147532, -1.49679182,  0.24812177, -0.13368035],\n",
    "                  [-0.48730599,  1.31710647,  0.41765538,  1.19869192, -0.05301611],\n",
    "                  [-0.10655224, -0.21174034,  1.31548647, -0.57990281,  0.85868472],\n",
    "                  [-0.32055613, -2.17817118, -0.28488692,  1.62977524,  0.25150929],\n",
    "                  [ 0.07704727,  1.67710047,  1.83368441, -0.45456845, -0.74474969]])\n",
    "    t = np.array([0, 2, 3, 3, 1, 0, 1, 1, 2, 1, 2, 3, 2])\n",
    "    try:\n",
    "        acc = accuracy(y, t)\n",
    "        if np.abs(acc - 0.7692307692307693) > 1e-7:\n",
    "            raise ValueError(f\"{acc:f} != 10/13\")\n",
    "        print(f\"Cerința 7 rezolvată corect!\")\n",
    "    except NotImplementedError as e:\n",
    "        print(\"Cerința 7 nu a fost implementată!\")\n",
    "    except Exception as e:\n",
    "        print(e)\n",
    "        print(\"Cerința 7 are erori.\")\n",
    "    "
   ]
  },
  {
   "cell_type": "code",
   "execution_count": 12,
   "metadata": {
    "colab": {},
    "colab_type": "code",
    "id": "nWQ2e7C4uJvD"
   },
   "outputs": [
    {
     "name": "stdout",
     "output_type": "stream",
     "text": [
      "Cerința 0 rezolvată corect!\n",
      "Cerința 1 rezolvată corect!\n",
      "Cerința 2 rezolvată corect!\n",
      "Cerința 3 rezolvată corect!\n",
      "Cerința 4 rezolvată corect!\n",
      "Cerința 5 rezolvată corect!\n",
      "Cerința 6 rezolvată corect!\n",
      "Cerința 7 rezolvată corect!\n"
     ]
    }
   ],
   "source": [
    "test0() and test16() and test7()"
   ]
  },
  {
   "cell_type": "markdown",
   "metadata": {
    "colab_type": "text",
    "id": "mIhtzd2gJQF2"
   },
   "source": [
    "## 4. Antrenarea rețelei neurale\n",
    "\n",
    "**[Cerința 8]** Completați codul de mai jos pentru a calcula gradientul funcției de cost pentru batchul ales și parametrii curenți ai rețelei.\n",
    "\n",
    "_Indiciu_: trebuie să apelați metodele `forward` și `backward` ale rețelei neurale și ale funcției de cost.\n"
   ]
  },
  {
   "cell_type": "code",
   "execution_count": 13,
   "metadata": {
    "colab": {},
    "colab_type": "code",
    "id": "HTbmZv3YE7Fs"
   },
   "outputs": [
    {
     "name": "stdout",
     "output_type": "stream",
     "text": [
      "Epoch 01 | Batch 468 | Train NLL:  0.541 | Train Acc:  86.46% | Test NLL:  0.411 | Test Acc: 88.06%\n",
      "Epoch 02 | Batch 468 | Train NLL:  0.410 | Train Acc:  92.71% | Test NLL:  0.328 | Test Acc: 90.40%\n",
      "Epoch 03 | Batch 468 | Train NLL:  0.358 | Train Acc:  92.71% | Test NLL:  0.290 | Test Acc: 91.52%\n",
      "Epoch 04 | Batch 468 | Train NLL:  0.326 | Train Acc:  93.75% | Test NLL:  0.266 | Test Acc: 92.24%\n",
      "Epoch 05 | Batch 468 | Train NLL:  0.304 | Train Acc:  93.75% | Test NLL:  0.249 | Test Acc: 92.72%\n",
      "Epoch 06 | Batch 468 | Train NLL:  0.287 | Train Acc:  94.79% | Test NLL:  0.235 | Test Acc: 93.07%\n",
      "Epoch 07 | Batch 468 | Train NLL:  0.273 | Train Acc:  96.88% | Test NLL:  0.224 | Test Acc: 93.44%\n",
      "Epoch 08 | Batch 468 | Train NLL:  0.260 | Train Acc:  96.88% | Test NLL:  0.214 | Test Acc: 93.66%\n",
      "Epoch 09 | Batch 468 | Train NLL:  0.250 | Train Acc:  96.88% | Test NLL:  0.205 | Test Acc: 93.98%\n",
      "Epoch 10 | Batch 468 | Train NLL:  0.241 | Train Acc:  96.88% | Test NLL:  0.198 | Test Acc: 94.19%\n",
      "Epoch 11 | Batch 468 | Train NLL:  0.234 | Train Acc:  96.88% | Test NLL:  0.191 | Test Acc: 94.38%\n",
      "Epoch 12 | Batch 468 | Train NLL:  0.227 | Train Acc:  96.88% | Test NLL:  0.185 | Test Acc: 94.53%\n",
      "Epoch 13 | Batch 468 | Train NLL:  0.221 | Train Acc:  96.88% | Test NLL:  0.180 | Test Acc: 94.62%\n",
      "Epoch 14 | Batch 468 | Train NLL:  0.216 | Train Acc:  96.88% | Test NLL:  0.175 | Test Acc: 94.84%\n",
      "Epoch 15 | Batch 468 | Train NLL:  0.212 | Train Acc:  96.88% | Test NLL:  0.170 | Test Acc: 94.93%\n",
      "Epoch 16 | Batch 468 | Train NLL:  0.208 | Train Acc:  97.92% | Test NLL:  0.166 | Test Acc: 95.09%\n",
      "Epoch 17 | Batch 468 | Train NLL:  0.204 | Train Acc:  97.92% | Test NLL:  0.162 | Test Acc: 95.16%\n",
      "Epoch 18 | Batch 468 | Train NLL:  0.200 | Train Acc:  97.92% | Test NLL:  0.158 | Test Acc: 95.31%\n",
      "Epoch 19 | Batch 468 | Train NLL:  0.197 | Train Acc:  97.92% | Test NLL:  0.155 | Test Acc: 95.41%\n",
      "Epoch 20 | Batch 468 | Train NLL:  0.194 | Train Acc:  97.92% | Test NLL:  0.151 | Test Acc: 95.48%\n"
     ]
    }
   ],
   "source": [
    "BATCH_SIZE = 128\n",
    "HIDDEN_UNITS = 300\n",
    "EPOCHS_NO = 20\n",
    "\n",
    "optimize_args = {'mode': 'SGD', 'lr': .005}\n",
    "\n",
    "net = FeedForwardNetwork([Linear(784, HIDDEN_UNITS),\n",
    "                          ReLU(),\n",
    "                          Linear(HIDDEN_UNITS, 10)])\n",
    "cost_function = CrossEntropy()\n",
    "\n",
    "for epoch in range(EPOCHS_NO):\n",
    "    for b_no, idx in enumerate(range(0, len(train_imgs), BATCH_SIZE)):\n",
    "        # 1. Pregatim urmatorul batch\n",
    "        x = train_imgs[idx:idx + BATCH_SIZE,:,:].reshape(-1, 784)\n",
    "        t = train_labels[idx:idx + BATCH_SIZE]\n",
    "        \n",
    "        # 2. Calculam gradientul\n",
    "        # TODO <8>:\n",
    "        # Hint: propagam batch-ul `x` prin reteaua `net`\n",
    "        #       calculam eroarea pe baza iesirii retelei, folosind `cost_function` \n",
    "        #       obtinem gradientul erorii in raport cu iesirea retelei, folosind `backward` pentru `cost_function`\n",
    "        #       obtinem gradientul in raport cu ponderile retelei `net` folosind `backward` pentru `net`\n",
    "        \n",
    "        y = net.forward(x)\n",
    "        loss = cost_function.forward(y, t)\n",
    "        dy = cost_function.backward(y, t)\n",
    "        net.backward(dy)\n",
    "        \n",
    "        # 3. Actualizam parametrii retelei\n",
    "        net.update(**optimize_args)\n",
    "        \n",
    "        print(f'\\rEpoch {epoch + 1:02d} '\n",
    "              f'| Batch {b_no:03d} '\n",
    "              f'| Train NLL: {loss:6.3f} '\n",
    "              f'| Train Acc: {accuracy(y, t) * 100:6.2f}% ', end='')\n",
    "\n",
    "    y = net.forward(test_imgs.reshape(-1, 784), train=False)\n",
    "    test_nll = cost_function.forward(y, test_labels)\n",
    "    print(f'| Test NLL: {test_nll:6.3f} '\n",
    "          f'| Test Acc: {accuracy(y, test_labels) * 100:3.2f}%')"
   ]
  }
 ],
 "metadata": {
  "colab": {
   "collapsed_sections": [],
   "include_colab_link": true,
   "name": "Laborator 8",
   "provenance": []
  },
  "kernelspec": {
   "display_name": "Python 3 (ipykernel)",
   "language": "python",
   "name": "python3"
  },
  "language_info": {
   "codemirror_mode": {
    "name": "ipython",
    "version": 3
   },
   "file_extension": ".py",
   "mimetype": "text/x-python",
   "name": "python",
   "nbconvert_exporter": "python",
   "pygments_lexer": "ipython3",
   "version": "3.12.3"
  }
 },
 "nbformat": 4,
 "nbformat_minor": 1
}
